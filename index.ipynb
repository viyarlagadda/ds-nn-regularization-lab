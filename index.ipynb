{
 "cells": [
  {
   "cell_type": "markdown",
   "metadata": {},
   "source": [
    "# Regularization and Optimization Lab\n",
    "\n",
    "## Objective\n",
    "\n",
    "In this lab, we'll gain experience detecting and dealing with a ANN model that is overfitting using various regularization and hyperparameter tuning techniques!"
   ]
  },
  {
   "cell_type": "markdown",
   "metadata": {},
   "source": [
    "## Getting Started\n",
    "\n",
    "In this lab, we'll work with a large dataset of customer complaints to a bank, with the goal of predicting what product the customer is complaining about based on the text of their complaint.  There are 7 different possible products that we can predict, making this a multi-class classification task. \n",
    "\n",
    "\n",
    "#### Preprocessing our Data Set\n",
    "We'll start by preprocessing our dataset by tokenizing the complaints and limiting the number of words we consider to reduce dimensionality. \n",
    "\n",
    "#### Building our Tuning our Model\n",
    "Once we have preprocessed our data set, we'll build a model and explore the various ways that we can reduce overfitting using the following strategies:\n",
    "- Early stopping to minimize the discrepancy between train and test accuracy.\n",
    "- L1 and L2 regularization.\n",
    "- Dropout regularization.\n",
    "- Using more data.\n",
    "\n",
    "\n",
    "**_Let's Get Started!_**"
   ]
  },
  {
   "cell_type": "markdown",
   "metadata": {},
   "source": [
    "## 2. Preprocessing the Bank Complaints Data Set"
   ]
  },
  {
   "cell_type": "markdown",
   "metadata": {},
   "source": [
    "### 2.1 Import the libraries and take a sample\n",
    "\n",
    "Run the cell below to import everything we'll need for this lab. "
   ]
  },
  {
   "cell_type": "code",
   "execution_count": 4,
   "metadata": {},
   "outputs": [
    {
     "name": "stdout",
     "output_type": "stream",
     "text": [
      "Collecting tensorflow\n",
      "  Downloading tensorflow-2.11.0-cp39-cp39-win_amd64.whl (1.9 kB)\n",
      "Collecting tensorflow-intel==2.11.0\n",
      "  Downloading tensorflow_intel-2.11.0-cp39-cp39-win_amd64.whl (266.3 MB)\n",
      "Collecting opt-einsum>=2.3.2\n",
      "  Downloading opt_einsum-3.3.0-py3-none-any.whl (65 kB)\n",
      "Requirement already satisfied: grpcio<2.0,>=1.24.3 in c:\\users\\viyarlagadda\\anaconda3\\lib\\site-packages (from tensorflow-intel==2.11.0->tensorflow) (1.42.0)\n",
      "Requirement already satisfied: keras<2.12,>=2.11.0 in c:\\users\\viyarlagadda\\anaconda3\\lib\\site-packages (from tensorflow-intel==2.11.0->tensorflow) (2.11.0)\n",
      "Requirement already satisfied: wrapt>=1.11.0 in c:\\users\\viyarlagadda\\anaconda3\\lib\\site-packages (from tensorflow-intel==2.11.0->tensorflow) (1.12.1)\n",
      "Collecting termcolor>=1.1.0\n",
      "  Downloading termcolor-2.2.0-py3-none-any.whl (6.6 kB)\n",
      "Collecting libclang>=13.0.0\n",
      "  Downloading libclang-15.0.6.1-py2.py3-none-win_amd64.whl (23.2 MB)\n",
      "Collecting tensorboard<2.12,>=2.11\n",
      "  Downloading tensorboard-2.11.2-py3-none-any.whl (6.0 MB)\n",
      "Collecting tensorflow-estimator<2.12,>=2.11.0\n",
      "  Downloading tensorflow_estimator-2.11.0-py2.py3-none-any.whl (439 kB)\n",
      "Collecting absl-py>=1.0.0\n",
      "  Downloading absl_py-1.4.0-py3-none-any.whl (126 kB)\n",
      "Collecting tensorflow-io-gcs-filesystem>=0.23.1\n",
      "  Downloading tensorflow_io_gcs_filesystem-0.30.0-cp39-cp39-win_amd64.whl (1.5 MB)\n",
      "Requirement already satisfied: setuptools in c:\\users\\viyarlagadda\\anaconda3\\lib\\site-packages (from tensorflow-intel==2.11.0->tensorflow) (61.2.0)\n",
      "Requirement already satisfied: packaging in c:\\users\\viyarlagadda\\anaconda3\\lib\\site-packages (from tensorflow-intel==2.11.0->tensorflow) (21.3)\n",
      "Requirement already satisfied: numpy>=1.20 in c:\\users\\viyarlagadda\\anaconda3\\lib\\site-packages (from tensorflow-intel==2.11.0->tensorflow) (1.21.5)\n",
      "Requirement already satisfied: protobuf<3.20,>=3.9.2 in c:\\users\\viyarlagadda\\anaconda3\\lib\\site-packages (from tensorflow-intel==2.11.0->tensorflow) (3.19.1)\n",
      "Collecting flatbuffers>=2.0\n",
      "  Downloading flatbuffers-23.1.21-py2.py3-none-any.whl (26 kB)\n",
      "Requirement already satisfied: six>=1.12.0 in c:\\users\\viyarlagadda\\anaconda3\\lib\\site-packages (from tensorflow-intel==2.11.0->tensorflow) (1.16.0)\n",
      "Requirement already satisfied: typing-extensions>=3.6.6 in c:\\users\\viyarlagadda\\anaconda3\\lib\\site-packages (from tensorflow-intel==2.11.0->tensorflow) (4.1.1)\n",
      "Collecting astunparse>=1.6.0\n",
      "  Downloading astunparse-1.6.3-py2.py3-none-any.whl (12 kB)\n",
      "Collecting gast<=0.4.0,>=0.2.1\n",
      "  Downloading gast-0.4.0-py3-none-any.whl (9.8 kB)\n",
      "Requirement already satisfied: h5py>=2.9.0 in c:\\users\\viyarlagadda\\anaconda3\\lib\\site-packages (from tensorflow-intel==2.11.0->tensorflow) (3.6.0)\n",
      "Collecting google-pasta>=0.1.1\n",
      "  Downloading google_pasta-0.2.0-py3-none-any.whl (57 kB)\n",
      "Requirement already satisfied: wheel<1.0,>=0.23.0 in c:\\users\\viyarlagadda\\anaconda3\\lib\\site-packages (from astunparse>=1.6.0->tensorflow-intel==2.11.0->tensorflow) (0.37.1)\n",
      "Collecting tensorboard-plugin-wit>=1.6.0\n",
      "  Downloading tensorboard_plugin_wit-1.8.1-py3-none-any.whl (781 kB)\n",
      "Requirement already satisfied: google-auth<3,>=1.6.3 in c:\\users\\viyarlagadda\\anaconda3\\lib\\site-packages (from tensorboard<2.12,>=2.11->tensorflow-intel==2.11.0->tensorflow) (1.33.0)\n",
      "Requirement already satisfied: markdown>=2.6.8 in c:\\users\\viyarlagadda\\anaconda3\\lib\\site-packages (from tensorboard<2.12,>=2.11->tensorflow-intel==2.11.0->tensorflow) (3.3.4)\n",
      "Collecting google-auth-oauthlib<0.5,>=0.4.1\n",
      "  Downloading google_auth_oauthlib-0.4.6-py2.py3-none-any.whl (18 kB)\n",
      "Requirement already satisfied: requests<3,>=2.21.0 in c:\\users\\viyarlagadda\\anaconda3\\lib\\site-packages (from tensorboard<2.12,>=2.11->tensorflow-intel==2.11.0->tensorflow) (2.27.1)\n",
      "Requirement already satisfied: werkzeug>=1.0.1 in c:\\users\\viyarlagadda\\anaconda3\\lib\\site-packages (from tensorboard<2.12,>=2.11->tensorflow-intel==2.11.0->tensorflow) (2.0.3)\n",
      "Collecting tensorboard-data-server<0.7.0,>=0.6.0\n",
      "  Downloading tensorboard_data_server-0.6.1-py3-none-any.whl (2.4 kB)\n",
      "Requirement already satisfied: rsa<5,>=3.1.4 in c:\\users\\viyarlagadda\\anaconda3\\lib\\site-packages (from google-auth<3,>=1.6.3->tensorboard<2.12,>=2.11->tensorflow-intel==2.11.0->tensorflow) (4.7.2)\n",
      "Requirement already satisfied: cachetools<5.0,>=2.0.0 in c:\\users\\viyarlagadda\\anaconda3\\lib\\site-packages (from google-auth<3,>=1.6.3->tensorboard<2.12,>=2.11->tensorflow-intel==2.11.0->tensorflow) (4.2.2)\n",
      "Requirement already satisfied: pyasn1-modules>=0.2.1 in c:\\users\\viyarlagadda\\anaconda3\\lib\\site-packages (from google-auth<3,>=1.6.3->tensorboard<2.12,>=2.11->tensorflow-intel==2.11.0->tensorflow) (0.2.8)\n",
      "Collecting requests-oauthlib>=0.7.0\n",
      "  Downloading requests_oauthlib-1.3.1-py2.py3-none-any.whl (23 kB)\n",
      "Requirement already satisfied: pyasn1<0.5.0,>=0.4.6 in c:\\users\\viyarlagadda\\anaconda3\\lib\\site-packages (from pyasn1-modules>=0.2.1->google-auth<3,>=1.6.3->tensorboard<2.12,>=2.11->tensorflow-intel==2.11.0->tensorflow) (0.4.8)\n",
      "Requirement already satisfied: certifi>=2017.4.17 in c:\\users\\viyarlagadda\\anaconda3\\lib\\site-packages (from requests<3,>=2.21.0->tensorboard<2.12,>=2.11->tensorflow-intel==2.11.0->tensorflow) (2021.10.8)\n",
      "Requirement already satisfied: charset-normalizer~=2.0.0 in c:\\users\\viyarlagadda\\anaconda3\\lib\\site-packages (from requests<3,>=2.21.0->tensorboard<2.12,>=2.11->tensorflow-intel==2.11.0->tensorflow) (2.0.4)\n",
      "Requirement already satisfied: idna<4,>=2.5 in c:\\users\\viyarlagadda\\anaconda3\\lib\\site-packages (from requests<3,>=2.21.0->tensorboard<2.12,>=2.11->tensorflow-intel==2.11.0->tensorflow) (3.3)\n",
      "Requirement already satisfied: urllib3<1.27,>=1.21.1 in c:\\users\\viyarlagadda\\anaconda3\\lib\\site-packages (from requests<3,>=2.21.0->tensorboard<2.12,>=2.11->tensorflow-intel==2.11.0->tensorflow) (1.26.9)\n",
      "Collecting oauthlib>=3.0.0\n",
      "  Downloading oauthlib-3.2.2-py3-none-any.whl (151 kB)\n",
      "Requirement already satisfied: pyparsing!=3.0.5,>=2.0.2 in c:\\users\\viyarlagadda\\anaconda3\\lib\\site-packages (from packaging->tensorflow-intel==2.11.0->tensorflow) (3.0.4)\n",
      "Installing collected packages: oauthlib, requests-oauthlib, tensorboard-plugin-wit, tensorboard-data-server, google-auth-oauthlib, absl-py, termcolor, tensorflow-io-gcs-filesystem, tensorflow-estimator, tensorboard, opt-einsum, libclang, google-pasta, gast, flatbuffers, astunparse, tensorflow-intel, tensorflow\n",
      "Successfully installed absl-py-1.4.0 astunparse-1.6.3 flatbuffers-23.1.21 gast-0.4.0 google-auth-oauthlib-0.4.6 google-pasta-0.2.0 libclang-15.0.6.1 oauthlib-3.2.2 opt-einsum-3.3.0 requests-oauthlib-1.3.1 tensorboard-2.11.2 tensorboard-data-server-0.6.1 tensorboard-plugin-wit-1.8.1 tensorflow-2.11.0 tensorflow-estimator-2.11.0 tensorflow-intel-2.11.0 tensorflow-io-gcs-filesystem-0.30.0 termcolor-2.2.0\n"
     ]
    }
   ],
   "source": [
    "! pip install tensorflow"
   ]
  },
  {
   "cell_type": "code",
   "execution_count": 5,
   "metadata": {},
   "outputs": [],
   "source": [
    "import matplotlib.pyplot as plt\n",
    "import pandas as pd\n",
    "import numpy as np\n",
    "from sklearn.model_selection import train_test_split\n",
    "from keras.utils.np_utils import to_categorical\n",
    "from sklearn import preprocessing\n",
    "from keras.preprocessing.text import Tokenizer\n",
    "import random\n",
    "random.seed(0)"
   ]
  },
  {
   "cell_type": "markdown",
   "metadata": {},
   "source": [
    "Now, in the cell below, import our data into a DataFrame.  The data is currently stored in `Bank_complaints.csv`.\n",
    "Then, `.describe()` the dataset to get a feel for what we're working with. "
   ]
  },
  {
   "cell_type": "code",
   "execution_count": 6,
   "metadata": {},
   "outputs": [],
   "source": [
    "df =  pd.read_csv(\"Bank_complaints.csv\")\n"
   ]
  },
  {
   "cell_type": "code",
   "execution_count": 7,
   "metadata": {},
   "outputs": [
    {
     "data": {
      "text/html": [
       "<div>\n",
       "<style scoped>\n",
       "    .dataframe tbody tr th:only-of-type {\n",
       "        vertical-align: middle;\n",
       "    }\n",
       "\n",
       "    .dataframe tbody tr th {\n",
       "        vertical-align: top;\n",
       "    }\n",
       "\n",
       "    .dataframe thead th {\n",
       "        text-align: right;\n",
       "    }\n",
       "</style>\n",
       "<table border=\"1\" class=\"dataframe\">\n",
       "  <thead>\n",
       "    <tr style=\"text-align: right;\">\n",
       "      <th></th>\n",
       "      <th>Product</th>\n",
       "      <th>Consumer complaint narrative</th>\n",
       "    </tr>\n",
       "  </thead>\n",
       "  <tbody>\n",
       "    <tr>\n",
       "      <th>count</th>\n",
       "      <td>60000</td>\n",
       "      <td>60000</td>\n",
       "    </tr>\n",
       "    <tr>\n",
       "      <th>unique</th>\n",
       "      <td>7</td>\n",
       "      <td>59724</td>\n",
       "    </tr>\n",
       "    <tr>\n",
       "      <th>top</th>\n",
       "      <td>Student loan</td>\n",
       "      <td>I am filing this complaint because Experian ha...</td>\n",
       "    </tr>\n",
       "    <tr>\n",
       "      <th>freq</th>\n",
       "      <td>11404</td>\n",
       "      <td>26</td>\n",
       "    </tr>\n",
       "  </tbody>\n",
       "</table>\n",
       "</div>"
      ],
      "text/plain": [
       "             Product                       Consumer complaint narrative\n",
       "count          60000                                              60000\n",
       "unique             7                                              59724\n",
       "top     Student loan  I am filing this complaint because Experian ha...\n",
       "freq           11404                                                 26"
      ]
     },
     "execution_count": 7,
     "metadata": {},
     "output_type": "execute_result"
    }
   ],
   "source": [
    "df.describe()"
   ]
  },
  {
   "cell_type": "markdown",
   "metadata": {},
   "source": [
    "In order to speed things up during the development process (and also to give us the ability to see how adding more data affects our model performance), we're going to work with a sample of our dataset rather than the whole thing.  The entire dataset consists of 60,000 rows--we're going to build a model using only 10,000 items randomly sampled from this.\n",
    "\n",
    "In the cell below:\n",
    "\n",
    "* Get a random sample of `10000` items from our dataset (HINT: use the `df` object's `.sample()` method to make this easy)\n",
    "* Reset the indexes on these samples to `range(10000)`, so that the indices for our rows are sequential and make sense.\n",
    "* Store our labels, which are found in `\"Product\"`, in a different variable.\n",
    "* Store the data, found in `\"Consumer complaint narrative`, in the variable `complaints`."
   ]
  },
  {
   "cell_type": "code",
   "execution_count": 8,
   "metadata": {},
   "outputs": [],
   "source": [
    "df = df.sample(n=10000)\n",
    "df.index = range(10000)\n",
    "product = df[\"Product\"]\n",
    "complaints = df[\"Consumer complaint narrative\"]"
   ]
  },
  {
   "cell_type": "markdown",
   "metadata": {},
   "source": [
    "### 2.2 Tokenizing the Complaints"
   ]
  },
  {
   "cell_type": "markdown",
   "metadata": {},
   "source": [
    "We'll only keep 2,000 most common words and use one-hot encoding to quickly vectorize our dataset from text into a format that a neural network can work with. \n",
    "\n",
    "In the cell below:\n",
    "\n",
    "* Create a `Tokenizer()` object, and set the `num_words` parameter to `2000`.\n",
    "* Call the tokenizer object's `fit_on_texts()` method and pass in our `complaints` variable we created above. \n"
   ]
  },
  {
   "cell_type": "code",
   "execution_count": 9,
   "metadata": {},
   "outputs": [],
   "source": [
    "tokenizer = Tokenizer(num_words=2000)\n",
    "tokenizer.fit_on_texts(complaints)\n"
   ]
  },
  {
   "cell_type": "markdown",
   "metadata": {},
   "source": [
    "Now, we'll create some text sequences by calling the `tokenizer` object's `.texts_to_sequences()` method and feeding in our `complaints` object."
   ]
  },
  {
   "cell_type": "code",
   "execution_count": 10,
   "metadata": {},
   "outputs": [],
   "source": [
    "sequences = tokenizer.texts_to_sequences(complaints)"
   ]
  },
  {
   "cell_type": "markdown",
   "metadata": {},
   "source": [
    "Finally, we'll convert our text data from text to a vectorized matrix.  \n",
    "\n",
    "In the cell below:\n",
    "\n",
    "* Call the `tokenizer` object's `.texts_to_matrix` method, passing in our `complaints` variable, as well as setting the `mode` parameter equal to `'binary'`.\n",
    "* Store the tokenizer's `.word_index` in the appropriate variable.\n",
    "* Check the `np.shape()` of our `one_hot_results`."
   ]
  },
  {
   "cell_type": "code",
   "execution_count": 11,
   "metadata": {},
   "outputs": [
    {
     "data": {
      "text/plain": [
       "(10000, 2000)"
      ]
     },
     "execution_count": 11,
     "metadata": {},
     "output_type": "execute_result"
    }
   ],
   "source": [
    "one_hot_results= tokenizer.texts_to_matrix(complaints, mode='binary')\n",
    "word_index = tokenizer.word_index\n",
    "np.shape(one_hot_results) # Expected Results (10000, 2000)"
   ]
  },
  {
   "cell_type": "markdown",
   "metadata": {},
   "source": [
    "### 2.3 One-hot Encoding of the Products Column"
   ]
  },
  {
   "cell_type": "markdown",
   "metadata": {},
   "source": [
    "Now that we've tokenized and encoded our text data, we still need to one-hot encode our label data.  \n",
    "\n",
    "In the cell below:\n",
    "\n",
    "\n",
    "* Create a `LabelEncoder` object, which can found inside the `preprocessing` module.\n",
    "* `fit` the label encoder we just created to `product`."
   ]
  },
  {
   "cell_type": "code",
   "execution_count": 12,
   "metadata": {},
   "outputs": [
    {
     "data": {
      "text/plain": [
       "LabelEncoder()"
      ]
     },
     "execution_count": 12,
     "metadata": {},
     "output_type": "execute_result"
    }
   ],
   "source": [
    "le = preprocessing.LabelEncoder()\n",
    "le.fit(product)\n"
   ]
  },
  {
   "cell_type": "markdown",
   "metadata": {},
   "source": [
    "Let's check what classes our label encoder found.  Run the cell below to examine a list of classes that `product` contains."
   ]
  },
  {
   "cell_type": "code",
   "execution_count": 13,
   "metadata": {},
   "outputs": [
    {
     "data": {
      "text/plain": [
       "['Bank account or service',\n",
       " 'Checking or savings account',\n",
       " 'Consumer Loan',\n",
       " 'Credit card',\n",
       " 'Credit reporting',\n",
       " 'Mortgage',\n",
       " 'Student loan']"
      ]
     },
     "execution_count": 13,
     "metadata": {},
     "output_type": "execute_result"
    }
   ],
   "source": [
    " list(le.classes_)"
   ]
  },
  {
   "cell_type": "markdown",
   "metadata": {},
   "source": [
    "Now, we'll need to transform `product` into a numeric vector.  \n",
    "\n",
    "In the cell below, use the label encoder's `.transform` method on `product` to create an integer encoded version of our labels. \n",
    "\n",
    "Then, access `product_cat` to see an example of how the labels are now encoded. "
   ]
  },
  {
   "cell_type": "code",
   "execution_count": 14,
   "metadata": {},
   "outputs": [
    {
     "data": {
      "text/plain": [
       "array([5, 6, 1, ..., 3, 6, 6])"
      ]
     },
     "execution_count": 14,
     "metadata": {},
     "output_type": "execute_result"
    }
   ],
   "source": [
    "product_cat = le.transform(product)\n",
    "product_cat"
   ]
  },
  {
   "cell_type": "markdown",
   "metadata": {},
   "source": [
    "Now, we need to go from integer encoding to one-hot encoding.  Use the `to_categorical` method from keras to do this easily in the cell below."
   ]
  },
  {
   "cell_type": "code",
   "execution_count": 15,
   "metadata": {},
   "outputs": [],
   "source": [
    "product_onehot = to_categorical(product_cat)"
   ]
  },
  {
   "cell_type": "code",
   "execution_count": 16,
   "metadata": {},
   "outputs": [
    {
     "data": {
      "text/plain": [
       "array([[0., 0., 0., ..., 0., 1., 0.],\n",
       "       [0., 0., 0., ..., 0., 0., 1.],\n",
       "       [0., 1., 0., ..., 0., 0., 0.],\n",
       "       ...,\n",
       "       [0., 0., 0., ..., 0., 0., 0.],\n",
       "       [0., 0., 0., ..., 0., 0., 1.],\n",
       "       [0., 0., 0., ..., 0., 0., 1.]], dtype=float32)"
      ]
     },
     "execution_count": 16,
     "metadata": {},
     "output_type": "execute_result"
    }
   ],
   "source": [
    "product_onehot"
   ]
  },
  {
   "cell_type": "markdown",
   "metadata": {},
   "source": [
    "Finally, let's check the shape of our one-hot encoded labels to make sure everything worked correctly."
   ]
  },
  {
   "cell_type": "code",
   "execution_count": 17,
   "metadata": {},
   "outputs": [
    {
     "data": {
      "text/plain": [
       "(10000, 7)"
      ]
     },
     "execution_count": 17,
     "metadata": {},
     "output_type": "execute_result"
    }
   ],
   "source": [
    "np.shape(product_onehot) # Expected Output: (10000, 7)"
   ]
  },
  {
   "cell_type": "markdown",
   "metadata": {},
   "source": [
    "### 2.4 Train - test split\n",
    "\n",
    "Now, we'll split our data into training and testing sets.  \n",
    "\n",
    "\n",
    "We'll accomplish this by generating a random list of 1500 different indices between 1 and 10000.  Then, we'll slice these rows and store them as our test set, and delete them from the training set (it's very important to remember to remove them from the training set!)\n",
    "\n",
    "Run the cell below to create a set of random indices for our test set. "
   ]
  },
  {
   "cell_type": "code",
   "execution_count": 18,
   "metadata": {},
   "outputs": [],
   "source": [
    "test_index = random.sample(range(1,10000), 1500)"
   ]
  },
  {
   "cell_type": "markdown",
   "metadata": {},
   "source": [
    "Now:\n",
    "\n",
    "* Slice the `test_index` rows from `one_hot_results` and store them in `test`."
   ]
  },
  {
   "cell_type": "code",
   "execution_count": 19,
   "metadata": {},
   "outputs": [],
   "source": [
    "test = one_hot_results[test_index]\n",
    "\n",
    "# This line returns a version of our one_hot_results that has every item with an index in test_index removed\n",
    "train = np.delete(one_hot_results, test_index, 0)"
   ]
  },
  {
   "cell_type": "markdown",
   "metadata": {},
   "source": [
    "Now, we'll need to repeat the splitting process on our labels, making sure that we use the same indices we used to split our data. \n",
    "\n",
    "In the cell below:\n",
    "\n",
    "* Slice `test_index` from `product_onehot`\n",
    "* Use `np.delete` to remove `test_index` items from `product_onehot` (the syntax is exactly the same above)"
   ]
  },
  {
   "cell_type": "code",
   "execution_count": 20,
   "metadata": {},
   "outputs": [],
   "source": [
    "label_test = product_onehot[test_index]\n",
    "label_train = np.delete(product_onehot, test_index, 0)"
   ]
  },
  {
   "cell_type": "markdown",
   "metadata": {},
   "source": [
    "Now, let's examine the shape everything we just did to make sure that the dimensions match up.  \n",
    "\n",
    "In the cell below, use `np.shape` to check the shape of:\n",
    "\n",
    "* `label_test`\n",
    "* `label_train`\n",
    "* `test`\n",
    "* `train`"
   ]
  },
  {
   "cell_type": "code",
   "execution_count": 22,
   "metadata": {},
   "outputs": [
    {
     "name": "stdout",
     "output_type": "stream",
     "text": [
      "(1500, 7)\n",
      "(8500, 7)\n",
      "(1500, 2000)\n",
      "(8500, 2000)\n"
     ]
    }
   ],
   "source": [
    "print(np.shape(label_test)) # Expected Output: (1500, 7)\n",
    "print(np.shape(label_train)) # Expected Output: (8500, 7)\n",
    "print(np.shape(test)) # Expected Output: (1500, 2000)\n",
    "print(np.shape(train)) # Expected Output: (8500, 2000)"
   ]
  },
  {
   "cell_type": "markdown",
   "metadata": {},
   "source": [
    "## 3. Running the model using a validation set."
   ]
  },
  {
   "cell_type": "markdown",
   "metadata": {},
   "source": [
    "### 3.1 Creating the validation set"
   ]
  },
  {
   "cell_type": "markdown",
   "metadata": {},
   "source": [
    "In the lecture we mentioned that in deep learning, we generally keep aside a validation set, which is used during hyperparameter tuning. Then when we have made the final model decision, the test set is used to define the final model perforance. \n",
    "\n",
    "In this example, let's take the first 1000 cases out of the training set to become the validation set. You should do this for both `train` and `label_train`.\n",
    "\n",
    "Run the cell below to create our validation set. "
   ]
  },
  {
   "cell_type": "code",
   "execution_count": 23,
   "metadata": {},
   "outputs": [],
   "source": [
    "random.seed(123)\n",
    "val = train[:1000]\n",
    "train_final = train[1000:]\n",
    "label_val = label_train[:1000]\n",
    "label_train_final = label_train[1000:]"
   ]
  },
  {
   "cell_type": "markdown",
   "metadata": {},
   "source": [
    "### 3.2 Creating, compiling and running the model"
   ]
  },
  {
   "cell_type": "markdown",
   "metadata": {},
   "source": [
    "Let's rebuild a fully connected (Dense) layer network with relu activations in Keras."
   ]
  },
  {
   "cell_type": "markdown",
   "metadata": {},
   "source": [
    "Recall that we used 2 hidden with 50 units in the first layer and 25 in the second, both with a `relu` activation function. Because we are dealing with a multiclass problem (classifying the complaints into 7 classes), we use a use a softmax classifyer in order to output 7 class probabilities per case.\n",
    "\n",
    "In the cell below:\n",
    "\n",
    "* Import `Sequential` from the appropriate module in keras.\n",
    "* Import `Dense` from the appropriate module in keras."
   ]
  },
  {
   "cell_type": "code",
   "execution_count": 24,
   "metadata": {},
   "outputs": [],
   "source": [
    "from keras.models import Sequential\n",
    "from keras.layers import Dense"
   ]
  },
  {
   "cell_type": "markdown",
   "metadata": {},
   "source": [
    "Now, build a model with the following specifications in the cell below:\n",
    "\n",
    "* An input layer of shape `(2000,)`\n",
    "* Hidden layer 1: Dense, 50 neurons, relu activation \n",
    "* Hidden layer 2: Dense, 25 neurons, relu activation\n",
    "* Output layer: Dense, 7 neurons, softmax activation"
   ]
  },
  {
   "cell_type": "code",
   "execution_count": 26,
   "metadata": {},
   "outputs": [],
   "source": [
    "model = Sequential()\n",
    "model.add(Dense(50, activation='relu', input_shape=(2000,))) \n",
    "model.add(Dense(25, activation='relu'))\n",
    "model.add(Dense(7, activation='softmax'))"
   ]
  },
  {
   "cell_type": "markdown",
   "metadata": {},
   "source": [
    "In the cell below, `compile` the model with the following settings:\n",
    "\n",
    "* Optimizer is `\"SGD\"`\n",
    "* Loss is `'categorical_crossentropy'`\n",
    "* metrics is `['accuracy']`"
   ]
  },
  {
   "cell_type": "code",
   "execution_count": 27,
   "metadata": {},
   "outputs": [],
   "source": [
    "model.compile(optimizer=\"SGD\",\n",
    "              loss='categorical_crossentropy',\n",
    "              metrics=['accuracy'])"
   ]
  },
  {
   "cell_type": "markdown",
   "metadata": {},
   "source": [
    "Now, Train the model for 120 epochs in mini-batches of 256 samples. Also pass in `(val, label_val)` to the `validation_data` parameter, so that we see how our model does on the test set after every epoch. "
   ]
  },
  {
   "cell_type": "code",
   "execution_count": 28,
   "metadata": {},
   "outputs": [
    {
     "name": "stdout",
     "output_type": "stream",
     "text": [
      "Epoch 1/120\n",
      "30/30 [==============================] - 2s 19ms/step - loss: 1.9578 - accuracy: 0.1409 - val_loss: 1.9469 - val_accuracy: 0.1650\n",
      "Epoch 2/120\n",
      "30/30 [==============================] - 0s 7ms/step - loss: 1.9389 - accuracy: 0.1787 - val_loss: 1.9332 - val_accuracy: 0.1980\n",
      "Epoch 3/120\n",
      "30/30 [==============================] - 0s 8ms/step - loss: 1.9253 - accuracy: 0.2047 - val_loss: 1.9213 - val_accuracy: 0.2180\n",
      "Epoch 4/120\n",
      "30/30 [==============================] - 0s 8ms/step - loss: 1.9122 - accuracy: 0.2295 - val_loss: 1.9095 - val_accuracy: 0.2490\n",
      "Epoch 5/120\n",
      "30/30 [==============================] - 0s 9ms/step - loss: 1.8981 - accuracy: 0.2519 - val_loss: 1.8968 - val_accuracy: 0.2680\n",
      "Epoch 6/120\n",
      "30/30 [==============================] - 0s 8ms/step - loss: 1.8820 - accuracy: 0.2693 - val_loss: 1.8820 - val_accuracy: 0.2840\n",
      "Epoch 7/120\n",
      "30/30 [==============================] - 0s 9ms/step - loss: 1.8636 - accuracy: 0.2957 - val_loss: 1.8650 - val_accuracy: 0.3080\n",
      "Epoch 8/120\n",
      "30/30 [==============================] - 0s 10ms/step - loss: 1.8422 - accuracy: 0.3172 - val_loss: 1.8433 - val_accuracy: 0.3310\n",
      "Epoch 9/120\n",
      "30/30 [==============================] - 0s 9ms/step - loss: 1.8162 - accuracy: 0.3364 - val_loss: 1.8172 - val_accuracy: 0.3380\n",
      "Epoch 10/120\n",
      "30/30 [==============================] - 0s 9ms/step - loss: 1.7844 - accuracy: 0.3553 - val_loss: 1.7843 - val_accuracy: 0.3550\n",
      "Epoch 11/120\n",
      "30/30 [==============================] - 0s 9ms/step - loss: 1.7465 - accuracy: 0.3759 - val_loss: 1.7467 - val_accuracy: 0.3870\n",
      "Epoch 12/120\n",
      "30/30 [==============================] - 0s 9ms/step - loss: 1.7032 - accuracy: 0.4013 - val_loss: 1.7019 - val_accuracy: 0.4060\n",
      "Epoch 13/120\n",
      "30/30 [==============================] - 0s 10ms/step - loss: 1.6541 - accuracy: 0.4297 - val_loss: 1.6517 - val_accuracy: 0.4350\n",
      "Epoch 14/120\n",
      "30/30 [==============================] - 0s 9ms/step - loss: 1.6002 - accuracy: 0.4617 - val_loss: 1.5975 - val_accuracy: 0.4560\n",
      "Epoch 15/120\n",
      "30/30 [==============================] - 0s 10ms/step - loss: 1.5430 - accuracy: 0.4952 - val_loss: 1.5407 - val_accuracy: 0.4920\n",
      "Epoch 16/120\n",
      "30/30 [==============================] - 0s 9ms/step - loss: 1.4841 - accuracy: 0.5220 - val_loss: 1.4830 - val_accuracy: 0.5140\n",
      "Epoch 17/120\n",
      "30/30 [==============================] - 0s 9ms/step - loss: 1.4244 - accuracy: 0.5456 - val_loss: 1.4248 - val_accuracy: 0.5420\n",
      "Epoch 18/120\n",
      "30/30 [==============================] - 0s 9ms/step - loss: 1.3652 - accuracy: 0.5671 - val_loss: 1.3680 - val_accuracy: 0.5550\n",
      "Epoch 19/120\n",
      "30/30 [==============================] - 0s 9ms/step - loss: 1.3079 - accuracy: 0.5891 - val_loss: 1.3138 - val_accuracy: 0.5680\n",
      "Epoch 20/120\n",
      "30/30 [==============================] - 0s 9ms/step - loss: 1.2534 - accuracy: 0.6109 - val_loss: 1.2602 - val_accuracy: 0.5890\n",
      "Epoch 21/120\n",
      "30/30 [==============================] - 0s 10ms/step - loss: 1.2017 - accuracy: 0.6305 - val_loss: 1.2111 - val_accuracy: 0.6090\n",
      "Epoch 22/120\n",
      "30/30 [==============================] - 0s 10ms/step - loss: 1.1538 - accuracy: 0.6455 - val_loss: 1.1668 - val_accuracy: 0.6160\n",
      "Epoch 23/120\n",
      "30/30 [==============================] - 0s 9ms/step - loss: 1.1088 - accuracy: 0.6612 - val_loss: 1.1241 - val_accuracy: 0.6350\n",
      "Epoch 24/120\n",
      "30/30 [==============================] - 0s 8ms/step - loss: 1.0673 - accuracy: 0.6725 - val_loss: 1.0870 - val_accuracy: 0.6370\n",
      "Epoch 25/120\n",
      "30/30 [==============================] - 0s 8ms/step - loss: 1.0291 - accuracy: 0.6829 - val_loss: 1.0503 - val_accuracy: 0.6540\n",
      "Epoch 26/120\n",
      "30/30 [==============================] - 0s 8ms/step - loss: 0.9939 - accuracy: 0.6892 - val_loss: 1.0186 - val_accuracy: 0.6630\n",
      "Epoch 27/120\n",
      "30/30 [==============================] - 0s 8ms/step - loss: 0.9619 - accuracy: 0.6981 - val_loss: 0.9872 - val_accuracy: 0.6710\n",
      "Epoch 28/120\n",
      "30/30 [==============================] - 0s 8ms/step - loss: 0.9323 - accuracy: 0.7064 - val_loss: 0.9620 - val_accuracy: 0.6750\n",
      "Epoch 29/120\n",
      "30/30 [==============================] - 0s 8ms/step - loss: 0.9055 - accuracy: 0.7113 - val_loss: 0.9397 - val_accuracy: 0.6800\n",
      "Epoch 30/120\n",
      "30/30 [==============================] - 0s 9ms/step - loss: 0.8805 - accuracy: 0.7141 - val_loss: 0.9151 - val_accuracy: 0.6880\n",
      "Epoch 31/120\n",
      "30/30 [==============================] - 0s 9ms/step - loss: 0.8580 - accuracy: 0.7217 - val_loss: 0.8955 - val_accuracy: 0.6940\n",
      "Epoch 32/120\n",
      "30/30 [==============================] - 0s 8ms/step - loss: 0.8368 - accuracy: 0.7259 - val_loss: 0.8767 - val_accuracy: 0.7100\n",
      "Epoch 33/120\n",
      "30/30 [==============================] - 0s 9ms/step - loss: 0.8173 - accuracy: 0.7283 - val_loss: 0.8610 - val_accuracy: 0.7030\n",
      "Epoch 34/120\n",
      "30/30 [==============================] - 0s 8ms/step - loss: 0.7994 - accuracy: 0.7328 - val_loss: 0.8452 - val_accuracy: 0.7080\n",
      "Epoch 35/120\n",
      "30/30 [==============================] - 0s 8ms/step - loss: 0.7831 - accuracy: 0.7392 - val_loss: 0.8315 - val_accuracy: 0.7120\n",
      "Epoch 36/120\n",
      "30/30 [==============================] - 0s 8ms/step - loss: 0.7677 - accuracy: 0.7403 - val_loss: 0.8186 - val_accuracy: 0.7170\n",
      "Epoch 37/120\n",
      "30/30 [==============================] - 0s 9ms/step - loss: 0.7534 - accuracy: 0.7441 - val_loss: 0.8064 - val_accuracy: 0.7150\n",
      "Epoch 38/120\n",
      "30/30 [==============================] - 0s 8ms/step - loss: 0.7398 - accuracy: 0.7480 - val_loss: 0.7962 - val_accuracy: 0.7190\n",
      "Epoch 39/120\n",
      "30/30 [==============================] - 0s 8ms/step - loss: 0.7276 - accuracy: 0.7488 - val_loss: 0.7847 - val_accuracy: 0.7260\n",
      "Epoch 40/120\n",
      "30/30 [==============================] - 0s 9ms/step - loss: 0.7158 - accuracy: 0.7521 - val_loss: 0.7782 - val_accuracy: 0.7270\n",
      "Epoch 41/120\n",
      "30/30 [==============================] - 0s 8ms/step - loss: 0.7048 - accuracy: 0.7564 - val_loss: 0.7687 - val_accuracy: 0.7190\n",
      "Epoch 42/120\n",
      "30/30 [==============================] - 0s 9ms/step - loss: 0.6940 - accuracy: 0.7601 - val_loss: 0.7640 - val_accuracy: 0.7270\n",
      "Epoch 43/120\n",
      "30/30 [==============================] - 0s 9ms/step - loss: 0.6839 - accuracy: 0.7612 - val_loss: 0.7514 - val_accuracy: 0.7300\n",
      "Epoch 44/120\n",
      "30/30 [==============================] - 0s 10ms/step - loss: 0.6744 - accuracy: 0.7659 - val_loss: 0.7452 - val_accuracy: 0.7320\n",
      "Epoch 45/120\n",
      "30/30 [==============================] - 0s 10ms/step - loss: 0.6650 - accuracy: 0.7717 - val_loss: 0.7406 - val_accuracy: 0.7370\n",
      "Epoch 46/120\n",
      "30/30 [==============================] - 0s 9ms/step - loss: 0.6569 - accuracy: 0.7712 - val_loss: 0.7349 - val_accuracy: 0.7260\n",
      "Epoch 47/120\n",
      "30/30 [==============================] - 0s 10ms/step - loss: 0.6483 - accuracy: 0.7753 - val_loss: 0.7306 - val_accuracy: 0.7290\n",
      "Epoch 48/120\n",
      "30/30 [==============================] - 0s 10ms/step - loss: 0.6403 - accuracy: 0.7779 - val_loss: 0.7217 - val_accuracy: 0.7360\n",
      "Epoch 49/120\n",
      "30/30 [==============================] - 0s 9ms/step - loss: 0.6323 - accuracy: 0.7804 - val_loss: 0.7216 - val_accuracy: 0.7330\n",
      "Epoch 50/120\n",
      "30/30 [==============================] - 0s 9ms/step - loss: 0.6254 - accuracy: 0.7820 - val_loss: 0.7142 - val_accuracy: 0.7410\n",
      "Epoch 51/120\n",
      "30/30 [==============================] - 0s 10ms/step - loss: 0.6184 - accuracy: 0.7827 - val_loss: 0.7095 - val_accuracy: 0.7400\n",
      "Epoch 52/120\n",
      "30/30 [==============================] - 0s 9ms/step - loss: 0.6113 - accuracy: 0.7871 - val_loss: 0.7068 - val_accuracy: 0.7410\n",
      "Epoch 53/120\n",
      "30/30 [==============================] - 0s 9ms/step - loss: 0.6049 - accuracy: 0.7888 - val_loss: 0.7022 - val_accuracy: 0.7440\n",
      "Epoch 54/120\n",
      "30/30 [==============================] - 0s 8ms/step - loss: 0.5980 - accuracy: 0.7912 - val_loss: 0.6989 - val_accuracy: 0.7430\n",
      "Epoch 55/120\n",
      "30/30 [==============================] - 0s 8ms/step - loss: 0.5923 - accuracy: 0.7915 - val_loss: 0.6974 - val_accuracy: 0.7500\n",
      "Epoch 56/120\n",
      "30/30 [==============================] - 0s 9ms/step - loss: 0.5859 - accuracy: 0.7948 - val_loss: 0.6910 - val_accuracy: 0.7510\n",
      "Epoch 57/120\n",
      "30/30 [==============================] - 0s 9ms/step - loss: 0.5795 - accuracy: 0.7973 - val_loss: 0.6868 - val_accuracy: 0.7540\n",
      "Epoch 58/120\n",
      "30/30 [==============================] - 0s 8ms/step - loss: 0.5741 - accuracy: 0.7973 - val_loss: 0.6863 - val_accuracy: 0.7550\n",
      "Epoch 59/120\n",
      "30/30 [==============================] - 0s 9ms/step - loss: 0.5684 - accuracy: 0.7999 - val_loss: 0.6820 - val_accuracy: 0.7520\n",
      "Epoch 60/120\n",
      "30/30 [==============================] - 0s 10ms/step - loss: 0.5635 - accuracy: 0.8029 - val_loss: 0.6800 - val_accuracy: 0.7560\n",
      "Epoch 61/120\n",
      "30/30 [==============================] - 0s 9ms/step - loss: 0.5576 - accuracy: 0.8039 - val_loss: 0.6794 - val_accuracy: 0.7510\n",
      "Epoch 62/120\n",
      "30/30 [==============================] - 0s 9ms/step - loss: 0.5520 - accuracy: 0.8099 - val_loss: 0.6747 - val_accuracy: 0.7550\n",
      "Epoch 63/120\n",
      "30/30 [==============================] - 0s 11ms/step - loss: 0.5476 - accuracy: 0.8083 - val_loss: 0.6733 - val_accuracy: 0.7560\n",
      "Epoch 64/120\n",
      "30/30 [==============================] - 0s 10ms/step - loss: 0.5425 - accuracy: 0.8097 - val_loss: 0.6733 - val_accuracy: 0.7560\n",
      "Epoch 65/120\n",
      "30/30 [==============================] - 0s 11ms/step - loss: 0.5376 - accuracy: 0.8145 - val_loss: 0.6703 - val_accuracy: 0.7580\n",
      "Epoch 66/120\n",
      "30/30 [==============================] - 0s 10ms/step - loss: 0.5325 - accuracy: 0.8140 - val_loss: 0.6682 - val_accuracy: 0.7520\n",
      "Epoch 67/120\n",
      "30/30 [==============================] - 0s 9ms/step - loss: 0.5278 - accuracy: 0.8159 - val_loss: 0.6636 - val_accuracy: 0.7550\n",
      "Epoch 68/120\n",
      "30/30 [==============================] - 0s 9ms/step - loss: 0.5234 - accuracy: 0.8148 - val_loss: 0.6627 - val_accuracy: 0.7520\n",
      "Epoch 69/120\n",
      "30/30 [==============================] - 0s 10ms/step - loss: 0.5188 - accuracy: 0.8205 - val_loss: 0.6688 - val_accuracy: 0.7530\n",
      "Epoch 70/120\n",
      "30/30 [==============================] - 0s 11ms/step - loss: 0.5142 - accuracy: 0.8204 - val_loss: 0.6614 - val_accuracy: 0.7530\n",
      "Epoch 71/120\n",
      "30/30 [==============================] - 0s 10ms/step - loss: 0.5103 - accuracy: 0.8271 - val_loss: 0.6552 - val_accuracy: 0.7590\n",
      "Epoch 72/120\n",
      "30/30 [==============================] - 0s 9ms/step - loss: 0.5054 - accuracy: 0.8249 - val_loss: 0.6530 - val_accuracy: 0.7550\n",
      "Epoch 73/120\n",
      "30/30 [==============================] - 0s 9ms/step - loss: 0.5012 - accuracy: 0.8276 - val_loss: 0.6560 - val_accuracy: 0.7610\n",
      "Epoch 74/120\n",
      "30/30 [==============================] - 0s 9ms/step - loss: 0.4972 - accuracy: 0.8292 - val_loss: 0.6520 - val_accuracy: 0.7540\n",
      "Epoch 75/120\n",
      "30/30 [==============================] - 0s 10ms/step - loss: 0.4927 - accuracy: 0.8309 - val_loss: 0.6485 - val_accuracy: 0.7530\n",
      "Epoch 76/120\n",
      "30/30 [==============================] - 0s 9ms/step - loss: 0.4891 - accuracy: 0.8333 - val_loss: 0.6502 - val_accuracy: 0.7620\n",
      "Epoch 77/120\n",
      "30/30 [==============================] - 0s 9ms/step - loss: 0.4851 - accuracy: 0.8360 - val_loss: 0.6495 - val_accuracy: 0.7650\n",
      "Epoch 78/120\n",
      "30/30 [==============================] - 0s 9ms/step - loss: 0.4810 - accuracy: 0.8356 - val_loss: 0.6468 - val_accuracy: 0.7610\n",
      "Epoch 79/120\n",
      "30/30 [==============================] - 0s 9ms/step - loss: 0.4776 - accuracy: 0.8395 - val_loss: 0.6447 - val_accuracy: 0.7580\n",
      "Epoch 80/120\n",
      "30/30 [==============================] - 0s 10ms/step - loss: 0.4734 - accuracy: 0.8379 - val_loss: 0.6455 - val_accuracy: 0.7590\n",
      "Epoch 81/120\n",
      "30/30 [==============================] - 0s 9ms/step - loss: 0.4700 - accuracy: 0.8416 - val_loss: 0.6435 - val_accuracy: 0.7600\n",
      "Epoch 82/120\n",
      "30/30 [==============================] - 0s 9ms/step - loss: 0.4660 - accuracy: 0.8411 - val_loss: 0.6433 - val_accuracy: 0.7580\n",
      "Epoch 83/120\n",
      "30/30 [==============================] - 0s 9ms/step - loss: 0.4621 - accuracy: 0.8432 - val_loss: 0.6425 - val_accuracy: 0.7600\n",
      "Epoch 84/120\n",
      "30/30 [==============================] - 0s 9ms/step - loss: 0.4583 - accuracy: 0.8453 - val_loss: 0.6424 - val_accuracy: 0.7700\n",
      "Epoch 85/120\n",
      "30/30 [==============================] - 0s 9ms/step - loss: 0.4549 - accuracy: 0.8461 - val_loss: 0.6453 - val_accuracy: 0.7670\n",
      "Epoch 86/120\n",
      "30/30 [==============================] - 0s 9ms/step - loss: 0.4516 - accuracy: 0.8489 - val_loss: 0.6399 - val_accuracy: 0.7570\n",
      "Epoch 87/120\n",
      "30/30 [==============================] - 0s 9ms/step - loss: 0.4480 - accuracy: 0.8489 - val_loss: 0.6443 - val_accuracy: 0.7660\n",
      "Epoch 88/120\n",
      "30/30 [==============================] - 0s 9ms/step - loss: 0.4448 - accuracy: 0.8517 - val_loss: 0.6392 - val_accuracy: 0.7680\n",
      "Epoch 89/120\n",
      "30/30 [==============================] - 0s 8ms/step - loss: 0.4410 - accuracy: 0.8527 - val_loss: 0.6369 - val_accuracy: 0.7630\n",
      "Epoch 90/120\n",
      "30/30 [==============================] - 0s 8ms/step - loss: 0.4380 - accuracy: 0.8525 - val_loss: 0.6440 - val_accuracy: 0.7640\n",
      "Epoch 91/120\n",
      "30/30 [==============================] - 0s 9ms/step - loss: 0.4349 - accuracy: 0.8561 - val_loss: 0.6435 - val_accuracy: 0.7630\n",
      "Epoch 92/120\n",
      "30/30 [==============================] - 0s 9ms/step - loss: 0.4317 - accuracy: 0.8571 - val_loss: 0.6372 - val_accuracy: 0.7670\n",
      "Epoch 93/120\n",
      "30/30 [==============================] - 0s 8ms/step - loss: 0.4280 - accuracy: 0.8579 - val_loss: 0.6385 - val_accuracy: 0.7670\n",
      "Epoch 94/120\n",
      "30/30 [==============================] - 0s 9ms/step - loss: 0.4248 - accuracy: 0.8613 - val_loss: 0.6359 - val_accuracy: 0.7650\n",
      "Epoch 95/120\n",
      "30/30 [==============================] - 0s 8ms/step - loss: 0.4216 - accuracy: 0.8607 - val_loss: 0.6433 - val_accuracy: 0.7620\n",
      "Epoch 96/120\n",
      "30/30 [==============================] - 0s 9ms/step - loss: 0.4188 - accuracy: 0.8632 - val_loss: 0.6338 - val_accuracy: 0.7680\n",
      "Epoch 97/120\n",
      "30/30 [==============================] - 0s 8ms/step - loss: 0.4156 - accuracy: 0.8643 - val_loss: 0.6363 - val_accuracy: 0.7700\n",
      "Epoch 98/120\n",
      "30/30 [==============================] - 0s 8ms/step - loss: 0.4121 - accuracy: 0.8661 - val_loss: 0.6322 - val_accuracy: 0.7670\n",
      "Epoch 99/120\n",
      "30/30 [==============================] - 0s 9ms/step - loss: 0.4095 - accuracy: 0.8671 - val_loss: 0.6327 - val_accuracy: 0.7690\n",
      "Epoch 100/120\n",
      "30/30 [==============================] - 0s 8ms/step - loss: 0.4064 - accuracy: 0.8680 - val_loss: 0.6339 - val_accuracy: 0.7690\n",
      "Epoch 101/120\n",
      "30/30 [==============================] - 0s 8ms/step - loss: 0.4032 - accuracy: 0.8697 - val_loss: 0.6318 - val_accuracy: 0.7700\n",
      "Epoch 102/120\n",
      "30/30 [==============================] - 0s 8ms/step - loss: 0.4003 - accuracy: 0.8709 - val_loss: 0.6368 - val_accuracy: 0.7680\n",
      "Epoch 103/120\n",
      "30/30 [==============================] - 0s 8ms/step - loss: 0.3980 - accuracy: 0.8705 - val_loss: 0.6314 - val_accuracy: 0.7710\n",
      "Epoch 104/120\n",
      "30/30 [==============================] - 0s 8ms/step - loss: 0.3948 - accuracy: 0.8733 - val_loss: 0.6436 - val_accuracy: 0.7620\n",
      "Epoch 105/120\n",
      "30/30 [==============================] - 0s 9ms/step - loss: 0.3923 - accuracy: 0.8755 - val_loss: 0.6360 - val_accuracy: 0.7680\n",
      "Epoch 106/120\n",
      "30/30 [==============================] - 0s 9ms/step - loss: 0.3888 - accuracy: 0.8760 - val_loss: 0.6295 - val_accuracy: 0.7700\n",
      "Epoch 107/120\n",
      "30/30 [==============================] - 0s 8ms/step - loss: 0.3862 - accuracy: 0.8767 - val_loss: 0.6369 - val_accuracy: 0.7710\n",
      "Epoch 108/120\n",
      "30/30 [==============================] - 0s 9ms/step - loss: 0.3833 - accuracy: 0.8777 - val_loss: 0.6303 - val_accuracy: 0.7660\n",
      "Epoch 109/120\n",
      "30/30 [==============================] - 0s 9ms/step - loss: 0.3805 - accuracy: 0.8796 - val_loss: 0.6353 - val_accuracy: 0.7670\n",
      "Epoch 110/120\n",
      "30/30 [==============================] - 0s 9ms/step - loss: 0.3780 - accuracy: 0.8792 - val_loss: 0.6346 - val_accuracy: 0.7710\n",
      "Epoch 111/120\n",
      "30/30 [==============================] - 0s 8ms/step - loss: 0.3751 - accuracy: 0.8821 - val_loss: 0.6329 - val_accuracy: 0.7710\n",
      "Epoch 112/120\n",
      "30/30 [==============================] - 0s 8ms/step - loss: 0.3727 - accuracy: 0.8817 - val_loss: 0.6317 - val_accuracy: 0.7710\n",
      "Epoch 113/120\n",
      "30/30 [==============================] - 0s 9ms/step - loss: 0.3699 - accuracy: 0.8816 - val_loss: 0.6377 - val_accuracy: 0.7710\n",
      "Epoch 114/120\n",
      "30/30 [==============================] - 0s 10ms/step - loss: 0.3675 - accuracy: 0.8831 - val_loss: 0.6329 - val_accuracy: 0.7650\n",
      "Epoch 115/120\n",
      "30/30 [==============================] - 0s 9ms/step - loss: 0.3644 - accuracy: 0.8840 - val_loss: 0.6321 - val_accuracy: 0.7650\n",
      "Epoch 116/120\n",
      "30/30 [==============================] - 0s 9ms/step - loss: 0.3624 - accuracy: 0.8855 - val_loss: 0.6336 - val_accuracy: 0.7730\n",
      "Epoch 117/120\n",
      "30/30 [==============================] - 0s 8ms/step - loss: 0.3597 - accuracy: 0.8869 - val_loss: 0.6340 - val_accuracy: 0.7670\n",
      "Epoch 118/120\n",
      "30/30 [==============================] - 0s 8ms/step - loss: 0.3572 - accuracy: 0.8872 - val_loss: 0.6389 - val_accuracy: 0.7680\n",
      "Epoch 119/120\n",
      "30/30 [==============================] - 0s 9ms/step - loss: 0.3551 - accuracy: 0.8884 - val_loss: 0.6375 - val_accuracy: 0.7760\n",
      "Epoch 120/120\n",
      "30/30 [==============================] - 0s 8ms/step - loss: 0.3526 - accuracy: 0.8903 - val_loss: 0.6398 - val_accuracy: 0.7740\n"
     ]
    }
   ],
   "source": [
    "model_val = model.fit(train_final,\n",
    "                    label_train_final,\n",
    "                    epochs=120,\n",
    "                    batch_size=256,\n",
    "                    validation_data=(val, label_val))"
   ]
  },
  {
   "cell_type": "markdown",
   "metadata": {},
   "source": [
    "The dictionary `history` contains four entries this time: one per metric that was being monitored during training and during validation.\n",
    "\n",
    "In the cell below:\n",
    "\n",
    "* Store the model's `.history` inside of `model_val_dict`\n",
    "* Check what `keys()` this dictionary contains"
   ]
  },
  {
   "cell_type": "code",
   "execution_count": 31,
   "metadata": {},
   "outputs": [
    {
     "data": {
      "text/plain": [
       "dict_keys(['loss', 'accuracy', 'val_loss', 'val_accuracy'])"
      ]
     },
     "execution_count": 31,
     "metadata": {},
     "output_type": "execute_result"
    }
   ],
   "source": [
    "model_val_dict = model_val.history\n",
    "model_val_dict.keys()"
   ]
  },
  {
   "cell_type": "markdown",
   "metadata": {},
   "source": [
    "Now, let's get the final results on the training and testing sets using `model.evaluate()` on `train_final` and `label_train_final`."
   ]
  },
  {
   "cell_type": "code",
   "execution_count": 32,
   "metadata": {},
   "outputs": [
    {
     "name": "stdout",
     "output_type": "stream",
     "text": [
      "235/235 [==============================] - 0s 1ms/step - loss: 0.3490 - accuracy: 0.8897\n"
     ]
    }
   ],
   "source": [
    "results_train = model.evaluate(train_final, label_train_final)"
   ]
  },
  {
   "cell_type": "markdown",
   "metadata": {},
   "source": [
    "Let's also use this function to get the results on our testing set.  Call the function again, but this time on `test` and `label_test`. "
   ]
  },
  {
   "cell_type": "code",
   "execution_count": 33,
   "metadata": {},
   "outputs": [
    {
     "name": "stdout",
     "output_type": "stream",
     "text": [
      "47/47 [==============================] - 0s 1ms/step - loss: 0.6335 - accuracy: 0.7800\n"
     ]
    }
   ],
   "source": [
    "results_test = model.evaluate(test, label_test)"
   ]
  },
  {
   "cell_type": "markdown",
   "metadata": {},
   "source": [
    "Now, check the contents of each. "
   ]
  },
  {
   "cell_type": "code",
   "execution_count": 34,
   "metadata": {},
   "outputs": [
    {
     "data": {
      "text/plain": [
       "[0.34896478056907654, 0.8897333145141602]"
      ]
     },
     "execution_count": 34,
     "metadata": {},
     "output_type": "execute_result"
    }
   ],
   "source": [
    "results_train # Expected Results: [0.33576024494171142, 0.89600000000000002]"
   ]
  },
  {
   "cell_type": "code",
   "execution_count": 35,
   "metadata": {},
   "outputs": [
    {
     "data": {
      "text/plain": [
       "[0.6335238814353943, 0.7799999713897705]"
      ]
     },
     "execution_count": 35,
     "metadata": {},
     "output_type": "execute_result"
    }
   ],
   "source": [
    "results_test # Expected Results: [0.72006658554077152, 0.74333333365122478]"
   ]
  },
  {
   "cell_type": "markdown",
   "metadata": {},
   "source": [
    "### Plotting the results"
   ]
  },
  {
   "cell_type": "markdown",
   "metadata": {},
   "source": [
    "Let's plot the results. Let's include the training and the validation loss in the same plot. We'll do the same thing for the training and validation accuracy.\n",
    "\n",
    "Run the cell below to visualize a plot of our training and validation loss."
   ]
  },
  {
   "cell_type": "code",
   "execution_count": 36,
   "metadata": {},
   "outputs": [
    {
     "data": {
      "image/png": "[encoded data removed]",
      "text/plain": [
       "<Figure size 432x288 with 1 Axes>"
      ]
     },
     "metadata": {
      "needs_background": "light"
     },
     "output_type": "display_data"
    }
   ],
   "source": [
    "plt.clf()\n",
    "\n",
    "import matplotlib.pyplot as plt\n",
    "loss_values = model_val_dict['loss']\n",
    "val_loss_values = model_val_dict['val_loss']\n",
    "\n",
    "epochs = range(1, len(loss_values) + 1)\n",
    "plt.plot(epochs, loss_values, 'g', label='Training loss')\n",
    "plt.plot(epochs, val_loss_values, 'g.', label='Validation loss')\n",
    "\n",
    "plt.title('Training & validation loss')\n",
    "plt.xlabel('Epochs')\n",
    "plt.ylabel('Loss')\n",
    "plt.legend()\n",
    "plt.show()"
   ]
  },
  {
   "cell_type": "markdown",
   "metadata": {},
   "source": [
    "Interesting! \n",
    "\n",
    "Run the cell below to visualize a plot of our training and validation accuracy>"
   ]
  },
  {
   "cell_type": "code",
   "execution_count": 38,
   "metadata": {},
   "outputs": [
    {
     "data": {
      "image/png": "[encoded data removed]",
      "text/plain": [
       "<Figure size 432x288 with 1 Axes>"
      ]
     },
     "metadata": {
      "needs_background": "light"
     },
     "output_type": "display_data"
    }
   ],
   "source": [
    "plt.clf()\n",
    "\n",
    "acc_values = model_val_dict['accuracy'] \n",
    "val_acc_values = model_val_dict['val_accuracy']\n",
    "\n",
    "plt.plot(epochs, acc_values, 'r', label='Training acc')\n",
    "plt.plot(epochs, val_acc_values, 'r.', label='Validation acc')\n",
    "plt.title('Training & validation accuracy')\n",
    "plt.xlabel('Epochs')\n",
    "plt.ylabel('Loss')\n",
    "plt.legend()\n",
    "plt.show()"
   ]
  },
  {
   "cell_type": "markdown",
   "metadata": {},
   "source": [
    "We observe an interesting pattern here: although the training accuracy keeps increasing when going through more epochs, and the training loss keeps decreasing, the validation accuracy and loss seem to be reaching a status quo around the 60th epoch. This means that we're actually **overfitting** to the train data when we do as many epochs as we were doing. Luckily, you learned how to tackle overfitting in the previous lecture! For starters, it does seem clear that we are training too long. So let's stop training at the 60th epoch first (so-called \"early stopping\") before we move to more advanced regularization techniques!"
   ]
  },
  {
   "cell_type": "markdown",
   "metadata": {},
   "source": [
    "## 3. Early stopping\n",
    "\n",
    "Now that we know that the model starts to overfit around epoch 60, we can just retrain the model from scratch, but this time only up to 60 epochs! This will help us with our overfitting problem.  This method is called **_Early Stopping_**.\n",
    "\n",
    "In the cell below: \n",
    "\n",
    "* Recreate the exact model we did above. \n",
    "* Compile the model with the exact same hyperparameters.\n",
    "* Fit the model with the exact same hyperparameters, with the exception of `epochs`.  This time, set epochs to `60` instead of `120`."
   ]
  },
  {
   "cell_type": "code",
   "execution_count": 49,
   "metadata": {},
   "outputs": [
    {
     "name": "stdout",
     "output_type": "stream",
     "text": [
      "Epoch 1/60\n",
      "30/30 [==============================] - 1s 16ms/step - loss: 1.9420 - accuracy: 0.1541 - val_loss: 1.9346 - val_accuracy: 0.1810\n",
      "Epoch 2/60\n",
      "30/30 [==============================] - 0s 5ms/step - loss: 1.9239 - accuracy: 0.1800 - val_loss: 1.9204 - val_accuracy: 0.1890\n",
      "Epoch 3/60\n",
      "30/30 [==============================] - 0s 7ms/step - loss: 1.9069 - accuracy: 0.2128 - val_loss: 1.9048 - val_accuracy: 0.2290\n",
      "Epoch 4/60\n",
      "30/30 [==============================] - 0s 7ms/step - loss: 1.8884 - accuracy: 0.2396 - val_loss: 1.8865 - val_accuracy: 0.2560\n",
      "Epoch 5/60\n",
      "30/30 [==============================] - 0s 8ms/step - loss: 1.8676 - accuracy: 0.2569 - val_loss: 1.8664 - val_accuracy: 0.2740\n",
      "Epoch 6/60\n",
      "30/30 [==============================] - 0s 9ms/step - loss: 1.8445 - accuracy: 0.2728 - val_loss: 1.8428 - val_accuracy: 0.2910\n",
      "Epoch 7/60\n",
      "30/30 [==============================] - 0s 7ms/step - loss: 1.8176 - accuracy: 0.2977 - val_loss: 1.8159 - val_accuracy: 0.3090\n",
      "Epoch 8/60\n",
      "30/30 [==============================] - 0s 7ms/step - loss: 1.7861 - accuracy: 0.3263 - val_loss: 1.7837 - val_accuracy: 0.3200\n",
      "Epoch 9/60\n",
      "30/30 [==============================] - 0s 8ms/step - loss: 1.7503 - accuracy: 0.3517 - val_loss: 1.7475 - val_accuracy: 0.3510\n",
      "Epoch 10/60\n",
      "30/30 [==============================] - 0s 8ms/step - loss: 1.7106 - accuracy: 0.3803 - val_loss: 1.7082 - val_accuracy: 0.3730\n",
      "Epoch 11/60\n",
      "30/30 [==============================] - 0s 9ms/step - loss: 1.6676 - accuracy: 0.4047 - val_loss: 1.6657 - val_accuracy: 0.3950\n",
      "Epoch 12/60\n",
      "30/30 [==============================] - 0s 7ms/step - loss: 1.6217 - accuracy: 0.4273 - val_loss: 1.6205 - val_accuracy: 0.4160\n",
      "Epoch 13/60\n",
      "30/30 [==============================] - 0s 6ms/step - loss: 1.5740 - accuracy: 0.4463 - val_loss: 1.5740 - val_accuracy: 0.4470\n",
      "Epoch 14/60\n",
      "30/30 [==============================] - 0s 5ms/step - loss: 1.5254 - accuracy: 0.4779 - val_loss: 1.5253 - val_accuracy: 0.4610\n",
      "Epoch 15/60\n",
      "30/30 [==============================] - 0s 7ms/step - loss: 1.4765 - accuracy: 0.4975 - val_loss: 1.4781 - val_accuracy: 0.4940\n",
      "Epoch 16/60\n",
      "30/30 [==============================] - 0s 6ms/step - loss: 1.4274 - accuracy: 0.5260 - val_loss: 1.4321 - val_accuracy: 0.5200\n",
      "Epoch 17/60\n",
      "30/30 [==============================] - 0s 5ms/step - loss: 1.3799 - accuracy: 0.5515 - val_loss: 1.3849 - val_accuracy: 0.5480\n",
      "Epoch 18/60\n",
      "30/30 [==============================] - 0s 6ms/step - loss: 1.3331 - accuracy: 0.5824 - val_loss: 1.3414 - val_accuracy: 0.5500\n",
      "Epoch 19/60\n",
      "30/30 [==============================] - 0s 5ms/step - loss: 1.2883 - accuracy: 0.6017 - val_loss: 1.2973 - val_accuracy: 0.5830\n",
      "Epoch 20/60\n",
      "30/30 [==============================] - 0s 5ms/step - loss: 1.2443 - accuracy: 0.6204 - val_loss: 1.2558 - val_accuracy: 0.5990\n",
      "Epoch 21/60\n",
      "30/30 [==============================] - 0s 5ms/step - loss: 1.2027 - accuracy: 0.6395 - val_loss: 1.2182 - val_accuracy: 0.6100\n",
      "Epoch 22/60\n",
      "30/30 [==============================] - 0s 5ms/step - loss: 1.1625 - accuracy: 0.6539 - val_loss: 1.1769 - val_accuracy: 0.6480\n",
      "Epoch 23/60\n",
      "30/30 [==============================] - 0s 5ms/step - loss: 1.1242 - accuracy: 0.6689 - val_loss: 1.1426 - val_accuracy: 0.6520\n",
      "Epoch 24/60\n",
      "30/30 [==============================] - 0s 5ms/step - loss: 1.0871 - accuracy: 0.6773 - val_loss: 1.1065 - val_accuracy: 0.6650\n",
      "Epoch 25/60\n",
      "30/30 [==============================] - 0s 5ms/step - loss: 1.0528 - accuracy: 0.6889 - val_loss: 1.0752 - val_accuracy: 0.6640\n",
      "Epoch 26/60\n",
      "30/30 [==============================] - 0s 5ms/step - loss: 1.0196 - accuracy: 0.6983 - val_loss: 1.0460 - val_accuracy: 0.6770\n",
      "Epoch 27/60\n",
      "30/30 [==============================] - 0s 5ms/step - loss: 0.9889 - accuracy: 0.7053 - val_loss: 1.0169 - val_accuracy: 0.6910\n",
      "Epoch 28/60\n",
      "30/30 [==============================] - 0s 8ms/step - loss: 0.9597 - accuracy: 0.7107 - val_loss: 0.9931 - val_accuracy: 0.6830\n",
      "Epoch 29/60\n",
      "30/30 [==============================] - 0s 6ms/step - loss: 0.9323 - accuracy: 0.7195 - val_loss: 0.9676 - val_accuracy: 0.6920\n",
      "Epoch 30/60\n",
      "30/30 [==============================] - 0s 5ms/step - loss: 0.9062 - accuracy: 0.7247 - val_loss: 0.9473 - val_accuracy: 0.6960\n",
      "Epoch 31/60\n",
      "30/30 [==============================] - 0s 5ms/step - loss: 0.8821 - accuracy: 0.7312 - val_loss: 0.9248 - val_accuracy: 0.7050\n",
      "Epoch 32/60\n",
      "30/30 [==============================] - 0s 5ms/step - loss: 0.8597 - accuracy: 0.7333 - val_loss: 0.9076 - val_accuracy: 0.7050\n",
      "Epoch 33/60\n",
      "30/30 [==============================] - 0s 5ms/step - loss: 0.8385 - accuracy: 0.7411 - val_loss: 0.8849 - val_accuracy: 0.7090\n",
      "Epoch 34/60\n",
      "30/30 [==============================] - 0s 7ms/step - loss: 0.8186 - accuracy: 0.7487 - val_loss: 0.8700 - val_accuracy: 0.7090\n",
      "Epoch 35/60\n",
      "30/30 [==============================] - 0s 8ms/step - loss: 0.8001 - accuracy: 0.7520 - val_loss: 0.8556 - val_accuracy: 0.7140\n",
      "Epoch 36/60\n",
      "30/30 [==============================] - 0s 7ms/step - loss: 0.7826 - accuracy: 0.7560 - val_loss: 0.8401 - val_accuracy: 0.7210\n",
      "Epoch 37/60\n",
      "30/30 [==============================] - 0s 8ms/step - loss: 0.7662 - accuracy: 0.7601 - val_loss: 0.8302 - val_accuracy: 0.7220\n",
      "Epoch 38/60\n",
      "30/30 [==============================] - 0s 8ms/step - loss: 0.7509 - accuracy: 0.7633 - val_loss: 0.8183 - val_accuracy: 0.7280\n",
      "Epoch 39/60\n",
      "30/30 [==============================] - 0s 8ms/step - loss: 0.7366 - accuracy: 0.7653 - val_loss: 0.8039 - val_accuracy: 0.7230\n",
      "Epoch 40/60\n",
      "30/30 [==============================] - 0s 6ms/step - loss: 0.7226 - accuracy: 0.7715 - val_loss: 0.7919 - val_accuracy: 0.7330\n",
      "Epoch 41/60\n",
      "30/30 [==============================] - 0s 6ms/step - loss: 0.7098 - accuracy: 0.7739 - val_loss: 0.7843 - val_accuracy: 0.7290\n",
      "Epoch 42/60\n",
      "30/30 [==============================] - 0s 7ms/step - loss: 0.6977 - accuracy: 0.7735 - val_loss: 0.7769 - val_accuracy: 0.7340\n",
      "Epoch 43/60\n",
      "30/30 [==============================] - 0s 6ms/step - loss: 0.6863 - accuracy: 0.7784 - val_loss: 0.7687 - val_accuracy: 0.7330\n",
      "Epoch 44/60\n",
      "30/30 [==============================] - 0s 8ms/step - loss: 0.6757 - accuracy: 0.7819 - val_loss: 0.7608 - val_accuracy: 0.7360\n",
      "Epoch 45/60\n",
      "30/30 [==============================] - 0s 7ms/step - loss: 0.6653 - accuracy: 0.7829 - val_loss: 0.7527 - val_accuracy: 0.7390\n",
      "Epoch 46/60\n",
      "30/30 [==============================] - 0s 7ms/step - loss: 0.6554 - accuracy: 0.7849 - val_loss: 0.7515 - val_accuracy: 0.7310\n",
      "Epoch 47/60\n",
      "30/30 [==============================] - 0s 7ms/step - loss: 0.6473 - accuracy: 0.7865 - val_loss: 0.7404 - val_accuracy: 0.7370\n",
      "Epoch 48/60\n",
      "30/30 [==============================] - 0s 8ms/step - loss: 0.6371 - accuracy: 0.7911 - val_loss: 0.7364 - val_accuracy: 0.7240\n",
      "Epoch 49/60\n",
      "30/30 [==============================] - 0s 8ms/step - loss: 0.6289 - accuracy: 0.7951 - val_loss: 0.7301 - val_accuracy: 0.7490\n",
      "Epoch 50/60\n",
      "30/30 [==============================] - 0s 8ms/step - loss: 0.6210 - accuracy: 0.7944 - val_loss: 0.7232 - val_accuracy: 0.7400\n",
      "Epoch 51/60\n",
      "30/30 [==============================] - 0s 8ms/step - loss: 0.6129 - accuracy: 0.7981 - val_loss: 0.7166 - val_accuracy: 0.7500\n",
      "Epoch 52/60\n",
      "30/30 [==============================] - 0s 8ms/step - loss: 0.6055 - accuracy: 0.7984 - val_loss: 0.7129 - val_accuracy: 0.7460\n",
      "Epoch 53/60\n",
      "30/30 [==============================] - 0s 8ms/step - loss: 0.5983 - accuracy: 0.8033 - val_loss: 0.7119 - val_accuracy: 0.7450\n",
      "Epoch 54/60\n",
      "30/30 [==============================] - 0s 8ms/step - loss: 0.5913 - accuracy: 0.8051 - val_loss: 0.7071 - val_accuracy: 0.7530\n",
      "Epoch 55/60\n",
      "30/30 [==============================] - 0s 8ms/step - loss: 0.5847 - accuracy: 0.8048 - val_loss: 0.7045 - val_accuracy: 0.7520\n",
      "Epoch 56/60\n",
      "30/30 [==============================] - 0s 8ms/step - loss: 0.5779 - accuracy: 0.8087 - val_loss: 0.6992 - val_accuracy: 0.7440\n",
      "Epoch 57/60\n",
      "30/30 [==============================] - 0s 8ms/step - loss: 0.5715 - accuracy: 0.8101 - val_loss: 0.6965 - val_accuracy: 0.7520\n",
      "Epoch 58/60\n",
      "30/30 [==============================] - 0s 7ms/step - loss: 0.5657 - accuracy: 0.8117 - val_loss: 0.6924 - val_accuracy: 0.7500\n",
      "Epoch 59/60\n",
      "30/30 [==============================] - 0s 7ms/step - loss: 0.5596 - accuracy: 0.8120 - val_loss: 0.6942 - val_accuracy: 0.7520\n",
      "Epoch 60/60\n",
      "30/30 [==============================] - 0s 7ms/step - loss: 0.5543 - accuracy: 0.8149 - val_loss: 0.6885 - val_accuracy: 0.7570\n"
     ]
    }
   ],
   "source": [
    "model = Sequential()\n",
    "model.add(Dense(50, activation='relu', input_shape=(2000,))) #2 hidden layers\n",
    "model.add(Dense(25, activation='relu'))\n",
    "model.add(Dense(7, activation='softmax'))\n",
    "model.compile(optimizer='SGD', loss='categorical_crossentropy', metrics=['accuracy'])\n",
    "final_model = model.fit(train_final, label_train_final, epochs=60, batch_size=256, validation_data=(val, label_val))"
   ]
  },
  {
   "cell_type": "markdown",
   "metadata": {},
   "source": [
    "Now, as we did before, get our results using `model.evaluate()` on the appropriate variables. "
   ]
  },
  {
   "cell_type": "code",
   "execution_count": 50,
   "metadata": {},
   "outputs": [
    {
     "name": "stdout",
     "output_type": "stream",
     "text": [
      "235/235 [==============================] - 0s 1ms/step - loss: 0.5492 - accuracy: 0.8167\n"
     ]
    }
   ],
   "source": [
    "results_train = model.evaluate(train_final, label_train_final)"
   ]
  },
  {
   "cell_type": "code",
   "execution_count": 51,
   "metadata": {},
   "outputs": [
    {
     "name": "stdout",
     "output_type": "stream",
     "text": [
      "47/47 [==============================] - 0s 1ms/step - loss: 0.6962 - accuracy: 0.7547\n"
     ]
    }
   ],
   "source": [
    "results_test = model.evaluate(test, label_test)"
   ]
  },
  {
   "cell_type": "code",
   "execution_count": 52,
   "metadata": {},
   "outputs": [
    {
     "data": {
      "text/plain": [
       "[0.5491539835929871, 0.8166666626930237]"
      ]
     },
     "execution_count": 52,
     "metadata": {},
     "output_type": "execute_result"
    }
   ],
   "source": [
    "results_train  # Expected Output: [0.58606486314137773, 0.79826666669845581]"
   ]
  },
  {
   "cell_type": "code",
   "execution_count": 53,
   "metadata": {},
   "outputs": [
    {
     "data": {
      "text/plain": [
       "[0.6961879134178162, 0.7546666860580444]"
      ]
     },
     "execution_count": 53,
     "metadata": {},
     "output_type": "execute_result"
    }
   ],
   "source": [
    "results_test # [0.74768974288304646, 0.71333333365122475]"
   ]
  },
  {
   "cell_type": "markdown",
   "metadata": {},
   "source": [
    "We've significantly reduced the variance, so this is already pretty good! Our test set accuracy is slightly worse, but this model will definitely be more robust than the 120 epochs one we fitted before.\n",
    "\n",
    "Now, let's see what else we can do to improve the result!"
   ]
  },
  {
   "cell_type": "markdown",
   "metadata": {},
   "source": [
    "## 4. L2 regularization"
   ]
  },
  {
   "cell_type": "markdown",
   "metadata": {},
   "source": [
    "Let's include L2 regularization. You can easily do this in keras adding the argument `kernel_regulizers.l2` and adding a value for the regularization parameter lambda between parentheses.\n",
    "\n",
    "In the cell below: \n",
    "\n",
    "* Recreate the same model we did before.\n",
    "* In our two hidden layers (but not our output layer), add in the parameter `kernel_regularizer=regularizers.l2(0.005)` to add L2 regularization to each hidden layer.  \n",
    "* Compile the model with the same hyperparameters as we did before. \n",
    "* Fit the model with the same hyperparameters as we did before, but this time for `120` epochs.\n",
    "* Store the fitted model that the `.fit` call returns inside a variable called `L2_model`."
   ]
  },
  {
   "cell_type": "code",
   "execution_count": 54,
   "metadata": {},
   "outputs": [
    {
     "name": "stdout",
     "output_type": "stream",
     "text": [
      "Epoch 1/120\n",
      "30/30 [==============================] - 1s 16ms/step - loss: 2.5904 - accuracy: 0.1720 - val_loss: 2.5714 - val_accuracy: 0.1920\n",
      "Epoch 2/120\n",
      "30/30 [==============================] - 0s 5ms/step - loss: 2.5534 - accuracy: 0.2300 - val_loss: 2.5394 - val_accuracy: 0.2380\n",
      "Epoch 3/120\n",
      "30/30 [==============================] - 0s 7ms/step - loss: 2.5187 - accuracy: 0.2677 - val_loss: 2.5068 - val_accuracy: 0.2670\n",
      "Epoch 4/120\n",
      "30/30 [==============================] - 0s 8ms/step - loss: 2.4818 - accuracy: 0.3036 - val_loss: 2.4711 - val_accuracy: 0.3000\n",
      "Epoch 5/120\n",
      "30/30 [==============================] - 0s 8ms/step - loss: 2.4423 - accuracy: 0.3316 - val_loss: 2.4326 - val_accuracy: 0.3360\n",
      "Epoch 6/120\n",
      "30/30 [==============================] - 0s 7ms/step - loss: 2.4007 - accuracy: 0.3563 - val_loss: 2.3921 - val_accuracy: 0.3560\n",
      "Epoch 7/120\n",
      "30/30 [==============================] - 0s 8ms/step - loss: 2.3573 - accuracy: 0.3752 - val_loss: 2.3492 - val_accuracy: 0.3720\n",
      "Epoch 8/120\n",
      "30/30 [==============================] - 0s 8ms/step - loss: 2.3120 - accuracy: 0.3932 - val_loss: 2.3052 - val_accuracy: 0.3900\n",
      "Epoch 9/120\n",
      "30/30 [==============================] - 0s 7ms/step - loss: 2.2659 - accuracy: 0.4075 - val_loss: 2.2604 - val_accuracy: 0.4010\n",
      "Epoch 10/120\n",
      "30/30 [==============================] - 0s 7ms/step - loss: 2.2191 - accuracy: 0.4235 - val_loss: 2.2139 - val_accuracy: 0.4210\n",
      "Epoch 11/120\n",
      "30/30 [==============================] - 0s 8ms/step - loss: 2.1725 - accuracy: 0.4401 - val_loss: 2.1686 - val_accuracy: 0.4480\n",
      "Epoch 12/120\n",
      "30/30 [==============================] - 0s 8ms/step - loss: 2.1261 - accuracy: 0.4595 - val_loss: 2.1236 - val_accuracy: 0.4620\n",
      "Epoch 13/120\n",
      "30/30 [==============================] - 0s 8ms/step - loss: 2.0801 - accuracy: 0.4823 - val_loss: 2.0803 - val_accuracy: 0.4730\n",
      "Epoch 14/120\n",
      "30/30 [==============================] - 0s 6ms/step - loss: 2.0351 - accuracy: 0.5023 - val_loss: 2.0373 - val_accuracy: 0.4900\n",
      "Epoch 15/120\n",
      "30/30 [==============================] - 0s 7ms/step - loss: 1.9919 - accuracy: 0.5217 - val_loss: 1.9947 - val_accuracy: 0.5090\n",
      "Epoch 16/120\n",
      "30/30 [==============================] - 0s 7ms/step - loss: 1.9497 - accuracy: 0.5407 - val_loss: 1.9560 - val_accuracy: 0.5270\n",
      "Epoch 17/120\n",
      "30/30 [==============================] - 0s 6ms/step - loss: 1.9096 - accuracy: 0.5609 - val_loss: 1.9164 - val_accuracy: 0.5580\n",
      "Epoch 18/120\n",
      "30/30 [==============================] - 0s 7ms/step - loss: 1.8707 - accuracy: 0.5835 - val_loss: 1.8813 - val_accuracy: 0.5750\n",
      "Epoch 19/120\n",
      "30/30 [==============================] - 0s 6ms/step - loss: 1.8324 - accuracy: 0.5979 - val_loss: 1.8433 - val_accuracy: 0.5970\n",
      "Epoch 20/120\n",
      "30/30 [==============================] - 0s 5ms/step - loss: 1.7959 - accuracy: 0.6191 - val_loss: 1.8095 - val_accuracy: 0.6090\n",
      "Epoch 21/120\n",
      "30/30 [==============================] - 0s 5ms/step - loss: 1.7607 - accuracy: 0.6353 - val_loss: 1.7782 - val_accuracy: 0.6140\n",
      "Epoch 22/120\n",
      "30/30 [==============================] - 0s 5ms/step - loss: 1.7268 - accuracy: 0.6456 - val_loss: 1.7478 - val_accuracy: 0.6260\n",
      "Epoch 23/120\n",
      "30/30 [==============================] - 0s 5ms/step - loss: 1.6941 - accuracy: 0.6540 - val_loss: 1.7165 - val_accuracy: 0.6380\n",
      "Epoch 24/120\n",
      "30/30 [==============================] - 0s 5ms/step - loss: 1.6633 - accuracy: 0.6635 - val_loss: 1.6888 - val_accuracy: 0.6530\n",
      "Epoch 25/120\n",
      "30/30 [==============================] - 0s 6ms/step - loss: 1.6338 - accuracy: 0.6747 - val_loss: 1.6625 - val_accuracy: 0.6690\n",
      "Epoch 26/120\n",
      "30/30 [==============================] - 0s 6ms/step - loss: 1.6061 - accuracy: 0.6844 - val_loss: 1.6391 - val_accuracy: 0.6710\n",
      "Epoch 27/120\n",
      "30/30 [==============================] - 0s 6ms/step - loss: 1.5795 - accuracy: 0.6887 - val_loss: 1.6145 - val_accuracy: 0.6780\n",
      "Epoch 28/120\n",
      "30/30 [==============================] - 0s 7ms/step - loss: 1.5544 - accuracy: 0.6980 - val_loss: 1.5901 - val_accuracy: 0.6840\n",
      "Epoch 29/120\n",
      "30/30 [==============================] - 0s 6ms/step - loss: 1.5306 - accuracy: 0.7044 - val_loss: 1.5696 - val_accuracy: 0.6850\n",
      "Epoch 30/120\n",
      "30/30 [==============================] - 0s 6ms/step - loss: 1.5082 - accuracy: 0.7103 - val_loss: 1.5493 - val_accuracy: 0.6870\n",
      "Epoch 31/120\n",
      "30/30 [==============================] - 0s 6ms/step - loss: 1.4869 - accuracy: 0.7148 - val_loss: 1.5286 - val_accuracy: 0.7000\n",
      "Epoch 32/120\n",
      "30/30 [==============================] - 0s 6ms/step - loss: 1.4668 - accuracy: 0.7189 - val_loss: 1.5128 - val_accuracy: 0.6980\n",
      "Epoch 33/120\n",
      "30/30 [==============================] - 0s 7ms/step - loss: 1.4473 - accuracy: 0.7232 - val_loss: 1.4957 - val_accuracy: 0.6980\n",
      "Epoch 34/120\n",
      "30/30 [==============================] - 0s 6ms/step - loss: 1.4293 - accuracy: 0.7261 - val_loss: 1.4805 - val_accuracy: 0.7070\n",
      "Epoch 35/120\n",
      "30/30 [==============================] - 0s 7ms/step - loss: 1.4121 - accuracy: 0.7313 - val_loss: 1.4666 - val_accuracy: 0.6950\n",
      "Epoch 36/120\n",
      "30/30 [==============================] - 0s 7ms/step - loss: 1.3958 - accuracy: 0.7348 - val_loss: 1.4518 - val_accuracy: 0.7070\n",
      "Epoch 37/120\n",
      "30/30 [==============================] - 0s 8ms/step - loss: 1.3803 - accuracy: 0.7379 - val_loss: 1.4386 - val_accuracy: 0.7070\n",
      "Epoch 38/120\n",
      "30/30 [==============================] - 0s 7ms/step - loss: 1.3656 - accuracy: 0.7396 - val_loss: 1.4256 - val_accuracy: 0.7090\n",
      "Epoch 39/120\n",
      "30/30 [==============================] - 0s 7ms/step - loss: 1.3517 - accuracy: 0.7441 - val_loss: 1.4135 - val_accuracy: 0.7120\n",
      "Epoch 40/120\n",
      "30/30 [==============================] - 0s 7ms/step - loss: 1.3380 - accuracy: 0.7479 - val_loss: 1.4028 - val_accuracy: 0.7150\n",
      "Epoch 41/120\n",
      "30/30 [==============================] - 0s 6ms/step - loss: 1.3251 - accuracy: 0.7523 - val_loss: 1.3889 - val_accuracy: 0.7230\n",
      "Epoch 42/120\n",
      "30/30 [==============================] - 0s 6ms/step - loss: 1.3128 - accuracy: 0.7545 - val_loss: 1.3811 - val_accuracy: 0.7220\n",
      "Epoch 43/120\n",
      "30/30 [==============================] - 0s 7ms/step - loss: 1.3010 - accuracy: 0.7577 - val_loss: 1.3701 - val_accuracy: 0.7140\n",
      "Epoch 44/120\n",
      "30/30 [==============================] - 0s 6ms/step - loss: 1.2897 - accuracy: 0.7585 - val_loss: 1.3605 - val_accuracy: 0.7210\n",
      "Epoch 45/120\n",
      "30/30 [==============================] - 0s 7ms/step - loss: 1.2786 - accuracy: 0.7611 - val_loss: 1.3510 - val_accuracy: 0.7320\n",
      "Epoch 46/120\n",
      "30/30 [==============================] - 0s 7ms/step - loss: 1.2678 - accuracy: 0.7653 - val_loss: 1.3407 - val_accuracy: 0.7250\n",
      "Epoch 47/120\n",
      "30/30 [==============================] - 0s 7ms/step - loss: 1.2577 - accuracy: 0.7644 - val_loss: 1.3341 - val_accuracy: 0.7250\n",
      "Epoch 48/120\n",
      "30/30 [==============================] - 0s 8ms/step - loss: 1.2477 - accuracy: 0.7665 - val_loss: 1.3253 - val_accuracy: 0.7370\n",
      "Epoch 49/120\n",
      "30/30 [==============================] - 0s 6ms/step - loss: 1.2379 - accuracy: 0.7691 - val_loss: 1.3170 - val_accuracy: 0.7370\n",
      "Epoch 50/120\n",
      "30/30 [==============================] - 0s 7ms/step - loss: 1.2286 - accuracy: 0.7725 - val_loss: 1.3112 - val_accuracy: 0.7320\n",
      "Epoch 51/120\n",
      "30/30 [==============================] - 0s 7ms/step - loss: 1.2195 - accuracy: 0.7751 - val_loss: 1.3029 - val_accuracy: 0.7370\n",
      "Epoch 52/120\n",
      "30/30 [==============================] - 0s 7ms/step - loss: 1.2108 - accuracy: 0.7787 - val_loss: 1.2945 - val_accuracy: 0.7390\n",
      "Epoch 53/120\n",
      "30/30 [==============================] - 0s 7ms/step - loss: 1.2020 - accuracy: 0.7795 - val_loss: 1.2910 - val_accuracy: 0.7390\n",
      "Epoch 54/120\n",
      "30/30 [==============================] - 0s 6ms/step - loss: 1.1936 - accuracy: 0.7799 - val_loss: 1.2829 - val_accuracy: 0.7390\n",
      "Epoch 55/120\n",
      "30/30 [==============================] - 0s 7ms/step - loss: 1.1855 - accuracy: 0.7823 - val_loss: 1.2793 - val_accuracy: 0.7340\n",
      "Epoch 56/120\n",
      "30/30 [==============================] - 0s 7ms/step - loss: 1.1775 - accuracy: 0.7871 - val_loss: 1.2705 - val_accuracy: 0.7390\n",
      "Epoch 57/120\n",
      "30/30 [==============================] - 0s 6ms/step - loss: 1.1696 - accuracy: 0.7880 - val_loss: 1.2654 - val_accuracy: 0.7380\n",
      "Epoch 58/120\n",
      "30/30 [==============================] - 0s 7ms/step - loss: 1.1620 - accuracy: 0.7916 - val_loss: 1.2610 - val_accuracy: 0.7410\n",
      "Epoch 59/120\n",
      "30/30 [==============================] - 0s 6ms/step - loss: 1.1548 - accuracy: 0.7921 - val_loss: 1.2548 - val_accuracy: 0.7410\n",
      "Epoch 60/120\n",
      "30/30 [==============================] - 0s 6ms/step - loss: 1.1477 - accuracy: 0.7955 - val_loss: 1.2490 - val_accuracy: 0.7400\n",
      "Epoch 61/120\n",
      "30/30 [==============================] - 0s 7ms/step - loss: 1.1400 - accuracy: 0.7969 - val_loss: 1.2425 - val_accuracy: 0.7450\n",
      "Epoch 62/120\n",
      "30/30 [==============================] - 0s 7ms/step - loss: 1.1334 - accuracy: 0.7979 - val_loss: 1.2362 - val_accuracy: 0.7440\n",
      "Epoch 63/120\n",
      "30/30 [==============================] - 0s 7ms/step - loss: 1.1264 - accuracy: 0.8017 - val_loss: 1.2316 - val_accuracy: 0.7400\n",
      "Epoch 64/120\n",
      "30/30 [==============================] - 0s 6ms/step - loss: 1.1197 - accuracy: 0.8036 - val_loss: 1.2270 - val_accuracy: 0.7420\n",
      "Epoch 65/120\n",
      "30/30 [==============================] - 0s 6ms/step - loss: 1.1128 - accuracy: 0.8060 - val_loss: 1.2257 - val_accuracy: 0.7440\n",
      "Epoch 66/120\n",
      "30/30 [==============================] - 0s 6ms/step - loss: 1.1065 - accuracy: 0.8057 - val_loss: 1.2202 - val_accuracy: 0.7400\n",
      "Epoch 67/120\n",
      "30/30 [==============================] - 0s 7ms/step - loss: 1.1003 - accuracy: 0.8099 - val_loss: 1.2145 - val_accuracy: 0.7440\n",
      "Epoch 68/120\n",
      "30/30 [==============================] - 0s 7ms/step - loss: 1.0936 - accuracy: 0.8083 - val_loss: 1.2083 - val_accuracy: 0.7450\n",
      "Epoch 69/120\n",
      "30/30 [==============================] - 0s 6ms/step - loss: 1.0872 - accuracy: 0.8115 - val_loss: 1.2042 - val_accuracy: 0.7520\n",
      "Epoch 70/120\n",
      "30/30 [==============================] - 0s 8ms/step - loss: 1.0817 - accuracy: 0.8141 - val_loss: 1.2004 - val_accuracy: 0.7570\n",
      "Epoch 71/120\n",
      "30/30 [==============================] - 0s 7ms/step - loss: 1.0753 - accuracy: 0.8148 - val_loss: 1.1989 - val_accuracy: 0.7440\n",
      "Epoch 72/120\n",
      "30/30 [==============================] - 0s 7ms/step - loss: 1.0697 - accuracy: 0.8129 - val_loss: 1.1934 - val_accuracy: 0.7480\n",
      "Epoch 73/120\n",
      "30/30 [==============================] - 0s 8ms/step - loss: 1.0638 - accuracy: 0.8167 - val_loss: 1.1881 - val_accuracy: 0.7450\n",
      "Epoch 74/120\n",
      "30/30 [==============================] - 0s 8ms/step - loss: 1.0582 - accuracy: 0.8180 - val_loss: 1.1854 - val_accuracy: 0.7550\n",
      "Epoch 75/120\n",
      "30/30 [==============================] - 0s 6ms/step - loss: 1.0523 - accuracy: 0.8201 - val_loss: 1.1807 - val_accuracy: 0.7540\n",
      "Epoch 76/120\n",
      "30/30 [==============================] - 0s 7ms/step - loss: 1.0473 - accuracy: 0.8235 - val_loss: 1.1808 - val_accuracy: 0.7490\n",
      "Epoch 77/120\n",
      "30/30 [==============================] - 0s 7ms/step - loss: 1.0416 - accuracy: 0.8237 - val_loss: 1.1749 - val_accuracy: 0.7560\n",
      "Epoch 78/120\n",
      "30/30 [==============================] - 0s 7ms/step - loss: 1.0362 - accuracy: 0.8261 - val_loss: 1.1709 - val_accuracy: 0.7520\n",
      "Epoch 79/120\n",
      "30/30 [==============================] - 0s 7ms/step - loss: 1.0307 - accuracy: 0.8267 - val_loss: 1.1666 - val_accuracy: 0.7580\n",
      "Epoch 80/120\n",
      "30/30 [==============================] - 0s 6ms/step - loss: 1.0258 - accuracy: 0.8269 - val_loss: 1.1645 - val_accuracy: 0.7520\n",
      "Epoch 81/120\n",
      "30/30 [==============================] - 0s 6ms/step - loss: 1.0201 - accuracy: 0.8291 - val_loss: 1.1626 - val_accuracy: 0.7570\n",
      "Epoch 82/120\n",
      "30/30 [==============================] - 0s 7ms/step - loss: 1.0149 - accuracy: 0.8319 - val_loss: 1.1571 - val_accuracy: 0.7600\n",
      "Epoch 83/120\n",
      "30/30 [==============================] - 0s 7ms/step - loss: 1.0095 - accuracy: 0.8331 - val_loss: 1.1572 - val_accuracy: 0.7530\n",
      "Epoch 84/120\n",
      "30/30 [==============================] - 0s 7ms/step - loss: 1.0051 - accuracy: 0.8347 - val_loss: 1.1520 - val_accuracy: 0.7560\n",
      "Epoch 85/120\n",
      "30/30 [==============================] - 0s 7ms/step - loss: 1.0001 - accuracy: 0.8344 - val_loss: 1.1477 - val_accuracy: 0.7530\n",
      "Epoch 86/120\n",
      "30/30 [==============================] - 0s 7ms/step - loss: 0.9951 - accuracy: 0.8360 - val_loss: 1.1433 - val_accuracy: 0.7620\n",
      "Epoch 87/120\n",
      "30/30 [==============================] - 0s 6ms/step - loss: 0.9902 - accuracy: 0.8369 - val_loss: 1.1436 - val_accuracy: 0.7560\n",
      "Epoch 88/120\n",
      "30/30 [==============================] - 0s 6ms/step - loss: 0.9854 - accuracy: 0.8385 - val_loss: 1.1374 - val_accuracy: 0.7580\n",
      "Epoch 89/120\n",
      "30/30 [==============================] - 0s 7ms/step - loss: 0.9807 - accuracy: 0.8405 - val_loss: 1.1389 - val_accuracy: 0.7590\n",
      "Epoch 90/120\n",
      "30/30 [==============================] - 0s 6ms/step - loss: 0.9762 - accuracy: 0.8413 - val_loss: 1.1347 - val_accuracy: 0.7570\n",
      "Epoch 91/120\n",
      "30/30 [==============================] - 0s 6ms/step - loss: 0.9715 - accuracy: 0.8432 - val_loss: 1.1298 - val_accuracy: 0.7600\n",
      "Epoch 92/120\n",
      "30/30 [==============================] - 0s 7ms/step - loss: 0.9667 - accuracy: 0.8451 - val_loss: 1.1299 - val_accuracy: 0.7610\n",
      "Epoch 93/120\n",
      "30/30 [==============================] - 0s 7ms/step - loss: 0.9624 - accuracy: 0.8476 - val_loss: 1.1272 - val_accuracy: 0.7580\n",
      "Epoch 94/120\n",
      "30/30 [==============================] - 0s 7ms/step - loss: 0.9581 - accuracy: 0.8485 - val_loss: 1.1264 - val_accuracy: 0.7540\n",
      "Epoch 95/120\n",
      "30/30 [==============================] - 0s 8ms/step - loss: 0.9535 - accuracy: 0.8489 - val_loss: 1.1196 - val_accuracy: 0.7590\n",
      "Epoch 96/120\n",
      "30/30 [==============================] - 0s 6ms/step - loss: 0.9488 - accuracy: 0.8508 - val_loss: 1.1170 - val_accuracy: 0.7610\n",
      "Epoch 97/120\n",
      "30/30 [==============================] - 0s 5ms/step - loss: 0.9448 - accuracy: 0.8513 - val_loss: 1.1159 - val_accuracy: 0.7640\n",
      "Epoch 98/120\n",
      "30/30 [==============================] - 0s 7ms/step - loss: 0.9403 - accuracy: 0.8532 - val_loss: 1.1143 - val_accuracy: 0.7590\n",
      "Epoch 99/120\n",
      "30/30 [==============================] - 0s 6ms/step - loss: 0.9362 - accuracy: 0.8543 - val_loss: 1.1080 - val_accuracy: 0.7620\n",
      "Epoch 100/120\n",
      "30/30 [==============================] - 0s 5ms/step - loss: 0.9316 - accuracy: 0.8576 - val_loss: 1.1064 - val_accuracy: 0.7600\n",
      "Epoch 101/120\n",
      "30/30 [==============================] - 0s 5ms/step - loss: 0.9274 - accuracy: 0.8587 - val_loss: 1.1038 - val_accuracy: 0.7620\n",
      "Epoch 102/120\n",
      "30/30 [==============================] - 0s 5ms/step - loss: 0.9232 - accuracy: 0.8587 - val_loss: 1.1065 - val_accuracy: 0.7550\n",
      "Epoch 103/120\n",
      "30/30 [==============================] - 0s 5ms/step - loss: 0.9194 - accuracy: 0.8600 - val_loss: 1.0983 - val_accuracy: 0.7650\n",
      "Epoch 104/120\n",
      "30/30 [==============================] - 0s 5ms/step - loss: 0.9152 - accuracy: 0.8619 - val_loss: 1.1022 - val_accuracy: 0.7610\n",
      "Epoch 105/120\n",
      "30/30 [==============================] - 0s 5ms/step - loss: 0.9115 - accuracy: 0.8605 - val_loss: 1.0992 - val_accuracy: 0.7590\n",
      "Epoch 106/120\n",
      "30/30 [==============================] - 0s 5ms/step - loss: 0.9072 - accuracy: 0.8633 - val_loss: 1.0925 - val_accuracy: 0.7690\n",
      "Epoch 107/120\n",
      "30/30 [==============================] - 0s 5ms/step - loss: 0.9034 - accuracy: 0.8633 - val_loss: 1.0927 - val_accuracy: 0.7630\n",
      "Epoch 108/120\n",
      "30/30 [==============================] - 0s 6ms/step - loss: 0.8995 - accuracy: 0.8649 - val_loss: 1.0915 - val_accuracy: 0.7580\n",
      "Epoch 109/120\n",
      "30/30 [==============================] - 0s 5ms/step - loss: 0.8954 - accuracy: 0.8681 - val_loss: 1.0864 - val_accuracy: 0.7600\n",
      "Epoch 110/120\n",
      "30/30 [==============================] - 0s 5ms/step - loss: 0.8917 - accuracy: 0.8663 - val_loss: 1.0859 - val_accuracy: 0.7630\n",
      "Epoch 111/120\n",
      "30/30 [==============================] - 0s 6ms/step - loss: 0.8875 - accuracy: 0.8687 - val_loss: 1.0814 - val_accuracy: 0.7580\n",
      "Epoch 112/120\n",
      "30/30 [==============================] - 0s 7ms/step - loss: 0.8843 - accuracy: 0.8687 - val_loss: 1.0802 - val_accuracy: 0.7610\n",
      "Epoch 113/120\n",
      "30/30 [==============================] - 0s 7ms/step - loss: 0.8803 - accuracy: 0.8703 - val_loss: 1.0781 - val_accuracy: 0.7630\n",
      "Epoch 114/120\n",
      "30/30 [==============================] - 0s 6ms/step - loss: 0.8764 - accuracy: 0.8733 - val_loss: 1.0766 - val_accuracy: 0.7640\n",
      "Epoch 115/120\n",
      "30/30 [==============================] - 0s 6ms/step - loss: 0.8731 - accuracy: 0.8713 - val_loss: 1.0731 - val_accuracy: 0.7600\n",
      "Epoch 116/120\n",
      "30/30 [==============================] - 0s 5ms/step - loss: 0.8691 - accuracy: 0.8743 - val_loss: 1.0760 - val_accuracy: 0.7580\n",
      "Epoch 117/120\n",
      "30/30 [==============================] - 0s 5ms/step - loss: 0.8654 - accuracy: 0.8743 - val_loss: 1.0725 - val_accuracy: 0.7630\n",
      "Epoch 118/120\n",
      "30/30 [==============================] - 0s 5ms/step - loss: 0.8620 - accuracy: 0.8757 - val_loss: 1.0710 - val_accuracy: 0.7620\n",
      "Epoch 119/120\n",
      "30/30 [==============================] - 0s 6ms/step - loss: 0.8583 - accuracy: 0.8756 - val_loss: 1.0671 - val_accuracy: 0.7580\n",
      "Epoch 120/120\n",
      "30/30 [==============================] - 0s 6ms/step - loss: 0.8549 - accuracy: 0.8776 - val_loss: 1.0638 - val_accuracy: 0.7680\n"
     ]
    }
   ],
   "source": [
    "from keras import regularizers\n",
    "model = Sequential()\n",
    "model.add(Dense(50, activation='relu',kernel_regularizer=regularizers.l2(0.005), input_shape=(2000,))) #2 hidden layers\n",
    "model.add(Dense(25, kernel_regularizer=regularizers.l2(0.005), activation='relu'))\n",
    "model.add(Dense(7, activation='softmax'))\n",
    "model.compile(optimizer='SGD', loss='categorical_crossentropy', metrics=['accuracy']) \n",
    "L2_model = model.fit(train_final, label_train_final, epochs=120,batch_size=256, validation_data=(val, label_val))"
   ]
  },
  {
   "cell_type": "markdown",
   "metadata": {},
   "source": [
    "Now, let's see how regularization has affected our model results.  \n",
    "\n",
    "Run the cell below to get the model's `.history`."
   ]
  },
  {
   "cell_type": "code",
   "execution_count": 55,
   "metadata": {},
   "outputs": [
    {
     "data": {
      "text/plain": [
       "dict_keys(['loss', 'accuracy', 'val_loss', 'val_accuracy'])"
      ]
     },
     "execution_count": 55,
     "metadata": {},
     "output_type": "execute_result"
    }
   ],
   "source": [
    "L2_model_dict = L2_model.history\n",
    "L2_model_dict.keys()"
   ]
  },
  {
   "cell_type": "markdown",
   "metadata": {},
   "source": [
    "Let's look at the training accuracy as well as the validation accuracy for both the L2 and the model without regularization (for 120 epochs).\n",
    "\n",
    "Run the cell below to visualize our training and validation accuracy both with and without L2 regularization, so that we can compare them directly."
   ]
  },
  {
   "cell_type": "code",
   "execution_count": 56,
   "metadata": {},
   "outputs": [
    {
     "data": {
      "image/png": "[encoded data removed]",
      "text/plain": [
       "<Figure size 432x288 with 1 Axes>"
      ]
     },
     "metadata": {
      "needs_background": "light"
     },
     "output_type": "display_data"
    }
   ],
   "source": [
    "plt.clf()\n",
    "\n",
    "acc_values = L2_model_dict['accuracy'] \n",
    "val_acc_values = L2_model_dict['val_accuracy']\n",
    "model_acc = model_val_dict['accuracy']\n",
    "model_val_acc = model_val_dict['val_accuracy']\n",
    "\n",
    "epochs = range(1, len(acc_values) + 1)\n",
    "plt.plot(epochs, acc_values, 'g', label='Training acc L2')\n",
    "plt.plot(epochs, val_acc_values, 'g', label='Validation acc L2')\n",
    "plt.plot(epochs, model_acc, 'r', label='Training acc')\n",
    "plt.plot(epochs, model_val_acc, 'r', label='Validation acc')\n",
    "plt.title('Training & validation accuracy L2 vs regular')\n",
    "plt.xlabel('Epochs')\n",
    "plt.ylabel('Loss')\n",
    "plt.legend()\n",
    "plt.show()"
   ]
  },
  {
   "cell_type": "markdown",
   "metadata": {},
   "source": [
    "The results of L2 regularization are quite disappointing here. We notice the discrepancy between validation and training accuracy seems to have decreased slightly, but the end result is definitely not getting better. "
   ]
  },
  {
   "cell_type": "markdown",
   "metadata": {},
   "source": [
    "## 5.  L1 regularization"
   ]
  },
  {
   "cell_type": "markdown",
   "metadata": {},
   "source": [
    "Let's have a look at L1 regularization. Will this work better?\n",
    "\n",
    "In the cell below: \n",
    "\n",
    "* Recreate the same model we did above, but this time, set the `kernel_regularizer` to `regularizers.l1(0.005)` inside both hidden layers. \n",
    "* Compile and fit the model exactly as we did for our L2 Regularization experiment (`120` epochs) \n",
    "* Store the fitted model that the `.fit` call returns inside a variable called `L1_model`."
   ]
  },
  {
   "cell_type": "code",
   "execution_count": 57,
   "metadata": {},
   "outputs": [
    {
     "name": "stdout",
     "output_type": "stream",
     "text": [
      "Epoch 1/120\n",
      "30/30 [==============================] - 1s 16ms/step - loss: 3.3048 - accuracy: 0.1685 - val_loss: 3.2951 - val_accuracy: 0.1820\n",
      "Epoch 2/120\n",
      "30/30 [==============================] - 0s 5ms/step - loss: 3.2749 - accuracy: 0.2052 - val_loss: 3.2686 - val_accuracy: 0.2220\n",
      "Epoch 3/120\n",
      "30/30 [==============================] - 0s 6ms/step - loss: 3.2474 - accuracy: 0.2321 - val_loss: 3.2426 - val_accuracy: 0.2460\n",
      "Epoch 4/120\n",
      "30/30 [==============================] - 0s 8ms/step - loss: 3.2189 - accuracy: 0.2537 - val_loss: 3.2153 - val_accuracy: 0.2550\n",
      "Epoch 5/120\n",
      "30/30 [==============================] - 0s 8ms/step - loss: 3.1883 - accuracy: 0.2704 - val_loss: 3.1853 - val_accuracy: 0.2640\n",
      "Epoch 6/120\n",
      "30/30 [==============================] - 0s 7ms/step - loss: 3.1547 - accuracy: 0.2885 - val_loss: 3.1516 - val_accuracy: 0.2740\n",
      "Epoch 7/120\n",
      "30/30 [==============================] - 0s 6ms/step - loss: 3.1178 - accuracy: 0.3113 - val_loss: 3.1130 - val_accuracy: 0.3050\n",
      "Epoch 8/120\n",
      "30/30 [==============================] - 0s 7ms/step - loss: 3.0764 - accuracy: 0.3361 - val_loss: 3.0696 - val_accuracy: 0.3390\n",
      "Epoch 9/120\n",
      "30/30 [==============================] - 0s 7ms/step - loss: 3.0300 - accuracy: 0.3631 - val_loss: 3.0211 - val_accuracy: 0.3560\n",
      "Epoch 10/120\n",
      "30/30 [==============================] - 0s 8ms/step - loss: 2.9795 - accuracy: 0.3771 - val_loss: 2.9695 - val_accuracy: 0.3730\n",
      "Epoch 11/120\n",
      "30/30 [==============================] - 0s 7ms/step - loss: 2.9261 - accuracy: 0.4031 - val_loss: 2.9160 - val_accuracy: 0.3880\n",
      "Epoch 12/120\n",
      "30/30 [==============================] - 0s 7ms/step - loss: 2.8711 - accuracy: 0.4195 - val_loss: 2.8616 - val_accuracy: 0.4140\n",
      "Epoch 13/120\n",
      "30/30 [==============================] - 0s 8ms/step - loss: 2.8161 - accuracy: 0.4424 - val_loss: 2.8085 - val_accuracy: 0.4200\n",
      "Epoch 14/120\n",
      "30/30 [==============================] - 0s 7ms/step - loss: 2.7616 - accuracy: 0.4551 - val_loss: 2.7548 - val_accuracy: 0.4470\n",
      "Epoch 15/120\n",
      "30/30 [==============================] - 0s 8ms/step - loss: 2.7079 - accuracy: 0.4849 - val_loss: 2.7033 - val_accuracy: 0.4620\n",
      "Epoch 16/120\n",
      "30/30 [==============================] - 0s 8ms/step - loss: 2.6558 - accuracy: 0.5048 - val_loss: 2.6541 - val_accuracy: 0.4730\n",
      "Epoch 17/120\n",
      "30/30 [==============================] - 0s 7ms/step - loss: 2.6048 - accuracy: 0.5239 - val_loss: 2.6041 - val_accuracy: 0.4920\n",
      "Epoch 18/120\n",
      "30/30 [==============================] - 0s 8ms/step - loss: 2.5558 - accuracy: 0.5387 - val_loss: 2.5566 - val_accuracy: 0.5130\n",
      "Epoch 19/120\n",
      "30/30 [==============================] - 0s 7ms/step - loss: 2.5080 - accuracy: 0.5607 - val_loss: 2.5112 - val_accuracy: 0.5340\n",
      "Epoch 20/120\n",
      "30/30 [==============================] - 0s 7ms/step - loss: 2.4622 - accuracy: 0.5769 - val_loss: 2.4673 - val_accuracy: 0.5490\n",
      "Epoch 21/120\n",
      "30/30 [==============================] - 0s 7ms/step - loss: 2.4181 - accuracy: 0.5953 - val_loss: 2.4249 - val_accuracy: 0.5670\n",
      "Epoch 22/120\n",
      "30/30 [==============================] - 0s 7ms/step - loss: 2.3761 - accuracy: 0.6095 - val_loss: 2.3859 - val_accuracy: 0.5760\n",
      "Epoch 23/120\n",
      "30/30 [==============================] - 0s 8ms/step - loss: 2.3359 - accuracy: 0.6296 - val_loss: 2.3470 - val_accuracy: 0.5980\n",
      "Epoch 24/120\n",
      "30/30 [==============================] - 0s 8ms/step - loss: 2.2975 - accuracy: 0.6429 - val_loss: 2.3121 - val_accuracy: 0.6090\n",
      "Epoch 25/120\n",
      "30/30 [==============================] - 0s 8ms/step - loss: 2.2609 - accuracy: 0.6529 - val_loss: 2.2760 - val_accuracy: 0.6230\n",
      "Epoch 26/120\n",
      "30/30 [==============================] - 0s 7ms/step - loss: 2.2259 - accuracy: 0.6604 - val_loss: 2.2451 - val_accuracy: 0.6270\n",
      "Epoch 27/120\n",
      "30/30 [==============================] - 0s 7ms/step - loss: 2.1926 - accuracy: 0.6733 - val_loss: 2.2127 - val_accuracy: 0.6410\n",
      "Epoch 28/120\n",
      "30/30 [==============================] - 0s 8ms/step - loss: 2.1610 - accuracy: 0.6796 - val_loss: 2.1834 - val_accuracy: 0.6470\n",
      "Epoch 29/120\n",
      "30/30 [==============================] - 0s 8ms/step - loss: 2.1308 - accuracy: 0.6888 - val_loss: 2.1539 - val_accuracy: 0.6640\n",
      "Epoch 30/120\n",
      "30/30 [==============================] - 0s 8ms/step - loss: 2.1018 - accuracy: 0.7005 - val_loss: 2.1276 - val_accuracy: 0.6560\n",
      "Epoch 31/120\n",
      "30/30 [==============================] - 0s 8ms/step - loss: 2.0742 - accuracy: 0.7063 - val_loss: 2.1042 - val_accuracy: 0.6630\n",
      "Epoch 32/120\n",
      "30/30 [==============================] - 0s 8ms/step - loss: 2.0479 - accuracy: 0.7131 - val_loss: 2.0807 - val_accuracy: 0.6660\n",
      "Epoch 33/120\n",
      "30/30 [==============================] - 0s 7ms/step - loss: 2.0228 - accuracy: 0.7173 - val_loss: 2.0552 - val_accuracy: 0.6820\n",
      "Epoch 34/120\n",
      "30/30 [==============================] - 0s 7ms/step - loss: 1.9986 - accuracy: 0.7248 - val_loss: 2.0339 - val_accuracy: 0.6900\n",
      "Epoch 35/120\n",
      "30/30 [==============================] - 0s 8ms/step - loss: 1.9757 - accuracy: 0.7276 - val_loss: 2.0129 - val_accuracy: 0.6870\n",
      "Epoch 36/120\n",
      "30/30 [==============================] - 0s 8ms/step - loss: 1.9533 - accuracy: 0.7308 - val_loss: 1.9926 - val_accuracy: 0.6940\n",
      "Epoch 37/120\n",
      "30/30 [==============================] - 0s 8ms/step - loss: 1.9321 - accuracy: 0.7376 - val_loss: 1.9736 - val_accuracy: 0.6930\n",
      "Epoch 38/120\n",
      "30/30 [==============================] - 0s 8ms/step - loss: 1.9113 - accuracy: 0.7403 - val_loss: 1.9546 - val_accuracy: 0.7020\n",
      "Epoch 39/120\n",
      "30/30 [==============================] - 0s 7ms/step - loss: 1.8916 - accuracy: 0.7431 - val_loss: 1.9372 - val_accuracy: 0.7060\n",
      "Epoch 40/120\n",
      "30/30 [==============================] - 0s 7ms/step - loss: 1.8723 - accuracy: 0.7452 - val_loss: 1.9183 - val_accuracy: 0.7070\n",
      "Epoch 41/120\n",
      "30/30 [==============================] - 0s 8ms/step - loss: 1.8539 - accuracy: 0.7481 - val_loss: 1.9043 - val_accuracy: 0.7000\n",
      "Epoch 42/120\n",
      "30/30 [==============================] - 0s 8ms/step - loss: 1.8360 - accuracy: 0.7508 - val_loss: 1.8866 - val_accuracy: 0.7070\n",
      "Epoch 43/120\n",
      "30/30 [==============================] - 0s 7ms/step - loss: 1.8186 - accuracy: 0.7537 - val_loss: 1.8721 - val_accuracy: 0.7060\n",
      "Epoch 44/120\n",
      "30/30 [==============================] - 0s 8ms/step - loss: 1.8022 - accuracy: 0.7569 - val_loss: 1.8585 - val_accuracy: 0.7100\n",
      "Epoch 45/120\n",
      "30/30 [==============================] - 0s 7ms/step - loss: 1.7864 - accuracy: 0.7597 - val_loss: 1.8445 - val_accuracy: 0.7130\n",
      "Epoch 46/120\n",
      "30/30 [==============================] - 0s 8ms/step - loss: 1.7708 - accuracy: 0.7637 - val_loss: 1.8303 - val_accuracy: 0.7190\n",
      "Epoch 47/120\n",
      "30/30 [==============================] - 0s 7ms/step - loss: 1.7557 - accuracy: 0.7643 - val_loss: 1.8178 - val_accuracy: 0.7150\n",
      "Epoch 48/120\n",
      "30/30 [==============================] - 0s 7ms/step - loss: 1.7408 - accuracy: 0.7649 - val_loss: 1.8062 - val_accuracy: 0.7260\n",
      "Epoch 49/120\n",
      "30/30 [==============================] - 0s 8ms/step - loss: 1.7268 - accuracy: 0.7697 - val_loss: 1.7926 - val_accuracy: 0.7220\n",
      "Epoch 50/120\n",
      "30/30 [==============================] - 0s 8ms/step - loss: 1.7128 - accuracy: 0.7705 - val_loss: 1.7813 - val_accuracy: 0.7260\n",
      "Epoch 51/120\n",
      "30/30 [==============================] - 0s 8ms/step - loss: 1.6997 - accuracy: 0.7716 - val_loss: 1.7688 - val_accuracy: 0.7280\n",
      "Epoch 52/120\n",
      "30/30 [==============================] - 0s 7ms/step - loss: 1.6860 - accuracy: 0.7744 - val_loss: 1.7574 - val_accuracy: 0.7210\n",
      "Epoch 53/120\n",
      "30/30 [==============================] - 0s 7ms/step - loss: 1.6731 - accuracy: 0.7740 - val_loss: 1.7455 - val_accuracy: 0.7300\n",
      "Epoch 54/120\n",
      "30/30 [==============================] - 0s 8ms/step - loss: 1.6605 - accuracy: 0.7783 - val_loss: 1.7337 - val_accuracy: 0.7290\n",
      "Epoch 55/120\n",
      "30/30 [==============================] - 0s 7ms/step - loss: 1.6480 - accuracy: 0.7800 - val_loss: 1.7260 - val_accuracy: 0.7250\n",
      "Epoch 56/120\n",
      "30/30 [==============================] - 0s 8ms/step - loss: 1.6357 - accuracy: 0.7807 - val_loss: 1.7146 - val_accuracy: 0.7330\n",
      "Epoch 57/120\n",
      "30/30 [==============================] - 0s 6ms/step - loss: 1.6238 - accuracy: 0.7852 - val_loss: 1.7048 - val_accuracy: 0.7290\n",
      "Epoch 58/120\n",
      "30/30 [==============================] - 0s 7ms/step - loss: 1.6118 - accuracy: 0.7863 - val_loss: 1.6958 - val_accuracy: 0.7290\n",
      "Epoch 59/120\n",
      "30/30 [==============================] - 0s 6ms/step - loss: 1.6008 - accuracy: 0.7843 - val_loss: 1.6834 - val_accuracy: 0.7340\n",
      "Epoch 60/120\n",
      "30/30 [==============================] - 0s 6ms/step - loss: 1.5895 - accuracy: 0.7895 - val_loss: 1.6749 - val_accuracy: 0.7340\n",
      "Epoch 61/120\n",
      "30/30 [==============================] - 0s 5ms/step - loss: 1.5785 - accuracy: 0.7892 - val_loss: 1.6646 - val_accuracy: 0.7340\n",
      "Epoch 62/120\n",
      "30/30 [==============================] - 0s 6ms/step - loss: 1.5676 - accuracy: 0.7939 - val_loss: 1.6577 - val_accuracy: 0.7420\n",
      "Epoch 63/120\n",
      "30/30 [==============================] - 0s 5ms/step - loss: 1.5572 - accuracy: 0.7939 - val_loss: 1.6485 - val_accuracy: 0.7340\n",
      "Epoch 64/120\n",
      "30/30 [==============================] - 0s 6ms/step - loss: 1.5465 - accuracy: 0.7948 - val_loss: 1.6402 - val_accuracy: 0.7340\n",
      "Epoch 65/120\n",
      "30/30 [==============================] - 0s 6ms/step - loss: 1.5359 - accuracy: 0.7957 - val_loss: 1.6311 - val_accuracy: 0.7370\n",
      "Epoch 66/120\n",
      "30/30 [==============================] - 0s 7ms/step - loss: 1.5263 - accuracy: 0.7979 - val_loss: 1.6230 - val_accuracy: 0.7380\n",
      "Epoch 67/120\n",
      "30/30 [==============================] - 0s 6ms/step - loss: 1.5162 - accuracy: 0.8001 - val_loss: 1.6152 - val_accuracy: 0.7370\n",
      "Epoch 68/120\n",
      "30/30 [==============================] - 0s 6ms/step - loss: 1.5064 - accuracy: 0.8000 - val_loss: 1.6081 - val_accuracy: 0.7360\n",
      "Epoch 69/120\n",
      "30/30 [==============================] - 0s 6ms/step - loss: 1.4970 - accuracy: 0.8041 - val_loss: 1.5987 - val_accuracy: 0.7370\n",
      "Epoch 70/120\n",
      "30/30 [==============================] - 0s 5ms/step - loss: 1.4870 - accuracy: 0.8043 - val_loss: 1.5898 - val_accuracy: 0.7360\n",
      "Epoch 71/120\n",
      "30/30 [==============================] - 0s 5ms/step - loss: 1.4776 - accuracy: 0.8057 - val_loss: 1.5831 - val_accuracy: 0.7390\n",
      "Epoch 72/120\n",
      "30/30 [==============================] - 0s 5ms/step - loss: 1.4683 - accuracy: 0.8049 - val_loss: 1.5741 - val_accuracy: 0.7400\n",
      "Epoch 73/120\n",
      "30/30 [==============================] - 0s 6ms/step - loss: 1.4591 - accuracy: 0.8091 - val_loss: 1.5682 - val_accuracy: 0.7430\n",
      "Epoch 74/120\n",
      "30/30 [==============================] - 0s 5ms/step - loss: 1.4503 - accuracy: 0.8087 - val_loss: 1.5597 - val_accuracy: 0.7400\n",
      "Epoch 75/120\n",
      "30/30 [==============================] - 0s 5ms/step - loss: 1.4411 - accuracy: 0.8121 - val_loss: 1.5524 - val_accuracy: 0.7400\n",
      "Epoch 76/120\n",
      "30/30 [==============================] - 0s 6ms/step - loss: 1.4321 - accuracy: 0.8127 - val_loss: 1.5445 - val_accuracy: 0.7400\n",
      "Epoch 77/120\n",
      "30/30 [==============================] - 0s 6ms/step - loss: 1.4237 - accuracy: 0.8120 - val_loss: 1.5379 - val_accuracy: 0.7440\n",
      "Epoch 78/120\n",
      "30/30 [==============================] - 0s 5ms/step - loss: 1.4148 - accuracy: 0.8124 - val_loss: 1.5289 - val_accuracy: 0.7390\n",
      "Epoch 79/120\n",
      "30/30 [==============================] - 0s 5ms/step - loss: 1.4067 - accuracy: 0.8156 - val_loss: 1.5235 - val_accuracy: 0.7420\n",
      "Epoch 80/120\n",
      "30/30 [==============================] - 0s 6ms/step - loss: 1.3983 - accuracy: 0.8164 - val_loss: 1.5159 - val_accuracy: 0.7420\n",
      "Epoch 81/120\n",
      "30/30 [==============================] - 0s 7ms/step - loss: 1.3897 - accuracy: 0.8179 - val_loss: 1.5093 - val_accuracy: 0.7440\n",
      "Epoch 82/120\n",
      "30/30 [==============================] - 0s 8ms/step - loss: 1.3812 - accuracy: 0.8171 - val_loss: 1.5038 - val_accuracy: 0.7440\n",
      "Epoch 83/120\n",
      "30/30 [==============================] - 0s 8ms/step - loss: 1.3734 - accuracy: 0.8199 - val_loss: 1.4970 - val_accuracy: 0.7420\n",
      "Epoch 84/120\n",
      "30/30 [==============================] - 0s 8ms/step - loss: 1.3653 - accuracy: 0.8200 - val_loss: 1.4912 - val_accuracy: 0.7430\n",
      "Epoch 85/120\n",
      "30/30 [==============================] - 0s 7ms/step - loss: 1.3570 - accuracy: 0.8228 - val_loss: 1.4836 - val_accuracy: 0.7410\n",
      "Epoch 86/120\n",
      "30/30 [==============================] - 0s 7ms/step - loss: 1.3492 - accuracy: 0.8217 - val_loss: 1.4783 - val_accuracy: 0.7450\n",
      "Epoch 87/120\n",
      "30/30 [==============================] - 0s 7ms/step - loss: 1.3419 - accuracy: 0.8215 - val_loss: 1.4701 - val_accuracy: 0.7430\n",
      "Epoch 88/120\n",
      "30/30 [==============================] - 0s 8ms/step - loss: 1.3343 - accuracy: 0.8252 - val_loss: 1.4638 - val_accuracy: 0.7450\n",
      "Epoch 89/120\n",
      "30/30 [==============================] - 0s 7ms/step - loss: 1.3264 - accuracy: 0.8268 - val_loss: 1.4599 - val_accuracy: 0.7480\n",
      "Epoch 90/120\n",
      "30/30 [==============================] - 0s 7ms/step - loss: 1.3189 - accuracy: 0.8237 - val_loss: 1.4512 - val_accuracy: 0.7480\n",
      "Epoch 91/120\n",
      "30/30 [==============================] - 0s 7ms/step - loss: 1.3119 - accuracy: 0.8279 - val_loss: 1.4460 - val_accuracy: 0.7450\n",
      "Epoch 92/120\n",
      "30/30 [==============================] - 0s 7ms/step - loss: 1.3044 - accuracy: 0.8304 - val_loss: 1.4391 - val_accuracy: 0.7500\n",
      "Epoch 93/120\n",
      "30/30 [==============================] - 0s 8ms/step - loss: 1.2976 - accuracy: 0.8271 - val_loss: 1.4367 - val_accuracy: 0.7420\n",
      "Epoch 94/120\n",
      "30/30 [==============================] - 0s 7ms/step - loss: 1.2901 - accuracy: 0.8311 - val_loss: 1.4282 - val_accuracy: 0.7500\n",
      "Epoch 95/120\n",
      "30/30 [==============================] - 0s 8ms/step - loss: 1.2833 - accuracy: 0.8300 - val_loss: 1.4222 - val_accuracy: 0.7470\n",
      "Epoch 96/120\n",
      "30/30 [==============================] - 0s 8ms/step - loss: 1.2763 - accuracy: 0.8303 - val_loss: 1.4189 - val_accuracy: 0.7490\n",
      "Epoch 97/120\n",
      "30/30 [==============================] - 0s 8ms/step - loss: 1.2693 - accuracy: 0.8337 - val_loss: 1.4112 - val_accuracy: 0.7510\n",
      "Epoch 98/120\n",
      "30/30 [==============================] - 0s 6ms/step - loss: 1.2625 - accuracy: 0.8323 - val_loss: 1.4079 - val_accuracy: 0.7450\n",
      "Epoch 99/120\n",
      "30/30 [==============================] - 0s 7ms/step - loss: 1.2560 - accuracy: 0.8329 - val_loss: 1.4020 - val_accuracy: 0.7500\n",
      "Epoch 100/120\n",
      "30/30 [==============================] - 0s 8ms/step - loss: 1.2488 - accuracy: 0.8351 - val_loss: 1.3957 - val_accuracy: 0.7550\n",
      "Epoch 101/120\n",
      "30/30 [==============================] - 0s 8ms/step - loss: 1.2428 - accuracy: 0.8365 - val_loss: 1.3881 - val_accuracy: 0.7500\n",
      "Epoch 102/120\n",
      "30/30 [==============================] - 0s 7ms/step - loss: 1.2357 - accuracy: 0.8385 - val_loss: 1.3862 - val_accuracy: 0.7530\n",
      "Epoch 103/120\n",
      "30/30 [==============================] - 0s 8ms/step - loss: 1.2293 - accuracy: 0.8387 - val_loss: 1.3790 - val_accuracy: 0.7530\n",
      "Epoch 104/120\n",
      "30/30 [==============================] - 0s 7ms/step - loss: 1.2230 - accuracy: 0.8393 - val_loss: 1.3749 - val_accuracy: 0.7530\n",
      "Epoch 105/120\n",
      "30/30 [==============================] - 0s 8ms/step - loss: 1.2166 - accuracy: 0.8373 - val_loss: 1.3689 - val_accuracy: 0.7490\n",
      "Epoch 106/120\n",
      "30/30 [==============================] - 0s 7ms/step - loss: 1.2104 - accuracy: 0.8409 - val_loss: 1.3653 - val_accuracy: 0.7520\n",
      "Epoch 107/120\n",
      "30/30 [==============================] - 0s 7ms/step - loss: 1.2042 - accuracy: 0.8393 - val_loss: 1.3586 - val_accuracy: 0.7530\n",
      "Epoch 108/120\n",
      "30/30 [==============================] - 0s 7ms/step - loss: 1.1982 - accuracy: 0.8420 - val_loss: 1.3561 - val_accuracy: 0.7560\n",
      "Epoch 109/120\n",
      "30/30 [==============================] - 0s 7ms/step - loss: 1.1920 - accuracy: 0.8428 - val_loss: 1.3498 - val_accuracy: 0.7580\n",
      "Epoch 110/120\n",
      "30/30 [==============================] - 0s 7ms/step - loss: 1.1860 - accuracy: 0.8427 - val_loss: 1.3442 - val_accuracy: 0.7500\n",
      "Epoch 111/120\n",
      "30/30 [==============================] - 0s 7ms/step - loss: 1.1801 - accuracy: 0.8468 - val_loss: 1.3392 - val_accuracy: 0.7530\n",
      "Epoch 112/120\n",
      "30/30 [==============================] - 0s 8ms/step - loss: 1.1741 - accuracy: 0.8444 - val_loss: 1.3333 - val_accuracy: 0.7580\n",
      "Epoch 113/120\n",
      "30/30 [==============================] - 0s 7ms/step - loss: 1.1686 - accuracy: 0.8445 - val_loss: 1.3279 - val_accuracy: 0.7560\n",
      "Epoch 114/120\n",
      "30/30 [==============================] - 0s 5ms/step - loss: 1.1623 - accuracy: 0.8497 - val_loss: 1.3238 - val_accuracy: 0.7560\n",
      "Epoch 115/120\n",
      "30/30 [==============================] - 0s 6ms/step - loss: 1.1566 - accuracy: 0.8475 - val_loss: 1.3212 - val_accuracy: 0.7520\n",
      "Epoch 116/120\n",
      "30/30 [==============================] - 0s 6ms/step - loss: 1.1512 - accuracy: 0.8520 - val_loss: 1.3163 - val_accuracy: 0.7550\n",
      "Epoch 117/120\n",
      "30/30 [==============================] - 0s 7ms/step - loss: 1.1454 - accuracy: 0.8507 - val_loss: 1.3162 - val_accuracy: 0.7600\n",
      "Epoch 118/120\n",
      "30/30 [==============================] - 0s 7ms/step - loss: 1.1403 - accuracy: 0.8491 - val_loss: 1.3075 - val_accuracy: 0.7570\n",
      "Epoch 119/120\n",
      "30/30 [==============================] - 0s 7ms/step - loss: 1.1343 - accuracy: 0.8516 - val_loss: 1.3047 - val_accuracy: 0.7500\n",
      "Epoch 120/120\n",
      "30/30 [==============================] - 0s 7ms/step - loss: 1.1291 - accuracy: 0.8520 - val_loss: 1.2983 - val_accuracy: 0.7600\n"
     ]
    }
   ],
   "source": [
    "from keras import regularizers\n",
    "model = Sequential()\n",
    "model.add(Dense(50, activation='relu',kernel_regularizer=regularizers.l2(0.005), input_shape=(2000,))) #2 hidden layers\n",
    "model.add(Dense(25, kernel_regularizer=regularizers.l1(0.005), activation='relu'))\n",
    "model.add(Dense(7, activation='softmax'))\n",
    "model.compile(optimizer='SGD', loss='categorical_crossentropy', metrics=['accuracy']) \n",
    "L1_model = model.fit(train_final, label_train_final, epochs=120,batch_size=256, validation_data=(val, label_val))"
   ]
  },
  {
   "cell_type": "markdown",
   "metadata": {},
   "source": [
    "Now, run the cell below to get and visualize the model's `.history`."
   ]
  },
  {
   "cell_type": "code",
   "execution_count": 59,
   "metadata": {},
   "outputs": [
    {
     "data": {
      "image/png": "[encoded data removed]",
      "text/plain": [
       "<Figure size 432x288 with 1 Axes>"
      ]
     },
     "metadata": {
      "needs_background": "light"
     },
     "output_type": "display_data"
    }
   ],
   "source": [
    "L1_model_dict = L1_model.history\n",
    "plt.clf()\n",
    "\n",
    "acc_values = L1_model_dict['accuracy'] \n",
    "val_acc_values = L1_model_dict['val_accuracy']\n",
    "\n",
    "epochs = range(1, len(acc_values) + 1)\n",
    "plt.plot(epochs, acc_values, 'g', label='Training acc L1')\n",
    "plt.plot(epochs, val_acc_values, 'g.', label='Validation acc L1')\n",
    "plt.title('Training & validation accuracy with L1 regularization')\n",
    "plt.xlabel('Epochs')\n",
    "plt.ylabel('Loss')\n",
    "plt.legend()\n",
    "plt.show()"
   ]
  },
  {
   "cell_type": "markdown",
   "metadata": {},
   "source": [
    "Notice how The training and validation accuracy don't diverge as much as before! Unfortunately, the validation accuracy doesn't reach rates much higher than 70%. It does seem like we can still improve the model by training much longer.\n",
    "\n",
    "To complete our comparison, let's use `model.evaluate()` again on the appropriate variables to compare results. "
   ]
  },
  {
   "cell_type": "code",
   "execution_count": 60,
   "metadata": {},
   "outputs": [
    {
     "name": "stdout",
     "output_type": "stream",
     "text": [
      "235/235 [==============================] - 0s 2ms/step - loss: 1.1244 - accuracy: 0.8556\n",
      "47/47 [==============================] - 0s 2ms/step - loss: 1.2924 - accuracy: 0.7653\n"
     ]
    }
   ],
   "source": [
    "results_train = model.evaluate(train_final, label_train_final)\n",
    "\n",
    "results_test = model.evaluate(test, label_test)"
   ]
  },
  {
   "cell_type": "code",
   "execution_count": 61,
   "metadata": {},
   "outputs": [
    {
     "data": {
      "text/plain": [
       "[1.1243808269500732, 0.8555999994277954]"
      ]
     },
     "execution_count": 61,
     "metadata": {},
     "output_type": "execute_result"
    }
   ],
   "source": [
    "results_train # Expected Output: [1.3186310468037923, 0.72266666663487755]"
   ]
  },
  {
   "cell_type": "code",
   "execution_count": 62,
   "metadata": {},
   "outputs": [
    {
     "data": {
      "text/plain": [
       "[1.2923870086669922, 0.765333354473114]"
      ]
     },
     "execution_count": 62,
     "metadata": {},
     "output_type": "execute_result"
    }
   ],
   "source": [
    "results_test # Expected Output: [1.3541648308436076, 0.70800000031789145]"
   ]
  },
  {
   "cell_type": "markdown",
   "metadata": {},
   "source": [
    "This is about the best we've seen so far, but we were training for quite a while! Let's see if dropout regularization can do even better and/or be more efficient!"
   ]
  },
  {
   "cell_type": "markdown",
   "metadata": {},
   "source": [
    "## 6. Dropout Regularization\n",
    "\n",
    "Dropout Regularization is accomplished by adding in an additional `Dropout` layer wherever we want to use it, and providing a percentage value for how likely any given neuron is to get \"dropped out\" during this layer. \n",
    "\n",
    "In the cell below:\n",
    "\n",
    "* Import `Dropout` from `keras.layers`\n",
    "* Recreate the same network we have above, but this time without any L1 or L2 regularization\n",
    "* Add a `Dropout` layer between hidden layer 1 and hidden layer 2.  This should have a dropout chance of `0.3`.\n",
    "* Add a `Dropout` layer between hidden layer 2 and the output layer.  This should have a dropout chance of `0.3`.\n",
    "* Compile the model with the exact same hyperparameters as all other models we've built. \n",
    "* Fit the model with the same hyperparameters we've used above.  But this time, train the model for `200` epochs. "
   ]
  },
  {
   "cell_type": "code",
   "execution_count": 63,
   "metadata": {},
   "outputs": [
    {
     "name": "stdout",
     "output_type": "stream",
     "text": [
      "Epoch 1/200\n",
      "30/30 [==============================] - 1s 16ms/step - loss: 1.9630 - accuracy: 0.1449 - val_loss: 1.9366 - val_accuracy: 0.1530\n",
      "Epoch 2/200\n",
      "30/30 [==============================] - 0s 6ms/step - loss: 1.9417 - accuracy: 0.1633 - val_loss: 1.9218 - val_accuracy: 0.1730\n",
      "Epoch 3/200\n",
      "30/30 [==============================] - 0s 7ms/step - loss: 1.9277 - accuracy: 0.1788 - val_loss: 1.9095 - val_accuracy: 0.2050\n",
      "Epoch 4/200\n",
      "30/30 [==============================] - 0s 8ms/step - loss: 1.9167 - accuracy: 0.1996 - val_loss: 1.8974 - val_accuracy: 0.2280\n",
      "Epoch 5/200\n",
      "30/30 [==============================] - 0s 8ms/step - loss: 1.9036 - accuracy: 0.2069 - val_loss: 1.8842 - val_accuracy: 0.2440\n",
      "Epoch 6/200\n",
      "30/30 [==============================] - 0s 10ms/step - loss: 1.8919 - accuracy: 0.2128 - val_loss: 1.8689 - val_accuracy: 0.2560\n",
      "Epoch 7/200\n",
      "30/30 [==============================] - 0s 10ms/step - loss: 1.8777 - accuracy: 0.2228 - val_loss: 1.8522 - val_accuracy: 0.2740\n",
      "Epoch 8/200\n",
      "30/30 [==============================] - 0s 9ms/step - loss: 1.8597 - accuracy: 0.2333 - val_loss: 1.8314 - val_accuracy: 0.2860\n",
      "Epoch 9/200\n",
      "30/30 [==============================] - 0s 7ms/step - loss: 1.8451 - accuracy: 0.2528 - val_loss: 1.8110 - val_accuracy: 0.3020\n",
      "Epoch 10/200\n",
      "30/30 [==============================] - 0s 9ms/step - loss: 1.8316 - accuracy: 0.2591 - val_loss: 1.7909 - val_accuracy: 0.3230\n",
      "Epoch 11/200\n",
      "30/30 [==============================] - 0s 8ms/step - loss: 1.8133 - accuracy: 0.2745 - val_loss: 1.7677 - val_accuracy: 0.3300\n",
      "Epoch 12/200\n",
      "30/30 [==============================] - 0s 8ms/step - loss: 1.7925 - accuracy: 0.2871 - val_loss: 1.7447 - val_accuracy: 0.3520\n",
      "Epoch 13/200\n",
      "30/30 [==============================] - 0s 6ms/step - loss: 1.7769 - accuracy: 0.2945 - val_loss: 1.7203 - val_accuracy: 0.3540\n",
      "Epoch 14/200\n",
      "30/30 [==============================] - 0s 6ms/step - loss: 1.7546 - accuracy: 0.3067 - val_loss: 1.6956 - val_accuracy: 0.3770\n",
      "Epoch 15/200\n",
      "30/30 [==============================] - 0s 6ms/step - loss: 1.7306 - accuracy: 0.3191 - val_loss: 1.6696 - val_accuracy: 0.3940\n",
      "Epoch 16/200\n",
      "30/30 [==============================] - 0s 8ms/step - loss: 1.7021 - accuracy: 0.3368 - val_loss: 1.6425 - val_accuracy: 0.4160\n",
      "Epoch 17/200\n",
      "30/30 [==============================] - 0s 6ms/step - loss: 1.6933 - accuracy: 0.3391 - val_loss: 1.6172 - val_accuracy: 0.4320\n",
      "Epoch 18/200\n",
      "30/30 [==============================] - 0s 7ms/step - loss: 1.6652 - accuracy: 0.3544 - val_loss: 1.5904 - val_accuracy: 0.4540\n",
      "Epoch 19/200\n",
      "30/30 [==============================] - 0s 10ms/step - loss: 1.6490 - accuracy: 0.3593 - val_loss: 1.5615 - val_accuracy: 0.4670\n",
      "Epoch 20/200\n",
      "30/30 [==============================] - 0s 8ms/step - loss: 1.6193 - accuracy: 0.3773 - val_loss: 1.5329 - val_accuracy: 0.4730\n",
      "Epoch 21/200\n",
      "30/30 [==============================] - 0s 9ms/step - loss: 1.5964 - accuracy: 0.3861 - val_loss: 1.5056 - val_accuracy: 0.5030\n",
      "Epoch 22/200\n",
      "30/30 [==============================] - 0s 8ms/step - loss: 1.5774 - accuracy: 0.3931 - val_loss: 1.4796 - val_accuracy: 0.5140\n",
      "Epoch 23/200\n",
      "30/30 [==============================] - 0s 9ms/step - loss: 1.5588 - accuracy: 0.4045 - val_loss: 1.4527 - val_accuracy: 0.5260\n",
      "Epoch 24/200\n",
      "30/30 [==============================] - 0s 7ms/step - loss: 1.5388 - accuracy: 0.4179 - val_loss: 1.4280 - val_accuracy: 0.5420\n",
      "Epoch 25/200\n",
      "30/30 [==============================] - 0s 8ms/step - loss: 1.5096 - accuracy: 0.4228 - val_loss: 1.4019 - val_accuracy: 0.5500\n",
      "Epoch 26/200\n",
      "30/30 [==============================] - 0s 7ms/step - loss: 1.4922 - accuracy: 0.4313 - val_loss: 1.3752 - val_accuracy: 0.5620\n",
      "Epoch 27/200\n",
      "30/30 [==============================] - 0s 8ms/step - loss: 1.4699 - accuracy: 0.4483 - val_loss: 1.3506 - val_accuracy: 0.5740\n",
      "Epoch 28/200\n",
      "30/30 [==============================] - 0s 9ms/step - loss: 1.4498 - accuracy: 0.4605 - val_loss: 1.3262 - val_accuracy: 0.5760\n",
      "Epoch 29/200\n",
      "30/30 [==============================] - 0s 8ms/step - loss: 1.4312 - accuracy: 0.4651 - val_loss: 1.3031 - val_accuracy: 0.5850\n",
      "Epoch 30/200\n",
      "30/30 [==============================] - 0s 7ms/step - loss: 1.4065 - accuracy: 0.4764 - val_loss: 1.2810 - val_accuracy: 0.5910\n",
      "Epoch 31/200\n",
      "30/30 [==============================] - 0s 9ms/step - loss: 1.3880 - accuracy: 0.4777 - val_loss: 1.2575 - val_accuracy: 0.6000\n",
      "Epoch 32/200\n",
      "30/30 [==============================] - 0s 7ms/step - loss: 1.3682 - accuracy: 0.4879 - val_loss: 1.2343 - val_accuracy: 0.6070\n",
      "Epoch 33/200\n",
      "30/30 [==============================] - 0s 6ms/step - loss: 1.3623 - accuracy: 0.4844 - val_loss: 1.2161 - val_accuracy: 0.6130\n",
      "Epoch 34/200\n",
      "30/30 [==============================] - 0s 5ms/step - loss: 1.3461 - accuracy: 0.4964 - val_loss: 1.1960 - val_accuracy: 0.6210\n",
      "Epoch 35/200\n",
      "30/30 [==============================] - 0s 5ms/step - loss: 1.3221 - accuracy: 0.5076 - val_loss: 1.1771 - val_accuracy: 0.6320\n",
      "Epoch 36/200\n",
      "30/30 [==============================] - 0s 6ms/step - loss: 1.2956 - accuracy: 0.5213 - val_loss: 1.1548 - val_accuracy: 0.6340\n",
      "Epoch 37/200\n",
      "30/30 [==============================] - 0s 6ms/step - loss: 1.2967 - accuracy: 0.5067 - val_loss: 1.1409 - val_accuracy: 0.6360\n",
      "Epoch 38/200\n",
      "30/30 [==============================] - 0s 6ms/step - loss: 1.2758 - accuracy: 0.5189 - val_loss: 1.1237 - val_accuracy: 0.6430\n",
      "Epoch 39/200\n",
      "30/30 [==============================] - 0s 6ms/step - loss: 1.2550 - accuracy: 0.5287 - val_loss: 1.1061 - val_accuracy: 0.6460\n",
      "Epoch 40/200\n",
      "30/30 [==============================] - 0s 6ms/step - loss: 1.2400 - accuracy: 0.5379 - val_loss: 1.0905 - val_accuracy: 0.6550\n",
      "Epoch 41/200\n",
      "30/30 [==============================] - 0s 8ms/step - loss: 1.2284 - accuracy: 0.5399 - val_loss: 1.0759 - val_accuracy: 0.6600\n",
      "Epoch 42/200\n",
      "30/30 [==============================] - 0s 6ms/step - loss: 1.2094 - accuracy: 0.5500 - val_loss: 1.0611 - val_accuracy: 0.6640\n",
      "Epoch 43/200\n",
      "30/30 [==============================] - 0s 7ms/step - loss: 1.2017 - accuracy: 0.5563 - val_loss: 1.0471 - val_accuracy: 0.6630\n",
      "Epoch 44/200\n",
      "30/30 [==============================] - 0s 6ms/step - loss: 1.1781 - accuracy: 0.5571 - val_loss: 1.0342 - val_accuracy: 0.6680\n",
      "Epoch 45/200\n",
      "30/30 [==============================] - 0s 7ms/step - loss: 1.1777 - accuracy: 0.5640 - val_loss: 1.0225 - val_accuracy: 0.6690\n",
      "Epoch 46/200\n",
      "30/30 [==============================] - 0s 8ms/step - loss: 1.1671 - accuracy: 0.5537 - val_loss: 1.0095 - val_accuracy: 0.6720\n",
      "Epoch 47/200\n",
      "30/30 [==============================] - 0s 8ms/step - loss: 1.1535 - accuracy: 0.5664 - val_loss: 0.9959 - val_accuracy: 0.6840\n",
      "Epoch 48/200\n",
      "30/30 [==============================] - 0s 10ms/step - loss: 1.1432 - accuracy: 0.5657 - val_loss: 0.9860 - val_accuracy: 0.6780\n",
      "Epoch 49/200\n",
      "30/30 [==============================] - 0s 9ms/step - loss: 1.1276 - accuracy: 0.5723 - val_loss: 0.9764 - val_accuracy: 0.6820\n",
      "Epoch 50/200\n",
      "30/30 [==============================] - 0s 10ms/step - loss: 1.1205 - accuracy: 0.5728 - val_loss: 0.9665 - val_accuracy: 0.6810\n",
      "Epoch 51/200\n",
      "30/30 [==============================] - 0s 10ms/step - loss: 1.1143 - accuracy: 0.5840 - val_loss: 0.9562 - val_accuracy: 0.6840\n",
      "Epoch 52/200\n",
      "30/30 [==============================] - 0s 8ms/step - loss: 1.0935 - accuracy: 0.5893 - val_loss: 0.9434 - val_accuracy: 0.6910\n",
      "Epoch 53/200\n",
      "30/30 [==============================] - 0s 9ms/step - loss: 1.0885 - accuracy: 0.5877 - val_loss: 0.9384 - val_accuracy: 0.6890\n",
      "Epoch 54/200\n",
      "30/30 [==============================] - 0s 9ms/step - loss: 1.0786 - accuracy: 0.5924 - val_loss: 0.9254 - val_accuracy: 0.6970\n",
      "Epoch 55/200\n",
      "30/30 [==============================] - 0s 9ms/step - loss: 1.0802 - accuracy: 0.5896 - val_loss: 0.9177 - val_accuracy: 0.6960\n",
      "Epoch 56/200\n",
      "30/30 [==============================] - 0s 9ms/step - loss: 1.0665 - accuracy: 0.6004 - val_loss: 0.9119 - val_accuracy: 0.6960\n",
      "Epoch 57/200\n",
      "30/30 [==============================] - 0s 8ms/step - loss: 1.0604 - accuracy: 0.6005 - val_loss: 0.9058 - val_accuracy: 0.7000\n",
      "Epoch 58/200\n",
      "30/30 [==============================] - 0s 10ms/step - loss: 1.0425 - accuracy: 0.5977 - val_loss: 0.8945 - val_accuracy: 0.7050\n",
      "Epoch 59/200\n",
      "30/30 [==============================] - 0s 9ms/step - loss: 1.0379 - accuracy: 0.6128 - val_loss: 0.8852 - val_accuracy: 0.7040\n",
      "Epoch 60/200\n",
      "30/30 [==============================] - 0s 10ms/step - loss: 1.0351 - accuracy: 0.6136 - val_loss: 0.8792 - val_accuracy: 0.7100\n",
      "Epoch 61/200\n",
      "30/30 [==============================] - 0s 9ms/step - loss: 1.0175 - accuracy: 0.6201 - val_loss: 0.8720 - val_accuracy: 0.7060\n",
      "Epoch 62/200\n",
      "30/30 [==============================] - 0s 9ms/step - loss: 1.0054 - accuracy: 0.6199 - val_loss: 0.8634 - val_accuracy: 0.7110\n",
      "Epoch 63/200\n",
      "30/30 [==============================] - 0s 10ms/step - loss: 0.9997 - accuracy: 0.6261 - val_loss: 0.8577 - val_accuracy: 0.7080\n",
      "Epoch 64/200\n",
      "30/30 [==============================] - 0s 8ms/step - loss: 1.0001 - accuracy: 0.6208 - val_loss: 0.8521 - val_accuracy: 0.7170\n",
      "Epoch 65/200\n",
      "30/30 [==============================] - 0s 9ms/step - loss: 0.9878 - accuracy: 0.6287 - val_loss: 0.8461 - val_accuracy: 0.7200\n",
      "Epoch 66/200\n",
      "30/30 [==============================] - 0s 9ms/step - loss: 0.9880 - accuracy: 0.6240 - val_loss: 0.8402 - val_accuracy: 0.7140\n",
      "Epoch 67/200\n",
      "30/30 [==============================] - 0s 9ms/step - loss: 0.9745 - accuracy: 0.6312 - val_loss: 0.8333 - val_accuracy: 0.7130\n",
      "Epoch 68/200\n",
      "30/30 [==============================] - 0s 8ms/step - loss: 0.9673 - accuracy: 0.6371 - val_loss: 0.8276 - val_accuracy: 0.7190\n",
      "Epoch 69/200\n",
      "30/30 [==============================] - 0s 9ms/step - loss: 0.9518 - accuracy: 0.6420 - val_loss: 0.8224 - val_accuracy: 0.7250\n",
      "Epoch 70/200\n",
      "30/30 [==============================] - 0s 8ms/step - loss: 0.9553 - accuracy: 0.6416 - val_loss: 0.8169 - val_accuracy: 0.7190\n",
      "Epoch 71/200\n",
      "30/30 [==============================] - 0s 7ms/step - loss: 0.9455 - accuracy: 0.6445 - val_loss: 0.8117 - val_accuracy: 0.7250\n",
      "Epoch 72/200\n",
      "30/30 [==============================] - 0s 8ms/step - loss: 0.9307 - accuracy: 0.6504 - val_loss: 0.8059 - val_accuracy: 0.7230\n",
      "Epoch 73/200\n",
      "30/30 [==============================] - 0s 8ms/step - loss: 0.9434 - accuracy: 0.6519 - val_loss: 0.8008 - val_accuracy: 0.7260\n",
      "Epoch 74/200\n",
      "30/30 [==============================] - 0s 10ms/step - loss: 0.9155 - accuracy: 0.6557 - val_loss: 0.7946 - val_accuracy: 0.7280\n",
      "Epoch 75/200\n",
      "30/30 [==============================] - 0s 8ms/step - loss: 0.9225 - accuracy: 0.6491 - val_loss: 0.7910 - val_accuracy: 0.7270\n",
      "Epoch 76/200\n",
      "30/30 [==============================] - 0s 8ms/step - loss: 0.9236 - accuracy: 0.6519 - val_loss: 0.7875 - val_accuracy: 0.7270\n",
      "Epoch 77/200\n",
      "30/30 [==============================] - 0s 8ms/step - loss: 0.9119 - accuracy: 0.6561 - val_loss: 0.7818 - val_accuracy: 0.7300\n",
      "Epoch 78/200\n",
      "30/30 [==============================] - 0s 9ms/step - loss: 0.9048 - accuracy: 0.6560 - val_loss: 0.7789 - val_accuracy: 0.7300\n",
      "Epoch 79/200\n",
      "30/30 [==============================] - 0s 8ms/step - loss: 0.8928 - accuracy: 0.6648 - val_loss: 0.7730 - val_accuracy: 0.7330\n",
      "Epoch 80/200\n",
      "30/30 [==============================] - 0s 8ms/step - loss: 0.8930 - accuracy: 0.6653 - val_loss: 0.7707 - val_accuracy: 0.7310\n",
      "Epoch 81/200\n",
      "30/30 [==============================] - 0s 9ms/step - loss: 0.8869 - accuracy: 0.6696 - val_loss: 0.7650 - val_accuracy: 0.7330\n",
      "Epoch 82/200\n",
      "30/30 [==============================] - 0s 8ms/step - loss: 0.8738 - accuracy: 0.6655 - val_loss: 0.7609 - val_accuracy: 0.7330\n",
      "Epoch 83/200\n",
      "30/30 [==============================] - 0s 9ms/step - loss: 0.8672 - accuracy: 0.6768 - val_loss: 0.7563 - val_accuracy: 0.7320\n",
      "Epoch 84/200\n",
      "30/30 [==============================] - 0s 8ms/step - loss: 0.8701 - accuracy: 0.6765 - val_loss: 0.7529 - val_accuracy: 0.7340\n",
      "Epoch 85/200\n",
      "30/30 [==============================] - 0s 8ms/step - loss: 0.8733 - accuracy: 0.6684 - val_loss: 0.7523 - val_accuracy: 0.7350\n",
      "Epoch 86/200\n",
      "30/30 [==============================] - 0s 7ms/step - loss: 0.8651 - accuracy: 0.6803 - val_loss: 0.7486 - val_accuracy: 0.7380\n",
      "Epoch 87/200\n",
      "30/30 [==============================] - 0s 8ms/step - loss: 0.8531 - accuracy: 0.6809 - val_loss: 0.7456 - val_accuracy: 0.7380\n",
      "Epoch 88/200\n",
      "30/30 [==============================] - 0s 9ms/step - loss: 0.8480 - accuracy: 0.6843 - val_loss: 0.7434 - val_accuracy: 0.7380\n",
      "Epoch 89/200\n",
      "30/30 [==============================] - 0s 8ms/step - loss: 0.8449 - accuracy: 0.6851 - val_loss: 0.7360 - val_accuracy: 0.7350\n",
      "Epoch 90/200\n",
      "30/30 [==============================] - 0s 9ms/step - loss: 0.8390 - accuracy: 0.6817 - val_loss: 0.7353 - val_accuracy: 0.7400\n",
      "Epoch 91/200\n",
      "30/30 [==============================] - 0s 8ms/step - loss: 0.8428 - accuracy: 0.6795 - val_loss: 0.7316 - val_accuracy: 0.7430\n",
      "Epoch 92/200\n",
      "30/30 [==============================] - 0s 8ms/step - loss: 0.8337 - accuracy: 0.6832 - val_loss: 0.7295 - val_accuracy: 0.7420\n",
      "Epoch 93/200\n",
      "30/30 [==============================] - 0s 8ms/step - loss: 0.8392 - accuracy: 0.6861 - val_loss: 0.7269 - val_accuracy: 0.7410\n",
      "Epoch 94/200\n",
      "30/30 [==============================] - 0s 8ms/step - loss: 0.8235 - accuracy: 0.6969 - val_loss: 0.7247 - val_accuracy: 0.7400\n",
      "Epoch 95/200\n",
      "30/30 [==============================] - 0s 7ms/step - loss: 0.8185 - accuracy: 0.6967 - val_loss: 0.7229 - val_accuracy: 0.7410\n",
      "Epoch 96/200\n",
      "30/30 [==============================] - 0s 7ms/step - loss: 0.8110 - accuracy: 0.6932 - val_loss: 0.7188 - val_accuracy: 0.7420\n",
      "Epoch 97/200\n",
      "30/30 [==============================] - 0s 7ms/step - loss: 0.7985 - accuracy: 0.7017 - val_loss: 0.7191 - val_accuracy: 0.7410\n",
      "Epoch 98/200\n",
      "30/30 [==============================] - 0s 7ms/step - loss: 0.8128 - accuracy: 0.6947 - val_loss: 0.7137 - val_accuracy: 0.7460\n",
      "Epoch 99/200\n",
      "30/30 [==============================] - 0s 7ms/step - loss: 0.8043 - accuracy: 0.7008 - val_loss: 0.7118 - val_accuracy: 0.7470\n",
      "Epoch 100/200\n",
      "30/30 [==============================] - 0s 7ms/step - loss: 0.7956 - accuracy: 0.7033 - val_loss: 0.7084 - val_accuracy: 0.7470\n",
      "Epoch 101/200\n",
      "30/30 [==============================] - 0s 7ms/step - loss: 0.7934 - accuracy: 0.7071 - val_loss: 0.7067 - val_accuracy: 0.7460\n",
      "Epoch 102/200\n",
      "30/30 [==============================] - 0s 7ms/step - loss: 0.7886 - accuracy: 0.7055 - val_loss: 0.7046 - val_accuracy: 0.7450\n",
      "Epoch 103/200\n",
      "30/30 [==============================] - 0s 7ms/step - loss: 0.8003 - accuracy: 0.7025 - val_loss: 0.7040 - val_accuracy: 0.7500\n",
      "Epoch 104/200\n",
      "30/30 [==============================] - 0s 7ms/step - loss: 0.7769 - accuracy: 0.7039 - val_loss: 0.7002 - val_accuracy: 0.7450\n",
      "Epoch 105/200\n",
      "30/30 [==============================] - 0s 6ms/step - loss: 0.7750 - accuracy: 0.7055 - val_loss: 0.6966 - val_accuracy: 0.7480\n",
      "Epoch 106/200\n",
      "30/30 [==============================] - 0s 6ms/step - loss: 0.7741 - accuracy: 0.7108 - val_loss: 0.6953 - val_accuracy: 0.7450\n",
      "Epoch 107/200\n",
      "30/30 [==============================] - 0s 7ms/step - loss: 0.7643 - accuracy: 0.7133 - val_loss: 0.6948 - val_accuracy: 0.7440\n",
      "Epoch 108/200\n",
      "30/30 [==============================] - 0s 8ms/step - loss: 0.7661 - accuracy: 0.7101 - val_loss: 0.6949 - val_accuracy: 0.7470\n",
      "Epoch 109/200\n",
      "30/30 [==============================] - 0s 6ms/step - loss: 0.7644 - accuracy: 0.7109 - val_loss: 0.6909 - val_accuracy: 0.7480\n",
      "Epoch 110/200\n",
      "30/30 [==============================] - 0s 7ms/step - loss: 0.7522 - accuracy: 0.7199 - val_loss: 0.6886 - val_accuracy: 0.7460\n",
      "Epoch 111/200\n",
      "30/30 [==============================] - 0s 7ms/step - loss: 0.7569 - accuracy: 0.7188 - val_loss: 0.6865 - val_accuracy: 0.7490\n",
      "Epoch 112/200\n",
      "30/30 [==============================] - 0s 7ms/step - loss: 0.7551 - accuracy: 0.7187 - val_loss: 0.6860 - val_accuracy: 0.7500\n",
      "Epoch 113/200\n",
      "30/30 [==============================] - 0s 7ms/step - loss: 0.7430 - accuracy: 0.7197 - val_loss: 0.6841 - val_accuracy: 0.7480\n",
      "Epoch 114/200\n",
      "30/30 [==============================] - 0s 7ms/step - loss: 0.7394 - accuracy: 0.7211 - val_loss: 0.6842 - val_accuracy: 0.7480\n",
      "Epoch 115/200\n",
      "30/30 [==============================] - 0s 8ms/step - loss: 0.7381 - accuracy: 0.7223 - val_loss: 0.6813 - val_accuracy: 0.7470\n",
      "Epoch 116/200\n",
      "30/30 [==============================] - 0s 9ms/step - loss: 0.7356 - accuracy: 0.7308 - val_loss: 0.6796 - val_accuracy: 0.7450\n",
      "Epoch 117/200\n",
      "30/30 [==============================] - 0s 8ms/step - loss: 0.7325 - accuracy: 0.7260 - val_loss: 0.6779 - val_accuracy: 0.7480\n",
      "Epoch 118/200\n",
      "30/30 [==============================] - 0s 9ms/step - loss: 0.7346 - accuracy: 0.7213 - val_loss: 0.6741 - val_accuracy: 0.7490\n",
      "Epoch 119/200\n",
      "30/30 [==============================] - 0s 8ms/step - loss: 0.7296 - accuracy: 0.7272 - val_loss: 0.6744 - val_accuracy: 0.7470\n",
      "Epoch 120/200\n",
      "30/30 [==============================] - 0s 8ms/step - loss: 0.7214 - accuracy: 0.7300 - val_loss: 0.6740 - val_accuracy: 0.7480\n",
      "Epoch 121/200\n",
      "30/30 [==============================] - 0s 8ms/step - loss: 0.7183 - accuracy: 0.7299 - val_loss: 0.6705 - val_accuracy: 0.7470\n",
      "Epoch 122/200\n",
      "30/30 [==============================] - 0s 8ms/step - loss: 0.7165 - accuracy: 0.7364 - val_loss: 0.6696 - val_accuracy: 0.7500\n",
      "Epoch 123/200\n",
      "30/30 [==============================] - 0s 8ms/step - loss: 0.7165 - accuracy: 0.7303 - val_loss: 0.6674 - val_accuracy: 0.7490\n",
      "Epoch 124/200\n",
      "30/30 [==============================] - 0s 8ms/step - loss: 0.7143 - accuracy: 0.7268 - val_loss: 0.6649 - val_accuracy: 0.7470\n",
      "Epoch 125/200\n",
      "30/30 [==============================] - 0s 8ms/step - loss: 0.7086 - accuracy: 0.7280 - val_loss: 0.6640 - val_accuracy: 0.7470\n",
      "Epoch 126/200\n",
      "30/30 [==============================] - 0s 8ms/step - loss: 0.6995 - accuracy: 0.7397 - val_loss: 0.6641 - val_accuracy: 0.7500\n",
      "Epoch 127/200\n",
      "30/30 [==============================] - 0s 8ms/step - loss: 0.6861 - accuracy: 0.7437 - val_loss: 0.6632 - val_accuracy: 0.7490\n",
      "Epoch 128/200\n",
      "30/30 [==============================] - 0s 8ms/step - loss: 0.7013 - accuracy: 0.7392 - val_loss: 0.6604 - val_accuracy: 0.7460\n",
      "Epoch 129/200\n",
      "30/30 [==============================] - 0s 9ms/step - loss: 0.6876 - accuracy: 0.7392 - val_loss: 0.6576 - val_accuracy: 0.7490\n",
      "Epoch 130/200\n",
      "30/30 [==============================] - 0s 8ms/step - loss: 0.6874 - accuracy: 0.7413 - val_loss: 0.6580 - val_accuracy: 0.7490\n",
      "Epoch 131/200\n",
      "30/30 [==============================] - 0s 9ms/step - loss: 0.6905 - accuracy: 0.7444 - val_loss: 0.6571 - val_accuracy: 0.7510\n",
      "Epoch 132/200\n",
      "30/30 [==============================] - 0s 8ms/step - loss: 0.6816 - accuracy: 0.7416 - val_loss: 0.6583 - val_accuracy: 0.7490\n",
      "Epoch 133/200\n",
      "30/30 [==============================] - 0s 9ms/step - loss: 0.6731 - accuracy: 0.7429 - val_loss: 0.6582 - val_accuracy: 0.7480\n",
      "Epoch 134/200\n",
      "30/30 [==============================] - 0s 8ms/step - loss: 0.6876 - accuracy: 0.7387 - val_loss: 0.6562 - val_accuracy: 0.7520\n",
      "Epoch 135/200\n",
      "30/30 [==============================] - 0s 9ms/step - loss: 0.6891 - accuracy: 0.7397 - val_loss: 0.6553 - val_accuracy: 0.7500\n",
      "Epoch 136/200\n",
      "30/30 [==============================] - 0s 9ms/step - loss: 0.6676 - accuracy: 0.7519 - val_loss: 0.6555 - val_accuracy: 0.7560\n",
      "Epoch 137/200\n",
      "30/30 [==============================] - 0s 9ms/step - loss: 0.6728 - accuracy: 0.7484 - val_loss: 0.6513 - val_accuracy: 0.7530\n",
      "Epoch 138/200\n",
      "30/30 [==============================] - 0s 8ms/step - loss: 0.6704 - accuracy: 0.7492 - val_loss: 0.6525 - val_accuracy: 0.7560\n",
      "Epoch 139/200\n",
      "30/30 [==============================] - 0s 9ms/step - loss: 0.6665 - accuracy: 0.7449 - val_loss: 0.6483 - val_accuracy: 0.7550\n",
      "Epoch 140/200\n",
      "30/30 [==============================] - 0s 8ms/step - loss: 0.6614 - accuracy: 0.7509 - val_loss: 0.6490 - val_accuracy: 0.7500\n",
      "Epoch 141/200\n",
      "30/30 [==============================] - 0s 9ms/step - loss: 0.6619 - accuracy: 0.7480 - val_loss: 0.6463 - val_accuracy: 0.7490\n",
      "Epoch 142/200\n",
      "30/30 [==============================] - 0s 8ms/step - loss: 0.6541 - accuracy: 0.7515 - val_loss: 0.6501 - val_accuracy: 0.7560\n",
      "Epoch 143/200\n",
      "30/30 [==============================] - 0s 9ms/step - loss: 0.6465 - accuracy: 0.7641 - val_loss: 0.6472 - val_accuracy: 0.7580\n",
      "Epoch 144/200\n",
      "30/30 [==============================] - 0s 9ms/step - loss: 0.6453 - accuracy: 0.7503 - val_loss: 0.6453 - val_accuracy: 0.7570\n",
      "Epoch 145/200\n",
      "30/30 [==============================] - 0s 7ms/step - loss: 0.6480 - accuracy: 0.7568 - val_loss: 0.6455 - val_accuracy: 0.7600\n",
      "Epoch 146/200\n",
      "30/30 [==============================] - 0s 8ms/step - loss: 0.6484 - accuracy: 0.7556 - val_loss: 0.6453 - val_accuracy: 0.7570\n",
      "Epoch 147/200\n",
      "30/30 [==============================] - 0s 9ms/step - loss: 0.6514 - accuracy: 0.7592 - val_loss: 0.6470 - val_accuracy: 0.7580\n",
      "Epoch 148/200\n",
      "30/30 [==============================] - 0s 8ms/step - loss: 0.6390 - accuracy: 0.7563 - val_loss: 0.6428 - val_accuracy: 0.7570\n",
      "Epoch 149/200\n",
      "30/30 [==============================] - 0s 7ms/step - loss: 0.6270 - accuracy: 0.7664 - val_loss: 0.6415 - val_accuracy: 0.7590\n",
      "Epoch 150/200\n",
      "30/30 [==============================] - 0s 8ms/step - loss: 0.6384 - accuracy: 0.7589 - val_loss: 0.6419 - val_accuracy: 0.7590\n",
      "Epoch 151/200\n",
      "30/30 [==============================] - 0s 9ms/step - loss: 0.6305 - accuracy: 0.7635 - val_loss: 0.6397 - val_accuracy: 0.7590\n",
      "Epoch 152/200\n",
      "30/30 [==============================] - 0s 9ms/step - loss: 0.6288 - accuracy: 0.7639 - val_loss: 0.6415 - val_accuracy: 0.7610\n",
      "Epoch 153/200\n",
      "30/30 [==============================] - 0s 7ms/step - loss: 0.6292 - accuracy: 0.7680 - val_loss: 0.6397 - val_accuracy: 0.7620\n",
      "Epoch 154/200\n",
      "30/30 [==============================] - 0s 7ms/step - loss: 0.6171 - accuracy: 0.7677 - val_loss: 0.6378 - val_accuracy: 0.7600\n",
      "Epoch 155/200\n",
      "30/30 [==============================] - 0s 6ms/step - loss: 0.6171 - accuracy: 0.7681 - val_loss: 0.6404 - val_accuracy: 0.7600\n",
      "Epoch 156/200\n",
      "30/30 [==============================] - 0s 6ms/step - loss: 0.6203 - accuracy: 0.7672 - val_loss: 0.6403 - val_accuracy: 0.7620\n",
      "Epoch 157/200\n",
      "30/30 [==============================] - 0s 8ms/step - loss: 0.6241 - accuracy: 0.7665 - val_loss: 0.6381 - val_accuracy: 0.7610\n",
      "Epoch 158/200\n",
      "30/30 [==============================] - 0s 7ms/step - loss: 0.6164 - accuracy: 0.7672 - val_loss: 0.6371 - val_accuracy: 0.7580\n",
      "Epoch 159/200\n",
      "30/30 [==============================] - 0s 8ms/step - loss: 0.6125 - accuracy: 0.7716 - val_loss: 0.6365 - val_accuracy: 0.7600\n",
      "Epoch 160/200\n",
      "30/30 [==============================] - 0s 9ms/step - loss: 0.6039 - accuracy: 0.7727 - val_loss: 0.6357 - val_accuracy: 0.7600\n",
      "Epoch 161/200\n",
      "30/30 [==============================] - 0s 9ms/step - loss: 0.6014 - accuracy: 0.7747 - val_loss: 0.6348 - val_accuracy: 0.7610\n",
      "Epoch 162/200\n",
      "30/30 [==============================] - 0s 8ms/step - loss: 0.6045 - accuracy: 0.7769 - val_loss: 0.6344 - val_accuracy: 0.7610\n",
      "Epoch 163/200\n",
      "30/30 [==============================] - 0s 7ms/step - loss: 0.5974 - accuracy: 0.7749 - val_loss: 0.6370 - val_accuracy: 0.7600\n",
      "Epoch 164/200\n",
      "30/30 [==============================] - 0s 7ms/step - loss: 0.5972 - accuracy: 0.7761 - val_loss: 0.6348 - val_accuracy: 0.7590\n",
      "Epoch 165/200\n",
      "30/30 [==============================] - 0s 6ms/step - loss: 0.5999 - accuracy: 0.7765 - val_loss: 0.6331 - val_accuracy: 0.7630\n",
      "Epoch 166/200\n",
      "30/30 [==============================] - 0s 6ms/step - loss: 0.6025 - accuracy: 0.7769 - val_loss: 0.6352 - val_accuracy: 0.7600\n",
      "Epoch 167/200\n",
      "30/30 [==============================] - 0s 6ms/step - loss: 0.5950 - accuracy: 0.7741 - val_loss: 0.6341 - val_accuracy: 0.7610\n",
      "Epoch 168/200\n",
      "30/30 [==============================] - 0s 6ms/step - loss: 0.5968 - accuracy: 0.7695 - val_loss: 0.6333 - val_accuracy: 0.7600\n",
      "Epoch 169/200\n",
      "30/30 [==============================] - 0s 6ms/step - loss: 0.5916 - accuracy: 0.7805 - val_loss: 0.6319 - val_accuracy: 0.7610\n",
      "Epoch 170/200\n",
      "30/30 [==============================] - 0s 6ms/step - loss: 0.5831 - accuracy: 0.7777 - val_loss: 0.6322 - val_accuracy: 0.7630\n",
      "Epoch 171/200\n",
      "30/30 [==============================] - 0s 7ms/step - loss: 0.5954 - accuracy: 0.7760 - val_loss: 0.6308 - val_accuracy: 0.7610\n",
      "Epoch 172/200\n",
      "30/30 [==============================] - 0s 6ms/step - loss: 0.5769 - accuracy: 0.7848 - val_loss: 0.6305 - val_accuracy: 0.7590\n",
      "Epoch 173/200\n",
      "30/30 [==============================] - 0s 6ms/step - loss: 0.5923 - accuracy: 0.7708 - val_loss: 0.6312 - val_accuracy: 0.7610\n",
      "Epoch 174/200\n",
      "30/30 [==============================] - 0s 6ms/step - loss: 0.5828 - accuracy: 0.7852 - val_loss: 0.6287 - val_accuracy: 0.7620\n",
      "Epoch 175/200\n",
      "30/30 [==============================] - 0s 6ms/step - loss: 0.5788 - accuracy: 0.7815 - val_loss: 0.6299 - val_accuracy: 0.7620\n",
      "Epoch 176/200\n",
      "30/30 [==============================] - 0s 8ms/step - loss: 0.5767 - accuracy: 0.7893 - val_loss: 0.6288 - val_accuracy: 0.7610\n",
      "Epoch 177/200\n",
      "30/30 [==============================] - 0s 7ms/step - loss: 0.5733 - accuracy: 0.7807 - val_loss: 0.6274 - val_accuracy: 0.7610\n",
      "Epoch 178/200\n",
      "30/30 [==============================] - 0s 7ms/step - loss: 0.5736 - accuracy: 0.7861 - val_loss: 0.6293 - val_accuracy: 0.7620\n",
      "Epoch 179/200\n",
      "30/30 [==============================] - 0s 7ms/step - loss: 0.5665 - accuracy: 0.7895 - val_loss: 0.6290 - val_accuracy: 0.7630\n",
      "Epoch 180/200\n",
      "30/30 [==============================] - 0s 6ms/step - loss: 0.5760 - accuracy: 0.7821 - val_loss: 0.6264 - val_accuracy: 0.7600\n",
      "Epoch 181/200\n",
      "30/30 [==============================] - 0s 6ms/step - loss: 0.5804 - accuracy: 0.7829 - val_loss: 0.6250 - val_accuracy: 0.7610\n",
      "Epoch 182/200\n",
      "30/30 [==============================] - 0s 8ms/step - loss: 0.5674 - accuracy: 0.7849 - val_loss: 0.6282 - val_accuracy: 0.7610\n",
      "Epoch 183/200\n",
      "30/30 [==============================] - 0s 7ms/step - loss: 0.5574 - accuracy: 0.7897 - val_loss: 0.6279 - val_accuracy: 0.7630\n",
      "Epoch 184/200\n",
      "30/30 [==============================] - 0s 8ms/step - loss: 0.5604 - accuracy: 0.7860 - val_loss: 0.6272 - val_accuracy: 0.7630\n",
      "Epoch 185/200\n",
      "30/30 [==============================] - 0s 8ms/step - loss: 0.5577 - accuracy: 0.7976 - val_loss: 0.6270 - val_accuracy: 0.7610\n",
      "Epoch 186/200\n",
      "30/30 [==============================] - 0s 8ms/step - loss: 0.5537 - accuracy: 0.7859 - val_loss: 0.6269 - val_accuracy: 0.7620\n",
      "Epoch 187/200\n",
      "30/30 [==============================] - 0s 8ms/step - loss: 0.5578 - accuracy: 0.7937 - val_loss: 0.6269 - val_accuracy: 0.7660\n",
      "Epoch 188/200\n",
      "30/30 [==============================] - 0s 9ms/step - loss: 0.5544 - accuracy: 0.7937 - val_loss: 0.6268 - val_accuracy: 0.7640\n",
      "Epoch 189/200\n",
      "30/30 [==============================] - 0s 8ms/step - loss: 0.5501 - accuracy: 0.7901 - val_loss: 0.6237 - val_accuracy: 0.7660\n",
      "Epoch 190/200\n",
      "30/30 [==============================] - 0s 8ms/step - loss: 0.5457 - accuracy: 0.7960 - val_loss: 0.6246 - val_accuracy: 0.7640\n",
      "Epoch 191/200\n",
      "30/30 [==============================] - 0s 8ms/step - loss: 0.5537 - accuracy: 0.7919 - val_loss: 0.6252 - val_accuracy: 0.7620\n",
      "Epoch 192/200\n",
      "30/30 [==============================] - 0s 7ms/step - loss: 0.5454 - accuracy: 0.7988 - val_loss: 0.6244 - val_accuracy: 0.7610\n",
      "Epoch 193/200\n",
      "30/30 [==============================] - 0s 7ms/step - loss: 0.5432 - accuracy: 0.7908 - val_loss: 0.6231 - val_accuracy: 0.7610\n",
      "Epoch 194/200\n",
      "30/30 [==============================] - 0s 7ms/step - loss: 0.5414 - accuracy: 0.7963 - val_loss: 0.6228 - val_accuracy: 0.7690\n",
      "Epoch 195/200\n",
      "30/30 [==============================] - 0s 8ms/step - loss: 0.5457 - accuracy: 0.7929 - val_loss: 0.6215 - val_accuracy: 0.7700\n",
      "Epoch 196/200\n",
      "30/30 [==============================] - 0s 8ms/step - loss: 0.5389 - accuracy: 0.8036 - val_loss: 0.6245 - val_accuracy: 0.7660\n",
      "Epoch 197/200\n",
      "30/30 [==============================] - 0s 7ms/step - loss: 0.5358 - accuracy: 0.8044 - val_loss: 0.6227 - val_accuracy: 0.7690\n",
      "Epoch 198/200\n",
      "30/30 [==============================] - 0s 7ms/step - loss: 0.5283 - accuracy: 0.8051 - val_loss: 0.6212 - val_accuracy: 0.7740\n",
      "Epoch 199/200\n",
      "30/30 [==============================] - 0s 8ms/step - loss: 0.5327 - accuracy: 0.7981 - val_loss: 0.6236 - val_accuracy: 0.7680\n",
      "Epoch 200/200\n",
      "30/30 [==============================] - 0s 8ms/step - loss: 0.5353 - accuracy: 0.7963 - val_loss: 0.6221 - val_accuracy: 0.7670\n"
     ]
    }
   ],
   "source": [
    "from keras.layers import Dropout\n",
    "model = Sequential()\n",
    "model.add(Dense(50, activation='relu', input_shape=(2000,))) #2 hidden layers\n",
    "model.add(Dropout(0.3))\n",
    "model.add(Dense(25, activation='relu'))\n",
    "model.add(Dropout(0.3))\n",
    "model.add(Dense(7, activation='softmax'))\n",
    "model.compile(optimizer='SGD',loss='categorical_crossentropy', metrics=['accuracy'])\n",
    "dropout_model = model.fit(train_final, label_train_final, epochs=200, batch_size=256,validation_data=(val, label_val))"
   ]
  },
  {
   "cell_type": "markdown",
   "metadata": {},
   "source": [
    "Now, let's check the results from `model.evaluate` to see how this change has affected our training. "
   ]
  },
  {
   "cell_type": "code",
   "execution_count": 66,
   "metadata": {
    "scrolled": true
   },
   "outputs": [
    {
     "name": "stdout",
     "output_type": "stream",
     "text": [
      "235/235 [==============================] - 0s 1ms/step - loss: 0.3704 - accuracy: 0.8681\n",
      "47/47 [==============================] - 0s 2ms/step - loss: 0.6097 - accuracy: 0.7693\n"
     ]
    }
   ],
   "source": [
    "results_train = model.evaluate(train_final, label_train_final)\n",
    "\n",
    "results_test = model.evaluate(test, label_test)"
   ]
  },
  {
   "cell_type": "code",
   "execution_count": 67,
   "metadata": {},
   "outputs": [
    {
     "data": {
      "text/plain": [
       "[0.3704076409339905, 0.8681333065032959]"
      ]
     },
     "execution_count": 67,
     "metadata": {},
     "output_type": "execute_result"
    }
   ],
   "source": [
    "results_train # Expected Results: [0.36925017188787462, 0.88026666666666664]"
   ]
  },
  {
   "cell_type": "code",
   "execution_count": 68,
   "metadata": {},
   "outputs": [
    {
     "data": {
      "text/plain": [
       "[0.6097486019134521, 0.7693333625793457]"
      ]
     },
     "execution_count": 68,
     "metadata": {},
     "output_type": "execute_result"
    }
   ],
   "source": [
    "results_test # Expected Results: [0.69210424280166627, 0.74333333365122478]"
   ]
  },
  {
   "cell_type": "markdown",
   "metadata": {},
   "source": [
    "You can see here that the validation performance has improved again! However, the variance did become higher again, compared to L1-regularization."
   ]
  },
  {
   "cell_type": "markdown",
   "metadata": {},
   "source": [
    "## 7.  More Training Data?"
   ]
  },
  {
   "cell_type": "markdown",
   "metadata": {},
   "source": [
    "Another solution to high variance is to just get more data. We actually *have* more data, but took a subset of 10,000 units before. Let's now quadruple our data set, and see what happens. Note that we are really just lucky here, and getting more data isn't always possible, but this is a useful exercise in order to understand the power of big data sets.\n",
    "\n",
    "Run the cell below to preprocess our entire dataset, instead of just working with a subset of the data.  "
   ]
  },
  {
   "cell_type": "code",
   "execution_count": 69,
   "metadata": {},
   "outputs": [],
   "source": [
    "df = pd.read_csv('Bank_complaints.csv')\n",
    "random.seed(123)\n",
    "df = df.sample(40000)\n",
    "df.index = range(40000)\n",
    "product = df[\"Product\"]\n",
    "complaints = df[\"Consumer complaint narrative\"]\n",
    "\n",
    "#one-hot encoding of the complaints\n",
    "tokenizer = Tokenizer(num_words=2000)\n",
    "tokenizer.fit_on_texts(complaints)\n",
    "sequences = tokenizer.texts_to_sequences(complaints)\n",
    "one_hot_results= tokenizer.texts_to_matrix(complaints, mode='binary')\n",
    "word_index = tokenizer.word_index\n",
    "np.shape(one_hot_results)\n",
    "\n",
    "#one-hot encoding of products\n",
    "le = preprocessing.LabelEncoder()\n",
    "le.fit(product)\n",
    "list(le.classes_)\n",
    "product_cat = le.transform(product) \n",
    "product_onehot = to_categorical(product_cat)\n",
    "\n",
    "# train test split\n",
    "test_index = random.sample(range(1,40000), 4000)\n",
    "test = one_hot_results[test_index]\n",
    "train = np.delete(one_hot_results, test_index, 0)\n",
    "label_test = product_onehot[test_index]\n",
    "label_train = np.delete(product_onehot, test_index, 0)\n",
    "\n",
    "#Validation set\n",
    "random.seed(123)\n",
    "val = train[:3000]\n",
    "train_final = train[3000:]\n",
    "label_val = label_train[:3000]\n",
    "label_train_final = label_train[3000:]"
   ]
  },
  {
   "cell_type": "markdown",
   "metadata": {},
   "source": [
    "Now, build the first model that we built, without any regularization or dropout layers included. \n",
    "\n",
    "Train this model for 120 epochs.  All other hyperparameters should stay the same.  Store the fitted model inside of `moredata_model`.  "
   ]
  },
  {
   "cell_type": "code",
   "execution_count": 70,
   "metadata": {},
   "outputs": [
    {
     "name": "stdout",
     "output_type": "stream",
     "text": [
      "Epoch 1/120\n",
      "129/129 [==============================] - 2s 8ms/step - loss: 1.9406 - accuracy: 0.1848 - val_loss: 1.9161 - val_accuracy: 0.2413\n",
      "Epoch 2/120\n",
      "129/129 [==============================] - 1s 5ms/step - loss: 1.8746 - accuracy: 0.2858 - val_loss: 1.8283 - val_accuracy: 0.3327\n",
      "Epoch 3/120\n",
      "129/129 [==============================] - 1s 6ms/step - loss: 1.7491 - accuracy: 0.3683 - val_loss: 1.6662 - val_accuracy: 0.4143\n",
      "Epoch 4/120\n",
      "129/129 [==============================] - 1s 5ms/step - loss: 1.5616 - accuracy: 0.4625 - val_loss: 1.4534 - val_accuracy: 0.5160\n",
      "Epoch 5/120\n",
      "129/129 [==============================] - 1s 5ms/step - loss: 1.3508 - accuracy: 0.5652 - val_loss: 1.2487 - val_accuracy: 0.6160\n",
      "Epoch 6/120\n",
      "129/129 [==============================] - 1s 5ms/step - loss: 1.1690 - accuracy: 0.6307 - val_loss: 1.0882 - val_accuracy: 0.6583\n",
      "Epoch 7/120\n",
      "129/129 [==============================] - 1s 5ms/step - loss: 1.0322 - accuracy: 0.6665 - val_loss: 0.9738 - val_accuracy: 0.6840\n",
      "Epoch 8/120\n",
      "129/129 [==============================] - 1s 5ms/step - loss: 0.9333 - accuracy: 0.6886 - val_loss: 0.8912 - val_accuracy: 0.7060\n",
      "Epoch 9/120\n",
      "129/129 [==============================] - 1s 4ms/step - loss: 0.8614 - accuracy: 0.7046 - val_loss: 0.8316 - val_accuracy: 0.7213\n",
      "Epoch 10/120\n",
      "129/129 [==============================] - 1s 4ms/step - loss: 0.8078 - accuracy: 0.7167 - val_loss: 0.7871 - val_accuracy: 0.7303\n",
      "Epoch 11/120\n",
      "129/129 [==============================] - 1s 4ms/step - loss: 0.7657 - accuracy: 0.7271 - val_loss: 0.7533 - val_accuracy: 0.7380\n",
      "Epoch 12/120\n",
      "129/129 [==============================] - 1s 4ms/step - loss: 0.7329 - accuracy: 0.7377 - val_loss: 0.7263 - val_accuracy: 0.7443\n",
      "Epoch 13/120\n",
      "129/129 [==============================] - 1s 4ms/step - loss: 0.7058 - accuracy: 0.7454 - val_loss: 0.7062 - val_accuracy: 0.7480\n",
      "Epoch 14/120\n",
      "129/129 [==============================] - 1s 4ms/step - loss: 0.6831 - accuracy: 0.7514 - val_loss: 0.6868 - val_accuracy: 0.7563\n",
      "Epoch 15/120\n",
      "129/129 [==============================] - 1s 5ms/step - loss: 0.6633 - accuracy: 0.7592 - val_loss: 0.6741 - val_accuracy: 0.7547\n",
      "Epoch 16/120\n",
      "129/129 [==============================] - 1s 5ms/step - loss: 0.6464 - accuracy: 0.7629 - val_loss: 0.6588 - val_accuracy: 0.7600\n",
      "Epoch 17/120\n",
      "129/129 [==============================] - 1s 5ms/step - loss: 0.6312 - accuracy: 0.7684 - val_loss: 0.6487 - val_accuracy: 0.7623\n",
      "Epoch 18/120\n",
      "129/129 [==============================] - 1s 5ms/step - loss: 0.6179 - accuracy: 0.7728 - val_loss: 0.6386 - val_accuracy: 0.7587\n",
      "Epoch 19/120\n",
      "129/129 [==============================] - 1s 6ms/step - loss: 0.6060 - accuracy: 0.7768 - val_loss: 0.6304 - val_accuracy: 0.7667\n",
      "Epoch 20/120\n",
      "129/129 [==============================] - 1s 5ms/step - loss: 0.5948 - accuracy: 0.7826 - val_loss: 0.6227 - val_accuracy: 0.7707\n",
      "Epoch 21/120\n",
      "129/129 [==============================] - 1s 6ms/step - loss: 0.5846 - accuracy: 0.7858 - val_loss: 0.6166 - val_accuracy: 0.7720\n",
      "Epoch 22/120\n",
      "129/129 [==============================] - 1s 6ms/step - loss: 0.5757 - accuracy: 0.7900 - val_loss: 0.6121 - val_accuracy: 0.7747\n",
      "Epoch 23/120\n",
      "129/129 [==============================] - 1s 6ms/step - loss: 0.5671 - accuracy: 0.7930 - val_loss: 0.6045 - val_accuracy: 0.7773\n",
      "Epoch 24/120\n",
      "129/129 [==============================] - 1s 5ms/step - loss: 0.5590 - accuracy: 0.7948 - val_loss: 0.6005 - val_accuracy: 0.7777\n",
      "Epoch 25/120\n",
      "129/129 [==============================] - 1s 6ms/step - loss: 0.5518 - accuracy: 0.7982 - val_loss: 0.5959 - val_accuracy: 0.7787\n",
      "Epoch 26/120\n",
      "129/129 [==============================] - 1s 5ms/step - loss: 0.5447 - accuracy: 0.8025 - val_loss: 0.5905 - val_accuracy: 0.7823\n",
      "Epoch 27/120\n",
      "129/129 [==============================] - 1s 5ms/step - loss: 0.5380 - accuracy: 0.8042 - val_loss: 0.5888 - val_accuracy: 0.7827\n",
      "Epoch 28/120\n",
      "129/129 [==============================] - 1s 6ms/step - loss: 0.5321 - accuracy: 0.8066 - val_loss: 0.5862 - val_accuracy: 0.7850\n",
      "Epoch 29/120\n",
      "129/129 [==============================] - 1s 6ms/step - loss: 0.5260 - accuracy: 0.8098 - val_loss: 0.5820 - val_accuracy: 0.7860\n",
      "Epoch 30/120\n",
      "129/129 [==============================] - 1s 5ms/step - loss: 0.5202 - accuracy: 0.8110 - val_loss: 0.5806 - val_accuracy: 0.7857\n",
      "Epoch 31/120\n",
      "129/129 [==============================] - 1s 4ms/step - loss: 0.5151 - accuracy: 0.8137 - val_loss: 0.5755 - val_accuracy: 0.7910\n",
      "Epoch 32/120\n",
      "129/129 [==============================] - 1s 4ms/step - loss: 0.5101 - accuracy: 0.8159 - val_loss: 0.5736 - val_accuracy: 0.7897\n",
      "Epoch 33/120\n",
      "129/129 [==============================] - 1s 5ms/step - loss: 0.5048 - accuracy: 0.8166 - val_loss: 0.5703 - val_accuracy: 0.7913\n",
      "Epoch 34/120\n",
      "129/129 [==============================] - 1s 4ms/step - loss: 0.4997 - accuracy: 0.8205 - val_loss: 0.5682 - val_accuracy: 0.7913\n",
      "Epoch 35/120\n",
      "129/129 [==============================] - 1s 4ms/step - loss: 0.4951 - accuracy: 0.8225 - val_loss: 0.5672 - val_accuracy: 0.7933\n",
      "Epoch 36/120\n",
      "129/129 [==============================] - 1s 4ms/step - loss: 0.4910 - accuracy: 0.8227 - val_loss: 0.5661 - val_accuracy: 0.7937\n",
      "Epoch 37/120\n",
      "129/129 [==============================] - 1s 4ms/step - loss: 0.4862 - accuracy: 0.8251 - val_loss: 0.5628 - val_accuracy: 0.7943\n",
      "Epoch 38/120\n",
      "129/129 [==============================] - 1s 4ms/step - loss: 0.4823 - accuracy: 0.8265 - val_loss: 0.5612 - val_accuracy: 0.7947\n",
      "Epoch 39/120\n",
      "129/129 [==============================] - 1s 5ms/step - loss: 0.4783 - accuracy: 0.8286 - val_loss: 0.5627 - val_accuracy: 0.7900\n",
      "Epoch 40/120\n",
      "129/129 [==============================] - 1s 6ms/step - loss: 0.4741 - accuracy: 0.8305 - val_loss: 0.5589 - val_accuracy: 0.7947\n",
      "Epoch 41/120\n",
      "129/129 [==============================] - 1s 4ms/step - loss: 0.4704 - accuracy: 0.8312 - val_loss: 0.5584 - val_accuracy: 0.7933\n",
      "Epoch 42/120\n",
      "129/129 [==============================] - 1s 6ms/step - loss: 0.4666 - accuracy: 0.8328 - val_loss: 0.5577 - val_accuracy: 0.7933\n",
      "Epoch 43/120\n",
      "129/129 [==============================] - 1s 5ms/step - loss: 0.4632 - accuracy: 0.8338 - val_loss: 0.5573 - val_accuracy: 0.7923\n",
      "Epoch 44/120\n",
      "129/129 [==============================] - 1s 6ms/step - loss: 0.4596 - accuracy: 0.8362 - val_loss: 0.5550 - val_accuracy: 0.7950\n",
      "Epoch 45/120\n",
      "129/129 [==============================] - 1s 6ms/step - loss: 0.4558 - accuracy: 0.8375 - val_loss: 0.5566 - val_accuracy: 0.7913\n",
      "Epoch 46/120\n",
      "129/129 [==============================] - 1s 6ms/step - loss: 0.4528 - accuracy: 0.8381 - val_loss: 0.5544 - val_accuracy: 0.7947\n",
      "Epoch 47/120\n",
      "129/129 [==============================] - 1s 6ms/step - loss: 0.4493 - accuracy: 0.8399 - val_loss: 0.5523 - val_accuracy: 0.7947\n",
      "Epoch 48/120\n",
      "129/129 [==============================] - 1s 6ms/step - loss: 0.4463 - accuracy: 0.8401 - val_loss: 0.5511 - val_accuracy: 0.7953\n",
      "Epoch 49/120\n",
      "129/129 [==============================] - 1s 6ms/step - loss: 0.4430 - accuracy: 0.8424 - val_loss: 0.5504 - val_accuracy: 0.7950\n",
      "Epoch 50/120\n",
      "129/129 [==============================] - 1s 6ms/step - loss: 0.4399 - accuracy: 0.8422 - val_loss: 0.5515 - val_accuracy: 0.7940\n",
      "Epoch 51/120\n",
      "129/129 [==============================] - 1s 6ms/step - loss: 0.4371 - accuracy: 0.8445 - val_loss: 0.5498 - val_accuracy: 0.7970\n",
      "Epoch 52/120\n",
      "129/129 [==============================] - 1s 6ms/step - loss: 0.4344 - accuracy: 0.8449 - val_loss: 0.5488 - val_accuracy: 0.7977\n",
      "Epoch 53/120\n",
      "129/129 [==============================] - 1s 6ms/step - loss: 0.4313 - accuracy: 0.8462 - val_loss: 0.5482 - val_accuracy: 0.7953\n",
      "Epoch 54/120\n",
      "129/129 [==============================] - 1s 6ms/step - loss: 0.4284 - accuracy: 0.8474 - val_loss: 0.5481 - val_accuracy: 0.7990\n",
      "Epoch 55/120\n",
      "129/129 [==============================] - 1s 5ms/step - loss: 0.4259 - accuracy: 0.8483 - val_loss: 0.5510 - val_accuracy: 0.7963\n",
      "Epoch 56/120\n",
      "129/129 [==============================] - 1s 5ms/step - loss: 0.4231 - accuracy: 0.8497 - val_loss: 0.5501 - val_accuracy: 0.7957\n",
      "Epoch 57/120\n",
      "129/129 [==============================] - 1s 4ms/step - loss: 0.4203 - accuracy: 0.8497 - val_loss: 0.5471 - val_accuracy: 0.7993\n",
      "Epoch 58/120\n",
      "129/129 [==============================] - 1s 4ms/step - loss: 0.4176 - accuracy: 0.8509 - val_loss: 0.5487 - val_accuracy: 0.7977\n",
      "Epoch 59/120\n",
      "129/129 [==============================] - 1s 4ms/step - loss: 0.4152 - accuracy: 0.8522 - val_loss: 0.5475 - val_accuracy: 0.8013\n",
      "Epoch 60/120\n",
      "129/129 [==============================] - 1s 5ms/step - loss: 0.4128 - accuracy: 0.8541 - val_loss: 0.5499 - val_accuracy: 0.7970\n",
      "Epoch 61/120\n",
      "129/129 [==============================] - 1s 4ms/step - loss: 0.4106 - accuracy: 0.8546 - val_loss: 0.5526 - val_accuracy: 0.7983\n",
      "Epoch 62/120\n",
      "129/129 [==============================] - 1s 5ms/step - loss: 0.4079 - accuracy: 0.8553 - val_loss: 0.5469 - val_accuracy: 0.8007\n",
      "Epoch 63/120\n",
      "129/129 [==============================] - 1s 6ms/step - loss: 0.4055 - accuracy: 0.8557 - val_loss: 0.5498 - val_accuracy: 0.7980\n",
      "Epoch 64/120\n",
      "129/129 [==============================] - 1s 6ms/step - loss: 0.4033 - accuracy: 0.8579 - val_loss: 0.5469 - val_accuracy: 0.8013\n",
      "Epoch 65/120\n",
      "129/129 [==============================] - 1s 6ms/step - loss: 0.4012 - accuracy: 0.8585 - val_loss: 0.5485 - val_accuracy: 0.7997\n",
      "Epoch 66/120\n",
      "129/129 [==============================] - 1s 6ms/step - loss: 0.3987 - accuracy: 0.8593 - val_loss: 0.5498 - val_accuracy: 0.7990\n",
      "Epoch 67/120\n",
      "129/129 [==============================] - 1s 6ms/step - loss: 0.3965 - accuracy: 0.8587 - val_loss: 0.5474 - val_accuracy: 0.8007\n",
      "Epoch 68/120\n",
      "129/129 [==============================] - 1s 7ms/step - loss: 0.3946 - accuracy: 0.8603 - val_loss: 0.5490 - val_accuracy: 0.8023\n",
      "Epoch 69/120\n",
      "129/129 [==============================] - 1s 6ms/step - loss: 0.3924 - accuracy: 0.8611 - val_loss: 0.5476 - val_accuracy: 0.8023\n",
      "Epoch 70/120\n",
      "129/129 [==============================] - 1s 6ms/step - loss: 0.3903 - accuracy: 0.8616 - val_loss: 0.5480 - val_accuracy: 0.8033\n",
      "Epoch 71/120\n",
      "129/129 [==============================] - 1s 6ms/step - loss: 0.3882 - accuracy: 0.8626 - val_loss: 0.5494 - val_accuracy: 0.8000\n",
      "Epoch 72/120\n",
      "129/129 [==============================] - 1s 6ms/step - loss: 0.3864 - accuracy: 0.8638 - val_loss: 0.5507 - val_accuracy: 0.8010\n",
      "Epoch 73/120\n",
      "129/129 [==============================] - 1s 6ms/step - loss: 0.3842 - accuracy: 0.8640 - val_loss: 0.5487 - val_accuracy: 0.8027\n",
      "Epoch 74/120\n",
      "129/129 [==============================] - 1s 6ms/step - loss: 0.3823 - accuracy: 0.8648 - val_loss: 0.5499 - val_accuracy: 0.8057\n",
      "Epoch 75/120\n",
      "129/129 [==============================] - 1s 6ms/step - loss: 0.3799 - accuracy: 0.8659 - val_loss: 0.5578 - val_accuracy: 0.7967\n",
      "Epoch 76/120\n",
      "129/129 [==============================] - 1s 6ms/step - loss: 0.3782 - accuracy: 0.8656 - val_loss: 0.5511 - val_accuracy: 0.8027\n",
      "Epoch 77/120\n",
      "129/129 [==============================] - 1s 6ms/step - loss: 0.3766 - accuracy: 0.8673 - val_loss: 0.5497 - val_accuracy: 0.8047\n",
      "Epoch 78/120\n",
      "129/129 [==============================] - 1s 5ms/step - loss: 0.3749 - accuracy: 0.8668 - val_loss: 0.5525 - val_accuracy: 0.8017\n",
      "Epoch 79/120\n",
      "129/129 [==============================] - 1s 4ms/step - loss: 0.3729 - accuracy: 0.8684 - val_loss: 0.5516 - val_accuracy: 0.8030\n",
      "Epoch 80/120\n",
      "129/129 [==============================] - 1s 4ms/step - loss: 0.3706 - accuracy: 0.8688 - val_loss: 0.5544 - val_accuracy: 0.8020\n",
      "Epoch 81/120\n",
      "129/129 [==============================] - 1s 4ms/step - loss: 0.3692 - accuracy: 0.8696 - val_loss: 0.5521 - val_accuracy: 0.8037\n",
      "Epoch 82/120\n",
      "129/129 [==============================] - 1s 4ms/step - loss: 0.3673 - accuracy: 0.8702 - val_loss: 0.5539 - val_accuracy: 0.8017\n",
      "Epoch 83/120\n",
      "129/129 [==============================] - 1s 4ms/step - loss: 0.3660 - accuracy: 0.8710 - val_loss: 0.5519 - val_accuracy: 0.8050\n",
      "Epoch 84/120\n",
      "129/129 [==============================] - 1s 5ms/step - loss: 0.3637 - accuracy: 0.8714 - val_loss: 0.5533 - val_accuracy: 0.8013\n",
      "Epoch 85/120\n",
      "129/129 [==============================] - 1s 6ms/step - loss: 0.3622 - accuracy: 0.8720 - val_loss: 0.5554 - val_accuracy: 0.8043\n",
      "Epoch 86/120\n",
      "129/129 [==============================] - 1s 6ms/step - loss: 0.3607 - accuracy: 0.8732 - val_loss: 0.5560 - val_accuracy: 0.8040\n",
      "Epoch 87/120\n",
      "129/129 [==============================] - 1s 6ms/step - loss: 0.3591 - accuracy: 0.8736 - val_loss: 0.5561 - val_accuracy: 0.8050\n",
      "Epoch 88/120\n",
      "129/129 [==============================] - 1s 6ms/step - loss: 0.3574 - accuracy: 0.8744 - val_loss: 0.5560 - val_accuracy: 0.8023\n",
      "Epoch 89/120\n",
      "129/129 [==============================] - 1s 6ms/step - loss: 0.3556 - accuracy: 0.8748 - val_loss: 0.5597 - val_accuracy: 0.8030\n",
      "Epoch 90/120\n",
      "129/129 [==============================] - 1s 6ms/step - loss: 0.3541 - accuracy: 0.8762 - val_loss: 0.5570 - val_accuracy: 0.8030\n",
      "Epoch 91/120\n",
      "129/129 [==============================] - 1s 6ms/step - loss: 0.3526 - accuracy: 0.8754 - val_loss: 0.5588 - val_accuracy: 0.8043\n",
      "Epoch 92/120\n",
      "129/129 [==============================] - 1s 6ms/step - loss: 0.3510 - accuracy: 0.8766 - val_loss: 0.5573 - val_accuracy: 0.8020\n",
      "Epoch 93/120\n",
      "129/129 [==============================] - 1s 6ms/step - loss: 0.3494 - accuracy: 0.8771 - val_loss: 0.5573 - val_accuracy: 0.8027\n",
      "Epoch 94/120\n",
      "129/129 [==============================] - 1s 6ms/step - loss: 0.3478 - accuracy: 0.8779 - val_loss: 0.5618 - val_accuracy: 0.8020\n",
      "Epoch 95/120\n",
      "129/129 [==============================] - 1s 6ms/step - loss: 0.3464 - accuracy: 0.8772 - val_loss: 0.5599 - val_accuracy: 0.8010\n",
      "Epoch 96/120\n",
      "129/129 [==============================] - 1s 6ms/step - loss: 0.3449 - accuracy: 0.8791 - val_loss: 0.5613 - val_accuracy: 0.8013\n",
      "Epoch 97/120\n",
      "129/129 [==============================] - 1s 6ms/step - loss: 0.3436 - accuracy: 0.8792 - val_loss: 0.5612 - val_accuracy: 0.8013\n",
      "Epoch 98/120\n",
      "129/129 [==============================] - 1s 6ms/step - loss: 0.3420 - accuracy: 0.8798 - val_loss: 0.5646 - val_accuracy: 0.8017\n",
      "Epoch 99/120\n",
      "129/129 [==============================] - 1s 6ms/step - loss: 0.3407 - accuracy: 0.8802 - val_loss: 0.5636 - val_accuracy: 0.8010\n",
      "Epoch 100/120\n",
      "129/129 [==============================] - 1s 5ms/step - loss: 0.3391 - accuracy: 0.8808 - val_loss: 0.5680 - val_accuracy: 0.8030\n",
      "Epoch 101/120\n",
      "129/129 [==============================] - 1s 5ms/step - loss: 0.3378 - accuracy: 0.8808 - val_loss: 0.5678 - val_accuracy: 0.8003\n",
      "Epoch 102/120\n",
      "129/129 [==============================] - 1s 4ms/step - loss: 0.3368 - accuracy: 0.8812 - val_loss: 0.5683 - val_accuracy: 0.8000\n",
      "Epoch 103/120\n",
      "129/129 [==============================] - 1s 4ms/step - loss: 0.3352 - accuracy: 0.8825 - val_loss: 0.5680 - val_accuracy: 0.8007\n",
      "Epoch 104/120\n",
      "129/129 [==============================] - 1s 4ms/step - loss: 0.3339 - accuracy: 0.8817 - val_loss: 0.5669 - val_accuracy: 0.8007\n",
      "Epoch 105/120\n",
      "129/129 [==============================] - 1s 5ms/step - loss: 0.3321 - accuracy: 0.8826 - val_loss: 0.5708 - val_accuracy: 0.7973\n",
      "Epoch 106/120\n",
      "129/129 [==============================] - 1s 4ms/step - loss: 0.3315 - accuracy: 0.8828 - val_loss: 0.5676 - val_accuracy: 0.7987\n",
      "Epoch 107/120\n",
      "129/129 [==============================] - 1s 5ms/step - loss: 0.3292 - accuracy: 0.8845 - val_loss: 0.5730 - val_accuracy: 0.8023\n",
      "Epoch 108/120\n",
      "129/129 [==============================] - 1s 6ms/step - loss: 0.3285 - accuracy: 0.8835 - val_loss: 0.5689 - val_accuracy: 0.7993\n",
      "Epoch 109/120\n",
      "129/129 [==============================] - 1s 6ms/step - loss: 0.3268 - accuracy: 0.8851 - val_loss: 0.5772 - val_accuracy: 0.8013\n",
      "Epoch 110/120\n",
      "129/129 [==============================] - 1s 6ms/step - loss: 0.3257 - accuracy: 0.8852 - val_loss: 0.5751 - val_accuracy: 0.8027\n",
      "Epoch 111/120\n",
      "129/129 [==============================] - 1s 5ms/step - loss: 0.3244 - accuracy: 0.8854 - val_loss: 0.5724 - val_accuracy: 0.7987\n",
      "Epoch 112/120\n",
      "129/129 [==============================] - 1s 6ms/step - loss: 0.3233 - accuracy: 0.8856 - val_loss: 0.5735 - val_accuracy: 0.7980\n",
      "Epoch 113/120\n",
      "129/129 [==============================] - 1s 6ms/step - loss: 0.3219 - accuracy: 0.8860 - val_loss: 0.5741 - val_accuracy: 0.7990\n",
      "Epoch 114/120\n",
      "129/129 [==============================] - 1s 6ms/step - loss: 0.3206 - accuracy: 0.8868 - val_loss: 0.5779 - val_accuracy: 0.8023\n",
      "Epoch 115/120\n",
      "129/129 [==============================] - 1s 6ms/step - loss: 0.3193 - accuracy: 0.8873 - val_loss: 0.5783 - val_accuracy: 0.8010\n",
      "Epoch 116/120\n",
      "129/129 [==============================] - 1s 6ms/step - loss: 0.3183 - accuracy: 0.8879 - val_loss: 0.5752 - val_accuracy: 0.7973\n",
      "Epoch 117/120\n",
      "129/129 [==============================] - 1s 6ms/step - loss: 0.3170 - accuracy: 0.8882 - val_loss: 0.5777 - val_accuracy: 0.7977\n",
      "Epoch 118/120\n",
      "129/129 [==============================] - 1s 6ms/step - loss: 0.3159 - accuracy: 0.8890 - val_loss: 0.5823 - val_accuracy: 0.8017\n",
      "Epoch 119/120\n",
      "129/129 [==============================] - 1s 6ms/step - loss: 0.3144 - accuracy: 0.8893 - val_loss: 0.5787 - val_accuracy: 0.7953\n",
      "Epoch 120/120\n",
      "129/129 [==============================] - 1s 6ms/step - loss: 0.3134 - accuracy: 0.8893 - val_loss: 0.5844 - val_accuracy: 0.7967\n"
     ]
    }
   ],
   "source": [
    "model = Sequential()\n",
    "model.add(Dense(50, activation='relu', input_shape=(2000,))) #2 hidden layers\n",
    "model.add(Dense(25, activation='relu'))\n",
    "model.add(Dense(7, activation='softmax'))\n",
    "model.compile(optimizer='SGD', loss='categorical_crossentropy', metrics=['accuracy'])\n",
    "\n",
    "moredata_model = model.fit(train_final, label_train_final, epochs=120, batch_size=256, validation_data=(val, label_val))"
   ]
  },
  {
   "cell_type": "markdown",
   "metadata": {},
   "source": [
    "Now, finally, let's check the results returned from `model.evaluate()` to see how this model stacks up with the other techniques we've used.  "
   ]
  },
  {
   "cell_type": "code",
   "execution_count": 71,
   "metadata": {},
   "outputs": [
    {
     "name": "stdout",
     "output_type": "stream",
     "text": [
      "1032/1032 [==============================] - 2s 1ms/step - loss: 0.3094 - accuracy: 0.8918\n",
      "125/125 [==============================] - 0s 2ms/step - loss: 0.6293 - accuracy: 0.7905\n"
     ]
    }
   ],
   "source": [
    "results_train = model.evaluate(train_final, label_train_final)\n",
    "\n",
    "results_test = model.evaluate(test, label_test)"
   ]
  },
  {
   "cell_type": "code",
   "execution_count": 72,
   "metadata": {},
   "outputs": [
    {
     "data": {
      "text/plain": [
       "[0.3094480633735657, 0.8918485045433044]"
      ]
     },
     "execution_count": 72,
     "metadata": {},
     "output_type": "execute_result"
    }
   ],
   "source": [
    "results_train # Expected Output:  [0.31160746300942971, 0.89160606060606062]"
   ]
  },
  {
   "cell_type": "code",
   "execution_count": 73,
   "metadata": {},
   "outputs": [
    {
     "data": {
      "text/plain": [
       "[0.6293175220489502, 0.7904999852180481]"
      ]
     },
     "execution_count": 73,
     "metadata": {},
     "output_type": "execute_result"
    }
   ],
   "source": [
    "results_test # Expected Output: [0.56076071488857271, 0.8145]"
   ]
  },
  {
   "cell_type": "markdown",
   "metadata": {},
   "source": [
    "With the same amount of epochs, we were able to get a fairly similar validation accuracy of 89.1%. Our test set accuracy went up from ~75% to a staggering 81.45% though, without any other regularization technique. You can still consider early stopping, L1, L2 and dropout here. It's clear that having more data has a strong impact on model performance!"
   ]
  },
  {
   "cell_type": "markdown",
   "metadata": {},
   "source": [
    "## Sources"
   ]
  },
  {
   "cell_type": "markdown",
   "metadata": {},
   "source": [
    "https://github.com/susanli2016/Machine-Learning-with-Python/blob/master/Consumer_complaints.ipynb"
   ]
  },
  {
   "cell_type": "markdown",
   "metadata": {},
   "source": [
    "https://catalog.data.gov/dataset/consumer-complaint-database"
   ]
  },
  {
   "cell_type": "markdown",
   "metadata": {},
   "source": [
    "## Further reading"
   ]
  },
  {
   "cell_type": "markdown",
   "metadata": {},
   "source": [
    "https://machinelearningmastery.com/dropout-regularization-deep-learning-models-keras/"
   ]
  }
 ],
 "metadata": {
  "kernelspec": {
   "display_name": "Python 3 (ipykernel)",
   "language": "python",
   "name": "python3"
  },
  "language_info": {
   "codemirror_mode": {
    "name": "ipython",
    "version": 3
   },
   "file_extension": ".py",
   "mimetype": "text/x-python",
   "name": "python",
   "nbconvert_exporter": "python",
   "pygments_lexer": "ipython3",
   "version": "3.9.12"
  }
 },
 "nbformat": 4,
 "nbformat_minor": 4
}
